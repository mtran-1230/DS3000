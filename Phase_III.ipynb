{
 "cells": [
  {
   "cell_type": "markdown",
   "id": "8aa93144-0a7a-4a12-95e4-36b59d922d8e",
   "metadata": {},
   "source": [
    "# Phase III: First ML Proof of Concept (5\\%)\n",
    "\n",
    "### Team Names:\n",
    "-\n",
    "-\n",
    "-"
   ]
  },
  {
   "cell_type": "markdown",
   "id": "d4d0d7eb-a38b-4c8a-bc48-3a8b5924519f",
   "metadata": {},
   "source": [
    "## Part 1\n",
    "(3%) The implementation (using NumPy) of your first ML model as a function call to the cleaned data"
   ]
  },
  {
   "cell_type": "code",
   "execution_count": 1,
   "id": "672ef740",
   "metadata": {},
   "outputs": [],
   "source": [
    "import numpy as np\n",
    "import pandas as pd\n",
    "import seaborn as sns\n",
    "import matplotlib.pyplot as plt\n",
    "import plotly.express as px\n",
    "import sklearn.model_selection"
   ]
  },
  {
   "cell_type": "markdown",
   "id": "70802143",
   "metadata": {},
   "source": [
    "Possible ML Ideas:\n",
    "- How financially successful will a movie be? \n",
    "    - Genre (limit to the first in the list), MPAA, Review score (ratings), country \n"
   ]
  },
  {
   "cell_type": "code",
   "execution_count": 2,
   "id": "7bb3c69e",
   "metadata": {},
   "outputs": [],
   "source": [
    "from sklearn.linear_model import LinearRegression\n",
    "\n",
    "def line_of_best_fit(X, y):\n",
    "    \"\"\"\n",
    "    Returns slope and intercept of a line of best fit.\n",
    "    \n",
    "    Args:\n",
    "        X (array): can be either 1-d or 2-d\n",
    "        y (array): a 1-d array including all corresponding response values to X\n",
    "        \n",
    "    Returns:\n",
    "        vector (array): vector containing the coefficients for line of best fit; first term is intercept, the second is slope\n",
    "    \"\"\"\n",
    "\n",
    "    new_x = add_bias_column(X)  \n",
    "    model = LinearRegression(fit_intercept=False)  \n",
    "    model.fit(new_x, y)\n",
    "\n",
    "    intercept = model.coef_[0].tolist()\n",
    "    slope = model.coef_[1:].tolist()\n",
    "    coefficients = [intercept] + slope\n",
    "    vector = [coefficients][0]\n",
    "    return vector"
   ]
  },
  {
   "cell_type": "code",
   "execution_count": 3,
   "id": "2e545b8a",
   "metadata": {},
   "outputs": [],
   "source": [
    "from sklearn.metrics import r2_score\n",
    "from sklearn.metrics import mean_squared_error\n",
    "\n",
    "def linreg_predict(Xnew, ynew, m):\n",
    "    \"\"\"\n",
    "    Args:\n",
    "        Xnew (array): either a 1-d or 2-d array\n",
    "        ynew (array): 1-d array \n",
    "        m (array): 1-d array contains coefficients from the line_of_best_fit function\n",
    "\n",
    "    Returns:\n",
    "        dct (dictionary): contains four key-value pairs\n",
    "            - ypreds: predicted values from applying m to Xnew\n",
    "            - resids: the residuals, the differences between ynew and ypreds\n",
    "            - mse: mean squared error\n",
    "            - r2: coefficient of determination\n",
    "    \"\"\"\n",
    "    x = add_bias_column(Xnew)\n",
    "    ypreds = x.dot(m)\n",
    "    resids = ynew - ypreds\n",
    "    mse = mean_squared_error(ynew, ypreds)\n",
    "    r2 = r2_score(ynew, ypreds)\n",
    "    \n",
    "    dct =  {\n",
    "        'ypreds': ypreds,\n",
    "        'resids': resids,\n",
    "        'mse': mse,\n",
    "        'r2': r2\n",
    "    }\n",
    "    return dct"
   ]
  },
  {
   "cell_type": "markdown",
   "id": "57c0cf99-6f28-4531-b44a-a97fce6abd7f",
   "metadata": {},
   "source": [
    "## Part 2\n",
    "(2%) A discussion of the preliminary results:\n",
    "   - This may include checking of assumptions, generated plots/tables, measures of fit, or other attributes of the analysis\n",
    "   - It does not have to be fully correct, but as a proof of concept must demonstrate that the group is close to completing the analysis"
   ]
  }
 ],
 "metadata": {
  "kernelspec": {
   "display_name": "base",
   "language": "python",
   "name": "python3"
  },
  "language_info": {
   "codemirror_mode": {
    "name": "ipython",
    "version": 3
   },
   "file_extension": ".py",
   "mimetype": "text/x-python",
   "name": "python",
   "nbconvert_exporter": "python",
   "pygments_lexer": "ipython3",
   "version": "3.10.14"
  }
 },
 "nbformat": 4,
 "nbformat_minor": 5
}
