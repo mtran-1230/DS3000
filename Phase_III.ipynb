{
 "cells": [
  {
   "cell_type": "markdown",
   "id": "8aa93144-0a7a-4a12-95e4-36b59d922d8e",
   "metadata": {},
   "source": [
    "# Phase III: First ML Proof of Concept (5\\%)\n",
    "\n",
    "### Team Names:\n",
    "-\n",
    "-\n",
    "-"
   ]
  },
  {
   "cell_type": "markdown",
   "id": "d4d0d7eb-a38b-4c8a-bc48-3a8b5924519f",
   "metadata": {},
   "source": [
    "## Part 1\n",
    "(3%) The implementation (using NumPy) of your first ML model as a function call to the cleaned data"
   ]
  },
  {
   "cell_type": "markdown",
   "id": "57c0cf99-6f28-4531-b44a-a97fce6abd7f",
   "metadata": {},
   "source": [
    "## Part 2\n",
    "(2%) A discussion of the preliminary results:\n",
    "   - This may include checking of assumptions, generated plots/tables, measures of fit, or other attributes of the analysis\n",
    "   - It does not have to be fully correct, but as a proof of concept must demonstrate that the group is close to completing the analysis"
   ]
  }
 ],
 "metadata": {
  "kernelspec": {
   "display_name": "Python 3 (ipykernel)",
   "language": "python",
   "name": "python3"
  },
  "language_info": {
   "codemirror_mode": {
    "name": "ipython",
    "version": 3
   },
   "file_extension": ".py",
   "mimetype": "text/x-python",
   "name": "python",
   "nbconvert_exporter": "python",
   "pygments_lexer": "ipython3",
   "version": "3.13.0"
  }
 },
 "nbformat": 4,
 "nbformat_minor": 5
}
