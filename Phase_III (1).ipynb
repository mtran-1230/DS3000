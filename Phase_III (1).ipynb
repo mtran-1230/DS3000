{
 "cells": [
  {
   "cell_type": "markdown",
   "id": "8aa93144-0a7a-4a12-95e4-36b59d922d8e",
   "metadata": {},
   "source": [
    "# Phase III: First ML Proof of Concept (5\\%)\n",
    "\n",
    "### Team Names:\n",
    "- Sabrina Valerjev\n",
    "- Logan Lary\n",
    "- Mark Tran"
   ]
  },
  {
   "cell_type": "markdown",
   "id": "d4d0d7eb-a38b-4c8a-bc48-3a8b5924519f",
   "metadata": {},
   "source": [
    "## Part 1\n",
    "(3%) The implementation (using NumPy) of your first ML model as a function call to the cleaned data"
   ]
  },
  {
   "cell_type": "code",
   "execution_count": 1,
   "id": "672ef740",
   "metadata": {},
   "outputs": [],
   "source": [
    "import numpy as np\n",
    "import pandas as pd\n",
    "import seaborn as sns\n",
    "import matplotlib.pyplot as plt\n",
    "import plotly.express as px\n",
    "import sklearn.model_selection\n",
    "from sklearn.impute import SimpleImputer\n",
    "from sklearn.linear_model import LinearRegression\n",
    "from sklearn.metrics import r2_score, mean_squared_error\n",
    "from sklearn.model_selection import train_test_split"
   ]
  },
  {
   "cell_type": "markdown",
   "id": "70802143",
   "metadata": {},
   "source": [
    "Possible ML Ideas:\n",
    "- How financially successful will a movie be? \n",
    "    - Genre (limit to the first in the list), MPAA, Review score (ratings), country \n"
   ]
  },
  {
   "cell_type": "code",
   "execution_count": 2,
   "id": "2e674380",
   "metadata": {},
   "outputs": [
    {
     "name": "stdout",
     "output_type": "stream",
     "text": [
      "Index(['Title', 'Year', 'Rated', 'Released', 'Runtime', 'Genre', 'Director',\n",
      "       'Writer', 'Actors', 'Plot', 'Language', 'Country', 'Awards', 'Poster',\n",
      "       'Ratings', 'Metascore', 'imdbRating', 'imdbVotes', 'imdbID', 'Type',\n",
      "       'DVD', 'BoxOffice', 'Production', 'Website', 'Response', 'Error',\n",
      "       'totalSeasons', 'Rank', 'Worldwide', 'Domestic', '%', 'Foreign', '%.1',\n",
      "       'Rating', 'Popularity', 'Keywords', 'Ratings Amount'],\n",
      "      dtype='object')\n"
     ]
    }
   ],
   "source": [
    "dataframe = pd.read_csv(\"final_merged_movie_data.csv\")\n",
    "print(dataframe.columns)"
   ]
  },
  {
   "cell_type": "code",
   "execution_count": 3,
   "id": "3f154789",
   "metadata": {},
   "outputs": [
    {
     "data": {
      "text/html": [
       "<div>\n",
       "<style scoped>\n",
       "    .dataframe tbody tr th:only-of-type {\n",
       "        vertical-align: middle;\n",
       "    }\n",
       "\n",
       "    .dataframe tbody tr th {\n",
       "        vertical-align: top;\n",
       "    }\n",
       "\n",
       "    .dataframe thead th {\n",
       "        text-align: right;\n",
       "    }\n",
       "</style>\n",
       "<table border=\"1\" class=\"dataframe\">\n",
       "  <thead>\n",
       "    <tr style=\"text-align: right;\">\n",
       "      <th></th>\n",
       "      <th>Title</th>\n",
       "      <th>Year</th>\n",
       "      <th>Rated</th>\n",
       "      <th>Released</th>\n",
       "      <th>Runtime</th>\n",
       "      <th>Genre</th>\n",
       "      <th>Director</th>\n",
       "      <th>Writer</th>\n",
       "      <th>Actors</th>\n",
       "      <th>Plot</th>\n",
       "      <th>...</th>\n",
       "      <th>Rank</th>\n",
       "      <th>Worldwide</th>\n",
       "      <th>Domestic</th>\n",
       "      <th>%</th>\n",
       "      <th>Foreign</th>\n",
       "      <th>%.1</th>\n",
       "      <th>Rating</th>\n",
       "      <th>Popularity</th>\n",
       "      <th>Keywords</th>\n",
       "      <th>Ratings Amount</th>\n",
       "    </tr>\n",
       "  </thead>\n",
       "  <tbody>\n",
       "    <tr>\n",
       "      <th>0</th>\n",
       "      <td>Toy Story 3</td>\n",
       "      <td>2010</td>\n",
       "      <td>G</td>\n",
       "      <td>18 Jun 2010</td>\n",
       "      <td>103 min</td>\n",
       "      <td>Animation, Adventure, Comedy</td>\n",
       "      <td>Lee Unkrich</td>\n",
       "      <td>John Lasseter, Andrew Stanton, Lee Unkrich</td>\n",
       "      <td>Tom Hanks, Tim Allen, Joan Cusack</td>\n",
       "      <td>The toys are mistakenly delivered to a day-car...</td>\n",
       "      <td>...</td>\n",
       "      <td>1</td>\n",
       "      <td>$1,066,969,703</td>\n",
       "      <td>$415,004,880</td>\n",
       "      <td>38.9%</td>\n",
       "      <td>$651,964,823</td>\n",
       "      <td>61.1%</td>\n",
       "      <td>7.799</td>\n",
       "      <td>30.310</td>\n",
       "      <td>escape, hostage, college, villain, sequel, bud...</td>\n",
       "      <td>14838.0</td>\n",
       "    </tr>\n",
       "    <tr>\n",
       "      <th>1</th>\n",
       "      <td>Alice in Wonderland</td>\n",
       "      <td>2010</td>\n",
       "      <td>PG</td>\n",
       "      <td>05 Mar 2010</td>\n",
       "      <td>108 min</td>\n",
       "      <td>Adventure, Family, Fantasy</td>\n",
       "      <td>Tim Burton</td>\n",
       "      <td>Linda Woolverton, Lewis Carroll</td>\n",
       "      <td>Mia Wasikowska, Johnny Depp, Helena Bonham Carter</td>\n",
       "      <td>Nineteen-year-old Alice returns to the magical...</td>\n",
       "      <td>...</td>\n",
       "      <td>2</td>\n",
       "      <td>$1,025,467,110</td>\n",
       "      <td>$334,191,110</td>\n",
       "      <td>32.6%</td>\n",
       "      <td>$691,276,000</td>\n",
       "      <td>67.4%</td>\n",
       "      <td>6.638</td>\n",
       "      <td>26.627</td>\n",
       "      <td>based on novel or book, queen, psychotic, fant...</td>\n",
       "      <td>14108.0</td>\n",
       "    </tr>\n",
       "    <tr>\n",
       "      <th>2</th>\n",
       "      <td>Harry Potter and the Deathly Hallows: Part 1</td>\n",
       "      <td>2010</td>\n",
       "      <td>PG-13</td>\n",
       "      <td>19 Nov 2010</td>\n",
       "      <td>146 min</td>\n",
       "      <td>Adventure, Family, Fantasy</td>\n",
       "      <td>David Yates</td>\n",
       "      <td>Steve Kloves, J.K. Rowling</td>\n",
       "      <td>Daniel Radcliffe, Emma Watson, Rupert Grint</td>\n",
       "      <td>Harry Potter is tasked with the dangerous and ...</td>\n",
       "      <td>...</td>\n",
       "      <td>3</td>\n",
       "      <td>$960,283,305</td>\n",
       "      <td>$295,983,305</td>\n",
       "      <td>30.8%</td>\n",
       "      <td>$664,300,000</td>\n",
       "      <td>69.2%</td>\n",
       "      <td>7.700</td>\n",
       "      <td>37.477</td>\n",
       "      <td>witch, friendship, london, england, corruption...</td>\n",
       "      <td>19315.0</td>\n",
       "    </tr>\n",
       "    <tr>\n",
       "      <th>3</th>\n",
       "      <td>Inception</td>\n",
       "      <td>2010</td>\n",
       "      <td>PG-13</td>\n",
       "      <td>16 Jul 2010</td>\n",
       "      <td>148 min</td>\n",
       "      <td>Action, Adventure, Sci-Fi</td>\n",
       "      <td>Christopher Nolan</td>\n",
       "      <td>Christopher Nolan</td>\n",
       "      <td>Leonardo DiCaprio, Joseph Gordon-Levitt, Ellio...</td>\n",
       "      <td>A thief who steals corporate secrets through t...</td>\n",
       "      <td>...</td>\n",
       "      <td>4</td>\n",
       "      <td>$828,258,695</td>\n",
       "      <td>$292,576,195</td>\n",
       "      <td>35.3%</td>\n",
       "      <td>$535,682,500</td>\n",
       "      <td>64.7%</td>\n",
       "      <td>8.369</td>\n",
       "      <td>46.201</td>\n",
       "      <td>rescue, mission, dreams, airplane, paris, fran...</td>\n",
       "      <td>37094.0</td>\n",
       "    </tr>\n",
       "    <tr>\n",
       "      <th>4</th>\n",
       "      <td>Shrek Forever After</td>\n",
       "      <td>2010</td>\n",
       "      <td>PG</td>\n",
       "      <td>21 May 2010</td>\n",
       "      <td>93 min</td>\n",
       "      <td>Animation, Adventure, Comedy</td>\n",
       "      <td>Mike Mitchell</td>\n",
       "      <td>Josh Klausner, Darren Lemke, William Steig</td>\n",
       "      <td>Mike Myers, Cameron Diaz, Eddie Murphy</td>\n",
       "      <td>Rumpelstiltskin tricks a mid-life crisis burde...</td>\n",
       "      <td>...</td>\n",
       "      <td>5</td>\n",
       "      <td>$752,600,867</td>\n",
       "      <td>$238,736,787</td>\n",
       "      <td>31.7%</td>\n",
       "      <td>$513,864,080</td>\n",
       "      <td>68.3%</td>\n",
       "      <td>6.380</td>\n",
       "      <td>37.911</td>\n",
       "      <td>witch, sequel, ogre</td>\n",
       "      <td>7440.0</td>\n",
       "    </tr>\n",
       "  </tbody>\n",
       "</table>\n",
       "<p>5 rows × 37 columns</p>\n",
       "</div>"
      ],
      "text/plain": [
       "                                          Title  Year  Rated     Released  \\\n",
       "0                                   Toy Story 3  2010      G  18 Jun 2010   \n",
       "1                           Alice in Wonderland  2010     PG  05 Mar 2010   \n",
       "2  Harry Potter and the Deathly Hallows: Part 1  2010  PG-13  19 Nov 2010   \n",
       "3                                     Inception  2010  PG-13  16 Jul 2010   \n",
       "4                           Shrek Forever After  2010     PG  21 May 2010   \n",
       "\n",
       "   Runtime                         Genre           Director  \\\n",
       "0  103 min  Animation, Adventure, Comedy        Lee Unkrich   \n",
       "1  108 min    Adventure, Family, Fantasy         Tim Burton   \n",
       "2  146 min    Adventure, Family, Fantasy        David Yates   \n",
       "3  148 min     Action, Adventure, Sci-Fi  Christopher Nolan   \n",
       "4   93 min  Animation, Adventure, Comedy      Mike Mitchell   \n",
       "\n",
       "                                       Writer  \\\n",
       "0  John Lasseter, Andrew Stanton, Lee Unkrich   \n",
       "1             Linda Woolverton, Lewis Carroll   \n",
       "2                  Steve Kloves, J.K. Rowling   \n",
       "3                           Christopher Nolan   \n",
       "4  Josh Klausner, Darren Lemke, William Steig   \n",
       "\n",
       "                                              Actors  \\\n",
       "0                  Tom Hanks, Tim Allen, Joan Cusack   \n",
       "1  Mia Wasikowska, Johnny Depp, Helena Bonham Carter   \n",
       "2        Daniel Radcliffe, Emma Watson, Rupert Grint   \n",
       "3  Leonardo DiCaprio, Joseph Gordon-Levitt, Ellio...   \n",
       "4             Mike Myers, Cameron Diaz, Eddie Murphy   \n",
       "\n",
       "                                                Plot  ... Rank  \\\n",
       "0  The toys are mistakenly delivered to a day-car...  ...    1   \n",
       "1  Nineteen-year-old Alice returns to the magical...  ...    2   \n",
       "2  Harry Potter is tasked with the dangerous and ...  ...    3   \n",
       "3  A thief who steals corporate secrets through t...  ...    4   \n",
       "4  Rumpelstiltskin tricks a mid-life crisis burde...  ...    5   \n",
       "\n",
       "        Worldwide      Domestic      %       Foreign    %.1  Rating  \\\n",
       "0  $1,066,969,703  $415,004,880  38.9%  $651,964,823  61.1%   7.799   \n",
       "1  $1,025,467,110  $334,191,110  32.6%  $691,276,000  67.4%   6.638   \n",
       "2    $960,283,305  $295,983,305  30.8%  $664,300,000  69.2%   7.700   \n",
       "3    $828,258,695  $292,576,195  35.3%  $535,682,500  64.7%   8.369   \n",
       "4    $752,600,867  $238,736,787  31.7%  $513,864,080  68.3%   6.380   \n",
       "\n",
       "  Popularity                                           Keywords Ratings Amount  \n",
       "0     30.310  escape, hostage, college, villain, sequel, bud...        14838.0  \n",
       "1     26.627  based on novel or book, queen, psychotic, fant...        14108.0  \n",
       "2     37.477  witch, friendship, london, england, corruption...        19315.0  \n",
       "3     46.201  rescue, mission, dreams, airplane, paris, fran...        37094.0  \n",
       "4     37.911                                witch, sequel, ogre         7440.0  \n",
       "\n",
       "[5 rows x 37 columns]"
      ]
     },
     "execution_count": 3,
     "metadata": {},
     "output_type": "execute_result"
    }
   ],
   "source": [
    "dataframe.head()"
   ]
  },
  {
   "cell_type": "code",
   "execution_count": 4,
   "id": "bca7efe8",
   "metadata": {},
   "outputs": [],
   "source": [
    "def clean_box_office(df):\n",
    "    \"\"\"\n",
    "    Cleans and processes box office data for analysis.\n",
    "    \n",
    "    Args:\n",
    "        df (DataFrame): A DataFrame with box office data (e.g., 'Domestic', 'Worldwide', 'Foreign', 'Runtime', 'Released', 'Genre').\n",
    "        \n",
    "    Returns:\n",
    "        df (DataFrame): A cleaned DataFrame with:\n",
    "            - 'Worldwide_millions', 'Domestic_millions', 'Foreign_millions'\n",
    "            - 'Runtime', 'Release Month', 'Genre', 'Genre Random'\n",
    "    \"\"\"\n",
    "\n",
    "    df = df[df[\"Domestic\"] != \"-\"]\n",
    "    df = df.dropna(subset = [\"Worldwide\", \"Domestic\", \"Foreign\"])\n",
    "    df[\"Worldwide\"] = (\n",
    "        df[\"Worldwide\"]\n",
    "        .astype(str)  \n",
    "        .str.replace(\"$\", \"\", regex=False)  \n",
    "        .str.replace(\",\", \"\", regex=False)  \n",
    "        .astype(int)\n",
    "    )\n",
    "    # Clean Domestic column\n",
    "    df[\"Domestic\"] = (\n",
    "        df[\"Domestic\"]\n",
    "        .astype(str)  \n",
    "        .str.replace(\"$\", \"\", regex=False) \n",
    "        .str.replace(\",\", \"\", regex=False)  \n",
    "    \n",
    "    )\n",
    "    # Clean Foreign column\n",
    "    df[\"Foreign\"] = (\n",
    "        df[\"Foreign\"]\n",
    "        .astype(str)  \n",
    "        .str.replace(\"$\", \"\", regex=False)  \n",
    "        .str.replace(\",\", \"\", regex=False)  \n",
    "    )\n",
    "    # Creating new columns because the raw numbers are too large to process\n",
    "    df[\"Worldwide_millions\"] = pd.to_numeric(df[\"Worldwide\"]) / 1000000\n",
    "    df[\"Domestic_millions\"] = pd.to_numeric(df[\"Domestic\"]) / 1000000\n",
    "    df[\"Foreign_millions\"] = pd.to_numeric(df[\"Foreign\"], errors=\"coerce\") / 1000000\n",
    "\n",
    "    df = df.dropna(subset = [\"Runtime\"])\n",
    "    df[\"Runtime\"] = df[\"Runtime\"].str.extract(r'(\\d+)').astype(int)\n",
    "    \n",
    "    df[\"Release Month\"] = pd.to_datetime(df[\"Released\"], format='%d %b %Y').dt.month\n",
    "    \n",
    "    df[\"Genre\"] = df[\"Genre\"].apply(lambda x: [genre.strip() for genre in str(x).split(\",\") if genre.strip()])\n",
    "    df[\"Genre Random\"] = df[\"Genre\"].apply(lambda x: np.random.choice(x) if isinstance(x, list) else x)\n",
    "   \n",
    "    return df"
   ]
  },
  {
   "cell_type": "code",
   "execution_count": 5,
   "id": "2fd2e778",
   "metadata": {},
   "outputs": [],
   "source": [
    "df_clean = clean_box_office(dataframe)"
   ]
  },
  {
   "cell_type": "code",
   "execution_count": 6,
   "id": "fd61cd2a",
   "metadata": {},
   "outputs": [],
   "source": [
    "# only will run once\n",
    "df_clean = df_clean.drop([\"Type\", \"Poster\", \"DVD\", \"totalSeasons\", \"Error\", \\\n",
    "                            \"Response\", \"Website\", \"Rank\", \"Production\", \"Ratings\", \\\n",
    "                            \"imdbRating\", \"imdbVotes\", \"%\", \"%.1\", \"Popularity\", \"Ratings Amount\",\\\n",
    "                            \"Worldwide\", \"Domestic\", \"Foreign\"], axis=1)"
   ]
  },
  {
   "cell_type": "code",
   "execution_count": 7,
   "id": "85436cf3",
   "metadata": {},
   "outputs": [
    {
     "name": "stdout",
     "output_type": "stream",
     "text": [
      "Index(['Title', 'Year', 'Rated', 'Released', 'Runtime', 'Genre', 'Director',\n",
      "       'Writer', 'Actors', 'Plot', 'Language', 'Country', 'Awards',\n",
      "       'Metascore', 'imdbID', 'BoxOffice', 'Rating', 'Keywords',\n",
      "       'Worldwide_millions', 'Domestic_millions', 'Foreign_millions',\n",
      "       'Release Month', 'Genre Random'],\n",
      "      dtype='object')\n"
     ]
    }
   ],
   "source": [
    "print(df_clean.columns)"
   ]
  },
  {
   "cell_type": "code",
   "execution_count": 8,
   "id": "b5cc4119",
   "metadata": {},
   "outputs": [
    {
     "data": {
      "text/html": [
       "<div>\n",
       "<style scoped>\n",
       "    .dataframe tbody tr th:only-of-type {\n",
       "        vertical-align: middle;\n",
       "    }\n",
       "\n",
       "    .dataframe tbody tr th {\n",
       "        vertical-align: top;\n",
       "    }\n",
       "\n",
       "    .dataframe thead th {\n",
       "        text-align: right;\n",
       "    }\n",
       "</style>\n",
       "<table border=\"1\" class=\"dataframe\">\n",
       "  <thead>\n",
       "    <tr style=\"text-align: right;\">\n",
       "      <th></th>\n",
       "      <th>Title</th>\n",
       "      <th>Year</th>\n",
       "      <th>Rated</th>\n",
       "      <th>Released</th>\n",
       "      <th>Runtime</th>\n",
       "      <th>Genre</th>\n",
       "      <th>Director</th>\n",
       "      <th>Writer</th>\n",
       "      <th>Actors</th>\n",
       "      <th>Plot</th>\n",
       "      <th>...</th>\n",
       "      <th>Metascore</th>\n",
       "      <th>imdbID</th>\n",
       "      <th>BoxOffice</th>\n",
       "      <th>Rating</th>\n",
       "      <th>Keywords</th>\n",
       "      <th>Worldwide_millions</th>\n",
       "      <th>Domestic_millions</th>\n",
       "      <th>Foreign_millions</th>\n",
       "      <th>Release Month</th>\n",
       "      <th>Genre Random</th>\n",
       "    </tr>\n",
       "  </thead>\n",
       "  <tbody>\n",
       "    <tr>\n",
       "      <th>0</th>\n",
       "      <td>Toy Story 3</td>\n",
       "      <td>2010</td>\n",
       "      <td>G</td>\n",
       "      <td>18 Jun 2010</td>\n",
       "      <td>103</td>\n",
       "      <td>[Animation, Adventure, Comedy]</td>\n",
       "      <td>Lee Unkrich</td>\n",
       "      <td>John Lasseter, Andrew Stanton, Lee Unkrich</td>\n",
       "      <td>Tom Hanks, Tim Allen, Joan Cusack</td>\n",
       "      <td>The toys are mistakenly delivered to a day-car...</td>\n",
       "      <td>...</td>\n",
       "      <td>92.0</td>\n",
       "      <td>tt0435761</td>\n",
       "      <td>$415,004,880</td>\n",
       "      <td>7.799</td>\n",
       "      <td>escape, hostage, college, villain, sequel, bud...</td>\n",
       "      <td>1066.969703</td>\n",
       "      <td>415.004880</td>\n",
       "      <td>651.964823</td>\n",
       "      <td>6</td>\n",
       "      <td>Comedy</td>\n",
       "    </tr>\n",
       "    <tr>\n",
       "      <th>1</th>\n",
       "      <td>Alice in Wonderland</td>\n",
       "      <td>2010</td>\n",
       "      <td>PG</td>\n",
       "      <td>05 Mar 2010</td>\n",
       "      <td>108</td>\n",
       "      <td>[Adventure, Family, Fantasy]</td>\n",
       "      <td>Tim Burton</td>\n",
       "      <td>Linda Woolverton, Lewis Carroll</td>\n",
       "      <td>Mia Wasikowska, Johnny Depp, Helena Bonham Carter</td>\n",
       "      <td>Nineteen-year-old Alice returns to the magical...</td>\n",
       "      <td>...</td>\n",
       "      <td>53.0</td>\n",
       "      <td>tt1014759</td>\n",
       "      <td>$334,191,110</td>\n",
       "      <td>6.638</td>\n",
       "      <td>based on novel or book, queen, psychotic, fant...</td>\n",
       "      <td>1025.467110</td>\n",
       "      <td>334.191110</td>\n",
       "      <td>691.276000</td>\n",
       "      <td>3</td>\n",
       "      <td>Fantasy</td>\n",
       "    </tr>\n",
       "    <tr>\n",
       "      <th>2</th>\n",
       "      <td>Harry Potter and the Deathly Hallows: Part 1</td>\n",
       "      <td>2010</td>\n",
       "      <td>PG-13</td>\n",
       "      <td>19 Nov 2010</td>\n",
       "      <td>146</td>\n",
       "      <td>[Adventure, Family, Fantasy]</td>\n",
       "      <td>David Yates</td>\n",
       "      <td>Steve Kloves, J.K. Rowling</td>\n",
       "      <td>Daniel Radcliffe, Emma Watson, Rupert Grint</td>\n",
       "      <td>Harry Potter is tasked with the dangerous and ...</td>\n",
       "      <td>...</td>\n",
       "      <td>65.0</td>\n",
       "      <td>tt0926084</td>\n",
       "      <td>$296,374,621</td>\n",
       "      <td>7.700</td>\n",
       "      <td>witch, friendship, london, england, corruption...</td>\n",
       "      <td>960.283305</td>\n",
       "      <td>295.983305</td>\n",
       "      <td>664.300000</td>\n",
       "      <td>11</td>\n",
       "      <td>Family</td>\n",
       "    </tr>\n",
       "    <tr>\n",
       "      <th>3</th>\n",
       "      <td>Inception</td>\n",
       "      <td>2010</td>\n",
       "      <td>PG-13</td>\n",
       "      <td>16 Jul 2010</td>\n",
       "      <td>148</td>\n",
       "      <td>[Action, Adventure, Sci-Fi]</td>\n",
       "      <td>Christopher Nolan</td>\n",
       "      <td>Christopher Nolan</td>\n",
       "      <td>Leonardo DiCaprio, Joseph Gordon-Levitt, Ellio...</td>\n",
       "      <td>A thief who steals corporate secrets through t...</td>\n",
       "      <td>...</td>\n",
       "      <td>74.0</td>\n",
       "      <td>tt1375666</td>\n",
       "      <td>$292,587,330</td>\n",
       "      <td>8.369</td>\n",
       "      <td>rescue, mission, dreams, airplane, paris, fran...</td>\n",
       "      <td>828.258695</td>\n",
       "      <td>292.576195</td>\n",
       "      <td>535.682500</td>\n",
       "      <td>7</td>\n",
       "      <td>Adventure</td>\n",
       "    </tr>\n",
       "    <tr>\n",
       "      <th>4</th>\n",
       "      <td>Shrek Forever After</td>\n",
       "      <td>2010</td>\n",
       "      <td>PG</td>\n",
       "      <td>21 May 2010</td>\n",
       "      <td>93</td>\n",
       "      <td>[Animation, Adventure, Comedy]</td>\n",
       "      <td>Mike Mitchell</td>\n",
       "      <td>Josh Klausner, Darren Lemke, William Steig</td>\n",
       "      <td>Mike Myers, Cameron Diaz, Eddie Murphy</td>\n",
       "      <td>Rumpelstiltskin tricks a mid-life crisis burde...</td>\n",
       "      <td>...</td>\n",
       "      <td>58.0</td>\n",
       "      <td>tt0892791</td>\n",
       "      <td>$238,736,787</td>\n",
       "      <td>6.380</td>\n",
       "      <td>witch, sequel, ogre</td>\n",
       "      <td>752.600867</td>\n",
       "      <td>238.736787</td>\n",
       "      <td>513.864080</td>\n",
       "      <td>5</td>\n",
       "      <td>Animation</td>\n",
       "    </tr>\n",
       "  </tbody>\n",
       "</table>\n",
       "<p>5 rows × 23 columns</p>\n",
       "</div>"
      ],
      "text/plain": [
       "                                          Title  Year  Rated     Released  \\\n",
       "0                                   Toy Story 3  2010      G  18 Jun 2010   \n",
       "1                           Alice in Wonderland  2010     PG  05 Mar 2010   \n",
       "2  Harry Potter and the Deathly Hallows: Part 1  2010  PG-13  19 Nov 2010   \n",
       "3                                     Inception  2010  PG-13  16 Jul 2010   \n",
       "4                           Shrek Forever After  2010     PG  21 May 2010   \n",
       "\n",
       "   Runtime                           Genre           Director  \\\n",
       "0      103  [Animation, Adventure, Comedy]        Lee Unkrich   \n",
       "1      108    [Adventure, Family, Fantasy]         Tim Burton   \n",
       "2      146    [Adventure, Family, Fantasy]        David Yates   \n",
       "3      148     [Action, Adventure, Sci-Fi]  Christopher Nolan   \n",
       "4       93  [Animation, Adventure, Comedy]      Mike Mitchell   \n",
       "\n",
       "                                       Writer  \\\n",
       "0  John Lasseter, Andrew Stanton, Lee Unkrich   \n",
       "1             Linda Woolverton, Lewis Carroll   \n",
       "2                  Steve Kloves, J.K. Rowling   \n",
       "3                           Christopher Nolan   \n",
       "4  Josh Klausner, Darren Lemke, William Steig   \n",
       "\n",
       "                                              Actors  \\\n",
       "0                  Tom Hanks, Tim Allen, Joan Cusack   \n",
       "1  Mia Wasikowska, Johnny Depp, Helena Bonham Carter   \n",
       "2        Daniel Radcliffe, Emma Watson, Rupert Grint   \n",
       "3  Leonardo DiCaprio, Joseph Gordon-Levitt, Ellio...   \n",
       "4             Mike Myers, Cameron Diaz, Eddie Murphy   \n",
       "\n",
       "                                                Plot  ... Metascore  \\\n",
       "0  The toys are mistakenly delivered to a day-car...  ...      92.0   \n",
       "1  Nineteen-year-old Alice returns to the magical...  ...      53.0   \n",
       "2  Harry Potter is tasked with the dangerous and ...  ...      65.0   \n",
       "3  A thief who steals corporate secrets through t...  ...      74.0   \n",
       "4  Rumpelstiltskin tricks a mid-life crisis burde...  ...      58.0   \n",
       "\n",
       "      imdbID     BoxOffice  Rating  \\\n",
       "0  tt0435761  $415,004,880   7.799   \n",
       "1  tt1014759  $334,191,110   6.638   \n",
       "2  tt0926084  $296,374,621   7.700   \n",
       "3  tt1375666  $292,587,330   8.369   \n",
       "4  tt0892791  $238,736,787   6.380   \n",
       "\n",
       "                                            Keywords Worldwide_millions  \\\n",
       "0  escape, hostage, college, villain, sequel, bud...        1066.969703   \n",
       "1  based on novel or book, queen, psychotic, fant...        1025.467110   \n",
       "2  witch, friendship, london, england, corruption...         960.283305   \n",
       "3  rescue, mission, dreams, airplane, paris, fran...         828.258695   \n",
       "4                                witch, sequel, ogre         752.600867   \n",
       "\n",
       "   Domestic_millions Foreign_millions  Release Month  Genre Random  \n",
       "0         415.004880       651.964823              6        Comedy  \n",
       "1         334.191110       691.276000              3       Fantasy  \n",
       "2         295.983305       664.300000             11        Family  \n",
       "3         292.576195       535.682500              7     Adventure  \n",
       "4         238.736787       513.864080              5     Animation  \n",
       "\n",
       "[5 rows x 23 columns]"
      ]
     },
     "execution_count": 8,
     "metadata": {},
     "output_type": "execute_result"
    }
   ],
   "source": [
    "df_clean.head()"
   ]
  },
  {
   "cell_type": "code",
   "execution_count": 9,
   "id": "7f716924",
   "metadata": {},
   "outputs": [],
   "source": [
    "# bias column\n",
    "def add_bias_column(X):\n",
    "    \"\"\" \n",
    "        Adds a bias column\n",
    "    \"\"\"\n",
    "\n",
    "    if len(np.array(X).shape) == 1:\n",
    "        X = np.array(X).reshape(-1, 1)\n",
    "    bias = np.ones((X.shape[0], 1))\n",
    "    \n",
    "    return np.hstack([bias, X])"
   ]
  },
  {
   "cell_type": "code",
   "execution_count": 10,
   "id": "548de5c0",
   "metadata": {},
   "outputs": [],
   "source": [
    "def preprocess(df):\n",
    "    \"\"\"\n",
    "    Preprocesses the input DataFrame by encoding categorical variables and extracting features and target.\n",
    "\n",
    "    Args:\n",
    "        df (DataFrame): A pandas DataFrame containing columns like 'Runtime', 'overall_rating', 'Genre Random', 'MPAA', \n",
    "                        'Country', and 'Worldwide_millions' to be processed for machine learning.\n",
    "\n",
    "    Returns:\n",
    "        X (array): A 2D numpy array containing the feature values for model training.\n",
    "        y (array): A 1D numpy array containing the target values ('Worldwide_millions').\n",
    "    \"\"\"\n",
    "\n",
    "    drop_cols = ['Title', 'Released', 'Genre', 'Poster', 'DVD', 'Type', \n",
    "                 'Production', 'Website', 'Response', 'Error', 'Year', 'Metascore',\n",
    "                 'Foreign_millions']\n",
    "    df = df.drop(columns=[col for col in df.columns if col in drop_cols], errors='ignore')\n",
    "    df = df.dropna(subset=[\"Runtime\", \"Country\", \"Rated\", \"Rating\", \"Worldwide_millions\"])\n",
    "\n",
    "    cat_cols = []\n",
    "    for col in [\"Genre Random\", \"Country\", \"Rated\"]:\n",
    "        if col in df.columns:\n",
    "            cat_cols.append(col)\n",
    "    if cat_cols:\n",
    "        df = pd.get_dummies(df, columns=cat_cols, drop_first=True)\n",
    "    \n",
    "    target = \"Worldwide_millions\"\n",
    "    # Drop object columns that weren't converted to dummies\n",
    "    object_cols = []\n",
    "    for col in df.columns:\n",
    "        if df[col].dtype == 'object' and col != target:\n",
    "            object_cols.append(col)\n",
    "    \n",
    "    if object_cols:\n",
    "        print(f\"Dropping object columns: {object_cols}\")\n",
    "        df = df.drop(columns=object_cols)\n",
    "    \n",
    "    if target not in df.columns:\n",
    "        raise ValueError(f\"Target column '{target}' not found in dataframe.\")\n",
    "    \n",
    "    feature_cols = [col for col in df.columns if col != target]\n",
    "    \n",
    "    # Ensure df has only numeric columns before creating X and y\n",
    "    print(\"DataFrame dtypes after preprocessing:\")\n",
    "    print(df.dtypes)\n",
    "    \n",
    "    # Create X & y AFTERall preprocessing is done\n",
    "    X = df[feature_cols].values\n",
    "    y = df[target].values\n",
    "    \n",
    "    # Convert X to float64 which supports np.isnan\n",
    "    X = X.astype(np.float64)\n",
    "    \n",
    "    # Handle NaN values using imputation\n",
    "    if np.isnan(X).any():\n",
    "        print(\"Warning: X contains NaN values. Imputing with mean...\")\n",
    "        imputer = SimpleImputer(strategy='mean')\n",
    "        X = imputer.fit_transform(X)\n",
    "    \n",
    "    print(\"Feature matrix shape:\", X.shape)\n",
    "    print(\"Feature names:\", feature_cols)\n",
    "    print(\"Target vector shape:\", y.shape)\n",
    "    \n",
    "    return X, y, df"
   ]
  },
  {
   "cell_type": "code",
   "execution_count": 11,
   "id": "7bb3c69e",
   "metadata": {},
   "outputs": [],
   "source": [
    "from sklearn.linear_model import LinearRegression\n",
    "\n",
    "def line_of_best_fit(X, y):\n",
    "    \"\"\"\n",
    "    Returns slope and intercept of a line of best fit.\n",
    "    \n",
    "    Args:\n",
    "        X (array): can be either 1-d or 2-d\n",
    "        y (array): a 1-d array including all corresponding response values to X\n",
    "        \n",
    "    Returns:\n",
    "        vector (array): vector containing the coefficients for line of best fit; first term is intercept, the second is slope\n",
    "    \"\"\"\n",
    "\n",
    "    X_with_bias = add_bias_column(X)\n",
    "    model = LinearRegression(fit_intercept=False)\n",
    "    model.fit(X_with_bias, y)\n",
    "    \n",
    "    # Return coefficients as a numpy array\n",
    "    return model.coef_"
   ]
  },
  {
   "cell_type": "code",
   "execution_count": 12,
   "id": "2e545b8a",
   "metadata": {},
   "outputs": [],
   "source": [
    "from sklearn.metrics import r2_score\n",
    "from sklearn.metrics import mean_squared_error\n",
    "\n",
    "def linreg_predict(Xnew, ynew, m):\n",
    "    \"\"\"\n",
    "    Args:\n",
    "        Xnew (array): either a 1-d or 2-d array\n",
    "        ynew (array): 1-d array \n",
    "        m (array): 1-d array contains coefficients from the line_of_best_fit function\n",
    "\n",
    "    Returns:\n",
    "        dct (dictionary): contains four key-value pairs\n",
    "            - ypreds: predicted values from applying m to Xnew\n",
    "            - resids: the residuals, the differences between ynew and ypreds\n",
    "            - mse: mean squared error\n",
    "            - r2: coefficient of determination\n",
    "    \"\"\"\n",
    "    x = add_bias_column(Xnew)\n",
    "    \n",
    "    # Ensure m has the right shape\n",
    "    if len(m) != x.shape[1]:\n",
    "        raise ValueError(f\"Coefficient vector shape {m.shape} doesn't match input shape {x.shape}. \"\n",
    "                         f\"Expected coefficient length: {x.shape[1]}\")\n",
    "    \n",
    "    ypreds = x.dot(m)\n",
    "    resids = ynew - ypreds\n",
    "    mse = mean_squared_error(ynew, ypreds)\n",
    "    r2 = r2_score(ynew, ypreds)\n",
    "    \n",
    "    dct = {\n",
    "        'ypreds': ypreds,\n",
    "        'resids': resids,\n",
    "        'mse': mse,\n",
    "        'r2': r2\n",
    "    }\n",
    "    return dct"
   ]
  },
  {
   "cell_type": "code",
   "execution_count": 13,
   "id": "445beb67",
   "metadata": {},
   "outputs": [],
   "source": [
    "def evaluate_reg_model(X, y):\n",
    "    print(f\"Data shapes before splitting - X: {X.shape}, y: {y.shape}\")\n",
    "    X_train, X_test, y_train, y_test = train_test_split(X, y, test_size=0.3, random_state=3)\n",
    "    print(f\"Training data shapes - X_train: {X_train.shape}, y_train: {y_train.shape}\")\n",
    "    print(f\"Test data shapes - X_test: {X_test.shape}, y_test: {y_test.shape}\")\n",
    "    \n",
    "    coefficients = line_of_best_fit(X_train, y_train)\n",
    "    print(\"Coefficients shape:\", coefficients.shape)\n",
    "    \n",
    "    results = linreg_predict(X_test, y_test, coefficients)\n",
    "    print(\"Linear Regression Model MSE:\", results['mse'])\n",
    "    print(\"Linear Regression Model R^2:\", results['r2'])\n",
    "    \n",
    "    plt.figure(figsize=(8, 6))\n",
    "    plt.scatter(y_test, results['ypreds'], alpha=0.7)\n",
    "    plt.xlabel(\"Actual Worldwide Box Office (millions)\")\n",
    "    plt.ylabel(\"Predicted Worldwide Box Office (millions)\")\n",
    "    plt.xlim(0, 2200)\n",
    "    plt.ylim(0, 1400)\n",
    "    plt.title(\"Actual v. Predicted Box Office in Linear Regression Model\")\n",
    "    \n",
    "    min_val = min(y_test.min(), results['ypreds'].min())\n",
    "    max_val = max(y_test.max(), results['ypreds'].max())\n",
    "    plt.plot([min_val, max_val], [min_val, max_val], color='blue', linestyle='--')\n",
    "    plt.show()\n",
    "    return results"
   ]
  },
  {
   "cell_type": "code",
   "execution_count": 14,
   "id": "4ba5ceab",
   "metadata": {},
   "outputs": [],
   "source": [
    "# df_clean.columns\n"
   ]
  },
  {
   "cell_type": "code",
   "execution_count": 15,
   "id": "7b0ddd02",
   "metadata": {
    "scrolled": true
   },
   "outputs": [
    {
     "name": "stdout",
     "output_type": "stream",
     "text": [
      "Dropping object columns: ['Director', 'Writer', 'Actors', 'Plot', 'Language', 'Awards', 'imdbID', 'BoxOffice', 'Keywords']\n",
      "DataFrame dtypes after preprocessing:\n",
      "Runtime                 int64\n",
      "Rating                float64\n",
      "Worldwide_millions    float64\n",
      "Domestic_millions     float64\n",
      "Release Month           int32\n",
      "                       ...   \n",
      "Rated_PG                 bool\n",
      "Rated_PG-13              bool\n",
      "Rated_R                  bool\n",
      "Rated_TV-MA              bool\n",
      "Rated_TV-PG              bool\n",
      "Length: 361, dtype: object\n",
      "Feature matrix shape: (1247, 360)\n",
      "Feature names: ['Runtime', 'Rating', 'Domestic_millions', 'Release Month', 'Genre Random_Adventure', 'Genre Random_Animation', 'Genre Random_Biography', 'Genre Random_Comedy', 'Genre Random_Crime', 'Genre Random_Documentary', 'Genre Random_Drama', 'Genre Random_Family', 'Genre Random_Fantasy', 'Genre Random_History', 'Genre Random_Horror', 'Genre Random_Music', 'Genre Random_Musical', 'Genre Random_Mystery', 'Genre Random_Romance', 'Genre Random_Sci-Fi', 'Genre Random_Sport', 'Genre Random_Thriller', 'Genre Random_War', 'Genre Random_Western', 'Country_Australia, United Kingdom', 'Country_Australia, United Kingdom, United States', 'Country_Australia, United States', 'Country_Australia, United States, Turkey', 'Country_Australia, United States, United Kingdom', 'Country_Australia, United States, United Kingdom, Singapore, India', 'Country_Brazil, France, Italy, United States', 'Country_Bulgaria, United States', 'Country_Canada, France', 'Country_Canada, Germany', 'Country_Canada, Germany, France, United Kingdom, United States', 'Country_Canada, Germany, United States, United Kingdom', 'Country_Canada, Japan, United States', 'Country_Canada, South Korea, United States', 'Country_Canada, Spain', 'Country_Canada, United States', 'Country_Canada, United States, Russia', 'Country_Canada, United States, United Kingdom', 'Country_Canada, United States, United Kingdom, India, Australia, Brazil, China', 'Country_China, Canada, United States', 'Country_China, India, Hong Kong, United States', 'Country_China, Lithuania, United States, United Kingdom, Canada, Italy, India', 'Country_China, United States', 'Country_China, United States, Canada, Japan', 'Country_Croatia, United States, Hungary', 'Country_Czech Republic, New Zealand, United States, Germany', 'Country_Czech Republic, United Kingdom, United States', 'Country_Denmark, Norway, Australia, United States', 'Country_Denmark, Sweden, Belgium, France', 'Country_Finland, United States, Canada', 'Country_France, Canada, Italy, United States, China', 'Country_France, Canada, United States, Spain', 'Country_France, China, Belgium', 'Country_France, China, Belgium, Germany, United Arab Emirates, United States, Canada, Qatar', 'Country_France, China, Canada, United States', 'Country_France, Germany, Spain, United States, Canada', 'Country_France, Germany, Taiwan, Canada', 'Country_France, Germany, United Kingdom, Belgium, United States', 'Country_France, Japan, United States', 'Country_France, United Kingdom', 'Country_France, United Kingdom, Belgium, Canada, United States', 'Country_France, United Kingdom, United States', 'Country_France, United States', 'Country_France, United States, Turkey, United Kingdom', 'Country_France, United States, United Kingdom', 'Country_Germany, Luxembourg, United States', 'Country_Germany, United Kingdom', 'Country_Germany, United Kingdom, Canada, Sweden, United States', 'Country_Germany, United States', 'Country_Germany, United States, Japan, China, South Africa, Canada', 'Country_Hong Kong, Iceland, United States, United Kingdom', 'Country_Hong Kong, United States', 'Country_India, United Kingdom, Australia, United States', 'Country_India, United States', 'Country_Ireland, Canada, United Kingdom, United States', 'Country_Ireland, United Kingdom, Canada, United States', 'Country_Ireland, United Kingdom, United States', 'Country_Ireland, United Kingdom, United States, Hungary', 'Country_Ireland, United States, Hong Kong, South Korea, Canada', 'Country_Italy, United States', 'Country_Japan, Canada, United States', 'Country_Japan, United States', 'Country_Japan, United States, France', 'Country_Mexico, United States', 'Country_Netherlands, United Kingdom, Germany, United States', 'Country_New Zealand', 'Country_New Zealand, United States', 'Country_Poland, United Kingdom, United States, Switzerland, Netherlands', 'Country_Russia, United States', 'Country_South Korea, Japan', 'Country_South Korea, United States, Canada, Netherlands, Switzerland, China', 'Country_Spain, Thailand, United States', 'Country_Spain, United Kingdom, France, United States', 'Country_Spain, United States, France', 'Country_Spain, United States, United Kingdom, Belgium', 'Country_Sweden, United States', 'Country_Switzerland, France, Spain, Monaco, United Arab Emirates, United States', 'Country_United Arab Emirates, United States', 'Country_United Arab Emirates, United States, France', 'Country_United Kingdom', 'Country_United Kingdom, Australia, United States', 'Country_United Kingdom, Australia, United States, Jordan, Morocco', 'Country_United Kingdom, Canada, United States', 'Country_United Kingdom, Canada, United States, Australia', 'Country_United Kingdom, Canada, United States, France', 'Country_United Kingdom, China', 'Country_United Kingdom, China, France, United States', 'Country_United Kingdom, China, Japan, United States', 'Country_United Kingdom, China, Japan, United States, Mexico', 'Country_United Kingdom, China, United States', 'Country_United Kingdom, China, United States, India, Switzerland', 'Country_United Kingdom, China, United States, Taiwan', 'Country_United Kingdom, Czech Republic, Australia, United States', 'Country_United Kingdom, France', 'Country_United Kingdom, France, Australia, United States', 'Country_United Kingdom, France, Germany, United States', 'Country_United Kingdom, France, Italy, United States', 'Country_United Kingdom, France, United States', 'Country_United Kingdom, France, United States, Canada', 'Country_United Kingdom, France, United States, China', 'Country_United Kingdom, Germany, Canada', 'Country_United Kingdom, Germany, France, United States', 'Country_United Kingdom, Germany, Japan, United States', 'Country_United Kingdom, Germany, United States', 'Country_United Kingdom, India, Australia, New Zealand, United States, Canada', 'Country_United Kingdom, India, United States', 'Country_United Kingdom, Japan, United States', 'Country_United Kingdom, Netherlands, France, United States', 'Country_United Kingdom, Norway, China, Canada, United States, France', 'Country_United Kingdom, Poland, United States', 'Country_United Kingdom, South Africa, United States, India', 'Country_United Kingdom, Spain, Ireland, United States', 'Country_United Kingdom, Spain, United States', 'Country_United Kingdom, Sweden, Germany, Mexico, France, Turkey, Denmark, United States, Switzerland, Greece', 'Country_United Kingdom, United States', 'Country_United Kingdom, United States, Australia, Canada, Denmark', 'Country_United Kingdom, United States, Bulgaria, Romania', 'Country_United Kingdom, United States, Canada', 'Country_United Kingdom, United States, Canada, Australia, Japan, China', 'Country_United Kingdom, United States, China', 'Country_United Kingdom, United States, China, Indonesia, Turkey', 'Country_United Kingdom, United States, Denmark, Canada, Italy', 'Country_United Kingdom, United States, Dominican Republic', 'Country_United Kingdom, United States, France', 'Country_United Kingdom, United States, Germany', 'Country_United Kingdom, United States, Germany, Denmark, Belgium, Japan', 'Country_United Kingdom, United States, Iceland', 'Country_United Kingdom, United States, India, Canada', 'Country_United Kingdom, United States, India, Spain, Canada', 'Country_United Kingdom, United States, Italy', 'Country_United Kingdom, United States, Japan', 'Country_United Kingdom, United States, Japan, China, Croatia', 'Country_United Kingdom, United States, Morocco, Italy, Austria, Canada, Mexico', 'Country_United Kingdom, United States, New Zealand, France, Canada, India', 'Country_United Kingdom, United States, Puerto Rico', 'Country_United Kingdom, United States, Sweden', 'Country_United Kingdom, United States, Sweden, Bulgaria, France', 'Country_United Kingdom, United States, Turkey, China', 'Country_United Kingdom, United States, Turkey, Philippines, Netherlands', 'Country_United Kingdom, United States, United Arab Emirates, Germany', 'Country_United States', 'Country_United States, Argentina', 'Country_United States, Australia', 'Country_United States, Australia, Canada', 'Country_United States, Australia, Canada, Mexico, India, United Kingdom', 'Country_United States, Australia, China', 'Country_United States, Australia, France, Canada, Germany, Brazil, United Kingdom, China', 'Country_United States, Australia, Hong Kong', 'Country_United States, Australia, Philippines, Italy, Denmark, United Kingdom', 'Country_United States, Australia, Spain', 'Country_United States, Australia, United Kingdom', 'Country_United States, Australia, United Kingdom, Canada', 'Country_United States, Belgium, Canada', 'Country_United States, Bulgaria', 'Country_United States, Bulgaria, Spain, Germany', 'Country_United States, Canada', 'Country_United States, Canada, Australia', 'Country_United States, Canada, Bulgaria, Ireland, Philippines, China, Austria, Brazil, Belgium', 'Country_United States, Canada, China', 'Country_United States, Canada, China, Hong Kong', 'Country_United States, Canada, Colombia', 'Country_United States, Canada, France', 'Country_United States, Canada, France, Germany', 'Country_United States, Canada, Germany, Hungary, Netherlands', 'Country_United States, Canada, Hong Kong', 'Country_United States, Canada, Hong Kong, Luxembourg', 'Country_United States, Canada, India', 'Country_United States, Canada, Ireland', 'Country_United States, Canada, Italy, United Kingdom', 'Country_United States, Canada, Japan', 'Country_United States, Canada, Japan, Australia', 'Country_United States, Canada, Japan, United Kingdom', 'Country_United States, Canada, Mexico, Hong Kong', 'Country_United States, Canada, New Zealand, Hungary', 'Country_United States, Canada, Russia', 'Country_United States, Canada, South Africa, China', 'Country_United States, Canada, United Kingdom', 'Country_United States, Canada, United Kingdom, New Zealand, Hungary, Peru, China', 'Country_United States, Canada, Vietnam, France, United Kingdom', 'Country_United States, China', 'Country_United States, China, Canada', 'Country_United States, China, Canada, Australia', 'Country_United States, China, France, Norway', 'Country_United States, China, Hong Kong', 'Country_United States, China, Hong Kong, Australia, Canada, Japan', 'Country_United States, China, Japan', 'Country_United States, China, Japan, Canada, United Arab Emirates', 'Country_United States, China, Spain, Japan, Iceland, Germany, Italy', 'Country_United States, China, Thailand, Germany, Canada, United Kingdom', 'Country_United States, China, United Kingdom, Austria, Morocco, Hong Kong', 'Country_United States, China, United Kingdom, Canada, Hong Kong', 'Country_United States, China, United Kingdom, Canada, Poland', 'Country_United States, China, United Kingdom, Japan', 'Country_United States, China, Vietnam, Canada, Germany, United Kingdom, Singapore, India, Australia', 'Country_United States, Colombia, United Kingdom', 'Country_United States, Denmark, Australia, Norway', 'Country_United States, France', 'Country_United States, France, Bulgaria, Germany', 'Country_United States, France, Canada, Belgium', 'Country_United States, France, Chile, China', 'Country_United States, France, China, United Kingdom', 'Country_United States, France, Germany, Bulgaria', 'Country_United States, France, Japan', 'Country_United States, France, United Kingdom', 'Country_United States, France, United Kingdom, Hong Kong, Taiwan, Malta, Spain, Canada', 'Country_United States, Germany', 'Country_United States, Germany, Canada, France', 'Country_United States, Germany, Canada, United Kingdom', 'Country_United States, Germany, China', 'Country_United States, Germany, France', 'Country_United States, Germany, France, United Kingdom', 'Country_United States, Germany, Hong Kong, Singapore, China, United Kingdom, Spain', 'Country_United States, Germany, New Zealand, United Kingdom, India, South Korea, Canada', 'Country_United States, Germany, Puerto Rico', 'Country_United States, Germany, Sweden, France, United Kingdom', 'Country_United States, Germany, United Kingdom', 'Country_United States, Hong Kong', 'Country_United States, Hong Kong, Bulgaria, Netherlands, Canada, United Kingdom, France', 'Country_United States, Hong Kong, Canada', 'Country_United States, Hong Kong, China', 'Country_United States, Hong Kong, France, Bulgaria, Spain, Sweden, Portugal', 'Country_United States, Hong Kong, Japan, Canada, New Zealand', 'Country_United States, Hong Kong, Japan, United Arab Emirates', 'Country_United States, Hong Kong, Taiwan, Argentina', 'Country_United States, Hungary', 'Country_United States, Hungary, Canada', 'Country_United States, Hungary, Italy', 'Country_United States, Iceland, Japan', 'Country_United States, India', 'Country_United States, India, Australia, New Zealand, Thailand, Canada, South Korea, China, Netherlands', 'Country_United States, India, Canada', 'Country_United States, India, Canada, Italy, United Kingdom, Zambia', 'Country_United States, India, Germany', 'Country_United States, India, Hong Kong, China, Canada', 'Country_United States, India, Jordan', 'Country_United States, India, Singapore, Canada, United Kingdom, Japan, Australia', 'Country_United States, India, United Kingdom', 'Country_United States, India, United Kingdom, Australia', 'Country_United States, India, United Kingdom, Germany', 'Country_United States, Iraq, Canada', 'Country_United States, Ireland', 'Country_United States, Ireland, Australia, Canada', 'Country_United States, Ireland, New Zealand, Netherlands, United Kingdom', 'Country_United States, Italy', 'Country_United States, Italy, Australia', 'Country_United States, Italy, Canada, Japan, United Kingdom', 'Country_United States, Italy, Hong Kong, Canada', 'Country_United States, Italy, Spain', 'Country_United States, Italy, United Kingdom, China', 'Country_United States, Japan', 'Country_United States, Japan, Canada', 'Country_United States, Japan, Canada, United Kingdom', 'Country_United States, Japan, China', 'Country_United States, Japan, Colombia, Canada', 'Country_United States, Japan, France', 'Country_United States, Japan, South Korea, Canada, United Arab Emirates, Philippines', 'Country_United States, Japan, United Kingdom', 'Country_United States, Japan, United Kingdom, Canada', 'Country_United States, Mexico', 'Country_United States, Mexico, Canada', 'Country_United States, Mexico, Canada, Germany', 'Country_United States, Mexico, Hong Kong', 'Country_United States, Mexico, Italy', 'Country_United States, Morocco', 'Country_United States, Morocco, Ukraine, Italy', 'Country_United States, New Zealand', 'Country_United States, New Zealand, Australia', 'Country_United States, New Zealand, France, Canada', 'Country_United States, New Zealand, Japan, China', 'Country_United States, Norway', 'Country_United States, Poland', 'Country_United States, Poland, United Arab Emirates, India', 'Country_United States, Romania', 'Country_United States, Russia', 'Country_United States, Russia, United Kingdom', 'Country_United States, Saudi Arabia', 'Country_United States, Serbia', 'Country_United States, South Africa, France', 'Country_United States, South Africa, Hungary, Canada', 'Country_United States, South Africa, Ireland', 'Country_United States, South Korea', 'Country_United States, South Korea, Australia', 'Country_United States, Spain', 'Country_United States, Spain, France, Canada, United Kingdom, China, Italy, Germany', 'Country_United States, Spain, Hungary', 'Country_United States, Spain, Hungary, China', 'Country_United States, Spain, United Kingdom', 'Country_United States, Sweden', 'Country_United States, Sweden, Canada, Ireland, United Kingdom', 'Country_United States, Sweden, Hungary', 'Country_United States, Switzerland', 'Country_United States, Taiwan, United Kingdom, Canada, India, France', 'Country_United States, Thailand, United Kingdom, India, Canada', 'Country_United States, United Arab Emirates', 'Country_United States, United Arab Emirates, India', 'Country_United States, United Arab Emirates, Russia, Canada, Czech Republic, India', 'Country_United States, United Arab Emirates, United Kingdom', 'Country_United States, United Kingdom', 'Country_United States, United Kingdom, Australia', 'Country_United States, United Kingdom, Australia, India', 'Country_United States, United Kingdom, Belgium, Canada', 'Country_United States, United Kingdom, Bulgaria', 'Country_United States, United Kingdom, Canada', 'Country_United States, United Kingdom, Canada, Australia, Germany', 'Country_United States, United Kingdom, Canada, China', 'Country_United States, United Kingdom, Canada, India, Germany', 'Country_United States, United Kingdom, Canada, Ireland', 'Country_United States, United Kingdom, Canada, Japan', 'Country_United States, United Kingdom, Canada, Spain', 'Country_United States, United Kingdom, China', 'Country_United States, United Kingdom, Denmark, Australia, Canada, India', 'Country_United States, United Kingdom, Finland, Canada', 'Country_United States, United Kingdom, France', 'Country_United States, United Kingdom, Germany', 'Country_United States, United Kingdom, Germany, Canada', 'Country_United States, United Kingdom, Hungary', 'Country_United States, United Kingdom, Hungary, Jordan', 'Country_United States, United Kingdom, India', 'Country_United States, United Kingdom, Italy', 'Country_United States, United Kingdom, Italy, Saudi Arabia', 'Country_United States, United Kingdom, Italy, Taiwan, Mexico, Japan', 'Country_United States, United Kingdom, Japan', 'Country_United States, United Kingdom, Japan, Hungary', 'Country_United States, United Kingdom, New Zealand, India', 'Country_United States, United Kingdom, Qatar', 'Country_United States, United Kingdom, Singapore, Canada, Australia', 'Country_United States, United Kingdom, Spain, South Korea', 'Country_United States, United Kingdom, Sweden, China', 'Country_United States, Vietnam, United Kingdom, Canada, Denmark', 'Rated_G', 'Rated_Not Rated', 'Rated_PG', 'Rated_PG-13', 'Rated_R', 'Rated_TV-MA', 'Rated_TV-PG']\n",
      "Target vector shape: (1247,)\n",
      "Data shapes before splitting - X: (1247, 360), y: (1247,)\n",
      "Training data shapes - X_train: (872, 360), y_train: (872,)\n",
      "Test data shapes - X_test: (375, 360), y_test: (375,)\n",
      "Coefficients shape: (361,)\n",
      "Linear Regression Model MSE: 6.378270026368858e+22\n",
      "Linear Regression Model R^2: -8.649047675895793e+17\n"
     ]
    },
    {
     "data": {
      "image/png": "[encoded data removed]",
      "text/plain": [
       "<Figure size 800x600 with 1 Axes>"
      ]
     },
     "metadata": {},
     "output_type": "display_data"
    }
   ],
   "source": [
    "def main():\n",
    "    try:\n",
    "        X, y, df = preprocess(df_clean)\n",
    "    except ValueError as e:\n",
    "        print(\"Preprocessing error: \", e)\n",
    "        return\n",
    "\n",
    "    evaluate_reg_model(X, y)\n",
    "\n",
    "if __name__ == '__main__':\n",
    "    main()\n"
   ]
  },
  {
   "cell_type": "code",
   "execution_count": 16,
   "id": "f285803c",
   "metadata": {},
   "outputs": [
    {
     "name": "stdout",
     "output_type": "stream",
     "text": [
      "Dropping object columns: ['Director', 'Writer', 'Actors', 'Plot', 'Language', 'Awards', 'imdbID', 'BoxOffice', 'Keywords']\n",
      "DataFrame dtypes after preprocessing:\n",
      "Runtime                 int64\n",
      "Rating                float64\n",
      "Worldwide_millions    float64\n",
      "Domestic_millions     float64\n",
      "Release Month           int32\n",
      "                       ...   \n",
      "Rated_PG                 bool\n",
      "Rated_PG-13              bool\n",
      "Rated_R                  bool\n",
      "Rated_TV-MA              bool\n",
      "Rated_TV-PG              bool\n",
      "Length: 361, dtype: object\n",
      "Feature matrix shape: (1247, 360)\n",
      "Feature names: ['Runtime', 'Rating', 'Domestic_millions', 'Release Month', 'Genre Random_Adventure', 'Genre Random_Animation', 'Genre Random_Biography', 'Genre Random_Comedy', 'Genre Random_Crime', 'Genre Random_Documentary', 'Genre Random_Drama', 'Genre Random_Family', 'Genre Random_Fantasy', 'Genre Random_History', 'Genre Random_Horror', 'Genre Random_Music', 'Genre Random_Musical', 'Genre Random_Mystery', 'Genre Random_Romance', 'Genre Random_Sci-Fi', 'Genre Random_Sport', 'Genre Random_Thriller', 'Genre Random_War', 'Genre Random_Western', 'Country_Australia, United Kingdom', 'Country_Australia, United Kingdom, United States', 'Country_Australia, United States', 'Country_Australia, United States, Turkey', 'Country_Australia, United States, United Kingdom', 'Country_Australia, United States, United Kingdom, Singapore, India', 'Country_Brazil, France, Italy, United States', 'Country_Bulgaria, United States', 'Country_Canada, France', 'Country_Canada, Germany', 'Country_Canada, Germany, France, United Kingdom, United States', 'Country_Canada, Germany, United States, United Kingdom', 'Country_Canada, Japan, United States', 'Country_Canada, South Korea, United States', 'Country_Canada, Spain', 'Country_Canada, United States', 'Country_Canada, United States, Russia', 'Country_Canada, United States, United Kingdom', 'Country_Canada, United States, United Kingdom, India, Australia, Brazil, China', 'Country_China, Canada, United States', 'Country_China, India, Hong Kong, United States', 'Country_China, Lithuania, United States, United Kingdom, Canada, Italy, India', 'Country_China, United States', 'Country_China, United States, Canada, Japan', 'Country_Croatia, United States, Hungary', 'Country_Czech Republic, New Zealand, United States, Germany', 'Country_Czech Republic, United Kingdom, United States', 'Country_Denmark, Norway, Australia, United States', 'Country_Denmark, Sweden, Belgium, France', 'Country_Finland, United States, Canada', 'Country_France, Canada, Italy, United States, China', 'Country_France, Canada, United States, Spain', 'Country_France, China, Belgium', 'Country_France, China, Belgium, Germany, United Arab Emirates, United States, Canada, Qatar', 'Country_France, China, Canada, United States', 'Country_France, Germany, Spain, United States, Canada', 'Country_France, Germany, Taiwan, Canada', 'Country_France, Germany, United Kingdom, Belgium, United States', 'Country_France, Japan, United States', 'Country_France, United Kingdom', 'Country_France, United Kingdom, Belgium, Canada, United States', 'Country_France, United Kingdom, United States', 'Country_France, United States', 'Country_France, United States, Turkey, United Kingdom', 'Country_France, United States, United Kingdom', 'Country_Germany, Luxembourg, United States', 'Country_Germany, United Kingdom', 'Country_Germany, United Kingdom, Canada, Sweden, United States', 'Country_Germany, United States', 'Country_Germany, United States, Japan, China, South Africa, Canada', 'Country_Hong Kong, Iceland, United States, United Kingdom', 'Country_Hong Kong, United States', 'Country_India, United Kingdom, Australia, United States', 'Country_India, United States', 'Country_Ireland, Canada, United Kingdom, United States', 'Country_Ireland, United Kingdom, Canada, United States', 'Country_Ireland, United Kingdom, United States', 'Country_Ireland, United Kingdom, United States, Hungary', 'Country_Ireland, United States, Hong Kong, South Korea, Canada', 'Country_Italy, United States', 'Country_Japan, Canada, United States', 'Country_Japan, United States', 'Country_Japan, United States, France', 'Country_Mexico, United States', 'Country_Netherlands, United Kingdom, Germany, United States', 'Country_New Zealand', 'Country_New Zealand, United States', 'Country_Poland, United Kingdom, United States, Switzerland, Netherlands', 'Country_Russia, United States', 'Country_South Korea, Japan', 'Country_South Korea, United States, Canada, Netherlands, Switzerland, China', 'Country_Spain, Thailand, United States', 'Country_Spain, United Kingdom, France, United States', 'Country_Spain, United States, France', 'Country_Spain, United States, United Kingdom, Belgium', 'Country_Sweden, United States', 'Country_Switzerland, France, Spain, Monaco, United Arab Emirates, United States', 'Country_United Arab Emirates, United States', 'Country_United Arab Emirates, United States, France', 'Country_United Kingdom', 'Country_United Kingdom, Australia, United States', 'Country_United Kingdom, Australia, United States, Jordan, Morocco', 'Country_United Kingdom, Canada, United States', 'Country_United Kingdom, Canada, United States, Australia', 'Country_United Kingdom, Canada, United States, France', 'Country_United Kingdom, China', 'Country_United Kingdom, China, France, United States', 'Country_United Kingdom, China, Japan, United States', 'Country_United Kingdom, China, Japan, United States, Mexico', 'Country_United Kingdom, China, United States', 'Country_United Kingdom, China, United States, India, Switzerland', 'Country_United Kingdom, China, United States, Taiwan', 'Country_United Kingdom, Czech Republic, Australia, United States', 'Country_United Kingdom, France', 'Country_United Kingdom, France, Australia, United States', 'Country_United Kingdom, France, Germany, United States', 'Country_United Kingdom, France, Italy, United States', 'Country_United Kingdom, France, United States', 'Country_United Kingdom, France, United States, Canada', 'Country_United Kingdom, France, United States, China', 'Country_United Kingdom, Germany, Canada', 'Country_United Kingdom, Germany, France, United States', 'Country_United Kingdom, Germany, Japan, United States', 'Country_United Kingdom, Germany, United States', 'Country_United Kingdom, India, Australia, New Zealand, United States, Canada', 'Country_United Kingdom, India, United States', 'Country_United Kingdom, Japan, United States', 'Country_United Kingdom, Netherlands, France, United States', 'Country_United Kingdom, Norway, China, Canada, United States, France', 'Country_United Kingdom, Poland, United States', 'Country_United Kingdom, South Africa, United States, India', 'Country_United Kingdom, Spain, Ireland, United States', 'Country_United Kingdom, Spain, United States', 'Country_United Kingdom, Sweden, Germany, Mexico, France, Turkey, Denmark, United States, Switzerland, Greece', 'Country_United Kingdom, United States', 'Country_United Kingdom, United States, Australia, Canada, Denmark', 'Country_United Kingdom, United States, Bulgaria, Romania', 'Country_United Kingdom, United States, Canada', 'Country_United Kingdom, United States, Canada, Australia, Japan, China', 'Country_United Kingdom, United States, China', 'Country_United Kingdom, United States, China, Indonesia, Turkey', 'Country_United Kingdom, United States, Denmark, Canada, Italy', 'Country_United Kingdom, United States, Dominican Republic', 'Country_United Kingdom, United States, France', 'Country_United Kingdom, United States, Germany', 'Country_United Kingdom, United States, Germany, Denmark, Belgium, Japan', 'Country_United Kingdom, United States, Iceland', 'Country_United Kingdom, United States, India, Canada', 'Country_United Kingdom, United States, India, Spain, Canada', 'Country_United Kingdom, United States, Italy', 'Country_United Kingdom, United States, Japan', 'Country_United Kingdom, United States, Japan, China, Croatia', 'Country_United Kingdom, United States, Morocco, Italy, Austria, Canada, Mexico', 'Country_United Kingdom, United States, New Zealand, France, Canada, India', 'Country_United Kingdom, United States, Puerto Rico', 'Country_United Kingdom, United States, Sweden', 'Country_United Kingdom, United States, Sweden, Bulgaria, France', 'Country_United Kingdom, United States, Turkey, China', 'Country_United Kingdom, United States, Turkey, Philippines, Netherlands', 'Country_United Kingdom, United States, United Arab Emirates, Germany', 'Country_United States', 'Country_United States, Argentina', 'Country_United States, Australia', 'Country_United States, Australia, Canada', 'Country_United States, Australia, Canada, Mexico, India, United Kingdom', 'Country_United States, Australia, China', 'Country_United States, Australia, France, Canada, Germany, Brazil, United Kingdom, China', 'Country_United States, Australia, Hong Kong', 'Country_United States, Australia, Philippines, Italy, Denmark, United Kingdom', 'Country_United States, Australia, Spain', 'Country_United States, Australia, United Kingdom', 'Country_United States, Australia, United Kingdom, Canada', 'Country_United States, Belgium, Canada', 'Country_United States, Bulgaria', 'Country_United States, Bulgaria, Spain, Germany', 'Country_United States, Canada', 'Country_United States, Canada, Australia', 'Country_United States, Canada, Bulgaria, Ireland, Philippines, China, Austria, Brazil, Belgium', 'Country_United States, Canada, China', 'Country_United States, Canada, China, Hong Kong', 'Country_United States, Canada, Colombia', 'Country_United States, Canada, France', 'Country_United States, Canada, France, Germany', 'Country_United States, Canada, Germany, Hungary, Netherlands', 'Country_United States, Canada, Hong Kong', 'Country_United States, Canada, Hong Kong, Luxembourg', 'Country_United States, Canada, India', 'Country_United States, Canada, Ireland', 'Country_United States, Canada, Italy, United Kingdom', 'Country_United States, Canada, Japan', 'Country_United States, Canada, Japan, Australia', 'Country_United States, Canada, Japan, United Kingdom', 'Country_United States, Canada, Mexico, Hong Kong', 'Country_United States, Canada, New Zealand, Hungary', 'Country_United States, Canada, Russia', 'Country_United States, Canada, South Africa, China', 'Country_United States, Canada, United Kingdom', 'Country_United States, Canada, United Kingdom, New Zealand, Hungary, Peru, China', 'Country_United States, Canada, Vietnam, France, United Kingdom', 'Country_United States, China', 'Country_United States, China, Canada', 'Country_United States, China, Canada, Australia', 'Country_United States, China, France, Norway', 'Country_United States, China, Hong Kong', 'Country_United States, China, Hong Kong, Australia, Canada, Japan', 'Country_United States, China, Japan', 'Country_United States, China, Japan, Canada, United Arab Emirates', 'Country_United States, China, Spain, Japan, Iceland, Germany, Italy', 'Country_United States, China, Thailand, Germany, Canada, United Kingdom', 'Country_United States, China, United Kingdom, Austria, Morocco, Hong Kong', 'Country_United States, China, United Kingdom, Canada, Hong Kong', 'Country_United States, China, United Kingdom, Canada, Poland', 'Country_United States, China, United Kingdom, Japan', 'Country_United States, China, Vietnam, Canada, Germany, United Kingdom, Singapore, India, Australia', 'Country_United States, Colombia, United Kingdom', 'Country_United States, Denmark, Australia, Norway', 'Country_United States, France', 'Country_United States, France, Bulgaria, Germany', 'Country_United States, France, Canada, Belgium', 'Country_United States, France, Chile, China', 'Country_United States, France, China, United Kingdom', 'Country_United States, France, Germany, Bulgaria', 'Country_United States, France, Japan', 'Country_United States, France, United Kingdom', 'Country_United States, France, United Kingdom, Hong Kong, Taiwan, Malta, Spain, Canada', 'Country_United States, Germany', 'Country_United States, Germany, Canada, France', 'Country_United States, Germany, Canada, United Kingdom', 'Country_United States, Germany, China', 'Country_United States, Germany, France', 'Country_United States, Germany, France, United Kingdom', 'Country_United States, Germany, Hong Kong, Singapore, China, United Kingdom, Spain', 'Country_United States, Germany, New Zealand, United Kingdom, India, South Korea, Canada', 'Country_United States, Germany, Puerto Rico', 'Country_United States, Germany, Sweden, France, United Kingdom', 'Country_United States, Germany, United Kingdom', 'Country_United States, Hong Kong', 'Country_United States, Hong Kong, Bulgaria, Netherlands, Canada, United Kingdom, France', 'Country_United States, Hong Kong, Canada', 'Country_United States, Hong Kong, China', 'Country_United States, Hong Kong, France, Bulgaria, Spain, Sweden, Portugal', 'Country_United States, Hong Kong, Japan, Canada, New Zealand', 'Country_United States, Hong Kong, Japan, United Arab Emirates', 'Country_United States, Hong Kong, Taiwan, Argentina', 'Country_United States, Hungary', 'Country_United States, Hungary, Canada', 'Country_United States, Hungary, Italy', 'Country_United States, Iceland, Japan', 'Country_United States, India', 'Country_United States, India, Australia, New Zealand, Thailand, Canada, South Korea, China, Netherlands', 'Country_United States, India, Canada', 'Country_United States, India, Canada, Italy, United Kingdom, Zambia', 'Country_United States, India, Germany', 'Country_United States, India, Hong Kong, China, Canada', 'Country_United States, India, Jordan', 'Country_United States, India, Singapore, Canada, United Kingdom, Japan, Australia', 'Country_United States, India, United Kingdom', 'Country_United States, India, United Kingdom, Australia', 'Country_United States, India, United Kingdom, Germany', 'Country_United States, Iraq, Canada', 'Country_United States, Ireland', 'Country_United States, Ireland, Australia, Canada', 'Country_United States, Ireland, New Zealand, Netherlands, United Kingdom', 'Country_United States, Italy', 'Country_United States, Italy, Australia', 'Country_United States, Italy, Canada, Japan, United Kingdom', 'Country_United States, Italy, Hong Kong, Canada', 'Country_United States, Italy, Spain', 'Country_United States, Italy, United Kingdom, China', 'Country_United States, Japan', 'Country_United States, Japan, Canada', 'Country_United States, Japan, Canada, United Kingdom', 'Country_United States, Japan, China', 'Country_United States, Japan, Colombia, Canada', 'Country_United States, Japan, France', 'Country_United States, Japan, South Korea, Canada, United Arab Emirates, Philippines', 'Country_United States, Japan, United Kingdom', 'Country_United States, Japan, United Kingdom, Canada', 'Country_United States, Mexico', 'Country_United States, Mexico, Canada', 'Country_United States, Mexico, Canada, Germany', 'Country_United States, Mexico, Hong Kong', 'Country_United States, Mexico, Italy', 'Country_United States, Morocco', 'Country_United States, Morocco, Ukraine, Italy', 'Country_United States, New Zealand', 'Country_United States, New Zealand, Australia', 'Country_United States, New Zealand, France, Canada', 'Country_United States, New Zealand, Japan, China', 'Country_United States, Norway', 'Country_United States, Poland', 'Country_United States, Poland, United Arab Emirates, India', 'Country_United States, Romania', 'Country_United States, Russia', 'Country_United States, Russia, United Kingdom', 'Country_United States, Saudi Arabia', 'Country_United States, Serbia', 'Country_United States, South Africa, France', 'Country_United States, South Africa, Hungary, Canada', 'Country_United States, South Africa, Ireland', 'Country_United States, South Korea', 'Country_United States, South Korea, Australia', 'Country_United States, Spain', 'Country_United States, Spain, France, Canada, United Kingdom, China, Italy, Germany', 'Country_United States, Spain, Hungary', 'Country_United States, Spain, Hungary, China', 'Country_United States, Spain, United Kingdom', 'Country_United States, Sweden', 'Country_United States, Sweden, Canada, Ireland, United Kingdom', 'Country_United States, Sweden, Hungary', 'Country_United States, Switzerland', 'Country_United States, Taiwan, United Kingdom, Canada, India, France', 'Country_United States, Thailand, United Kingdom, India, Canada', 'Country_United States, United Arab Emirates', 'Country_United States, United Arab Emirates, India', 'Country_United States, United Arab Emirates, Russia, Canada, Czech Republic, India', 'Country_United States, United Arab Emirates, United Kingdom', 'Country_United States, United Kingdom', 'Country_United States, United Kingdom, Australia', 'Country_United States, United Kingdom, Australia, India', 'Country_United States, United Kingdom, Belgium, Canada', 'Country_United States, United Kingdom, Bulgaria', 'Country_United States, United Kingdom, Canada', 'Country_United States, United Kingdom, Canada, Australia, Germany', 'Country_United States, United Kingdom, Canada, China', 'Country_United States, United Kingdom, Canada, India, Germany', 'Country_United States, United Kingdom, Canada, Ireland', 'Country_United States, United Kingdom, Canada, Japan', 'Country_United States, United Kingdom, Canada, Spain', 'Country_United States, United Kingdom, China', 'Country_United States, United Kingdom, Denmark, Australia, Canada, India', 'Country_United States, United Kingdom, Finland, Canada', 'Country_United States, United Kingdom, France', 'Country_United States, United Kingdom, Germany', 'Country_United States, United Kingdom, Germany, Canada', 'Country_United States, United Kingdom, Hungary', 'Country_United States, United Kingdom, Hungary, Jordan', 'Country_United States, United Kingdom, India', 'Country_United States, United Kingdom, Italy', 'Country_United States, United Kingdom, Italy, Saudi Arabia', 'Country_United States, United Kingdom, Italy, Taiwan, Mexico, Japan', 'Country_United States, United Kingdom, Japan', 'Country_United States, United Kingdom, Japan, Hungary', 'Country_United States, United Kingdom, New Zealand, India', 'Country_United States, United Kingdom, Qatar', 'Country_United States, United Kingdom, Singapore, Canada, Australia', 'Country_United States, United Kingdom, Spain, South Korea', 'Country_United States, United Kingdom, Sweden, China', 'Country_United States, Vietnam, United Kingdom, Canada, Denmark', 'Rated_G', 'Rated_Not Rated', 'Rated_PG', 'Rated_PG-13', 'Rated_R', 'Rated_TV-MA', 'Rated_TV-PG']\n",
      "Target vector shape: (1247,)\n",
      "Data shapes before splitting - X: (1247, 360), y: (1247,)\n",
      "Training data shapes - X_train: (872, 360), y_train: (872,)\n",
      "Test data shapes - X_test: (375, 360), y_test: (375,)\n",
      "Coefficients shape: (361,)\n",
      "Linear Regression Model MSE: 6.378270026368858e+22\n",
      "Linear Regression Model R^2: -8.649047675895793e+17\n"
     ]
    },
    {
     "data": {
      "image/png": "[encoded data removed]",
      "text/plain": [
       "<Figure size 800x600 with 1 Axes>"
      ]
     },
     "metadata": {},
     "output_type": "display_data"
    },
    {
     "data": {
      "image/png": "[encoded data removed]",
      "text/plain": [
       "<Figure size 800x500 with 1 Axes>"
      ]
     },
     "metadata": {},
     "output_type": "display_data"
    },
    {
     "data": {
      "image/png": "[encoded data removed]",
      "text/plain": [
       "<Figure size 800x500 with 1 Axes>"
      ]
     },
     "metadata": {},
     "output_type": "display_data"
    },
    {
     "data": {
      "image/png": "[encoded data removed]",
      "text/plain": [
       "<Figure size 800x500 with 1 Axes>"
      ]
     },
     "metadata": {},
     "output_type": "display_data"
    }
   ],
   "source": [
    "import matplotlib.pyplot as plt\n",
    "import numpy as np\n",
    "\n",
    "X, y, df = preprocess(df_clean)\n",
    "\n",
    "regression_results = evaluate_reg_model(X, y)\n",
    "\n",
    "def check_assumptions(results):\n",
    "    # Extract residuals and predicted values\n",
    "    resids = results['resids']\n",
    "    ypreds = results['ypreds']\n",
    "    \n",
    "    # 1. Linearity Check - Residuals vs. Fitted Values\n",
    "    plt.figure(figsize=(8, 5))\n",
    "    plt.scatter(ypreds, resids, alpha=0.7)\n",
    "    plt.axhline(0, color='red', linestyle='--') \n",
    "    plt.xlabel(\"Predicted Values\")\n",
    "    plt.ylabel(\"Residuals\")\n",
    "    plt.title(\"Residuals vs. Fitted Values (Linearity Check)\")\n",
    "    plt.show()\n",
    "    \n",
    "    # 2. Autocorrelation Check - Residuals vs. Index of X\n",
    "    plt.figure(figsize=(8, 5))\n",
    "    plt.plot(range(len(resids)), resids, marker='o', linestyle='-', alpha=0.7)\n",
    "    plt.axhline(0, color='red', linestyle='--') \n",
    "    plt.xlabel(\"Index\")\n",
    "    plt.ylabel(\"Residuals\")\n",
    "    plt.title(\"Residuals vs. Index (Autocorrelation Check)\")\n",
    "    plt.show()\n",
    "    \n",
    "    # 3. Normality Check - Histogram of Residuals\n",
    "    plt.figure(figsize=(8, 5))\n",
    "    plt.hist(resids, bins=20, edgecolor='black', alpha=0.7)\n",
    "    plt.title(\"Histogram of Residuals (Normality Check)\")\n",
    "    plt.xlabel(\"Residuals\")\n",
    "    plt.ylabel(\"Frequency\")\n",
    "    plt.show()\n",
    "\n",
    "# Call the assumption checking function with the regression results\n",
    "check_assumptions(regression_results)\n"
   ]
  },
  {
   "cell_type": "markdown",
   "id": "57c0cf99-6f28-4531-b44a-a97fce6abd7f",
   "metadata": {},
   "source": [
    "## Part 2\n",
    "(2%) A discussion of the preliminary results:\n",
    "   - This may include checking of assumptions, generated plots/tables, measures of fit, or other attributes of the analysis\n",
    "   - It does not have to be fully correct, but as a proof of concept must demonstrate that the group is close to completing the analysis"
   ]
  },
  {
   "cell_type": "markdown",
   "id": "d606019c",
   "metadata": {},
   "source": [
    "Ethical discussion:\n",
    "\n",
    "- There could potentially be some representational bias due to the fact that the data collected may be only including the most popular movies from major studios, while more indie movies would not be included (even if it was successful). This could potentially skew the data towards more dominant groups and limit the visibility of other diverse film/film makers.\n",
    "- Additionally, there could be allocative bias in our data since most of the movies we have scrapped seemed to be in the action genre. This in turn could make our ML biased towards action movies and underestimate the success potential of other movies genres such as horror.\n",
    "- The last ethical concern that comes to mind is that there could be some potential bias in our data cleaning process. For example, some movies have more than one genre, however we are only interested in the first genre in the list. This can in turn underrepresent some genres within our ML"
   ]
  },
  {
   "cell_type": "markdown",
   "id": "e348685d-6361-449e-81ae-f35f9723b763",
   "metadata": {},
   "source": [
    "To begin our discussion of preliminary results, we would like to note that our model is not our final product and that it is still a work in progress. In our first iteration of the model, the model was nearly perfect with a $R^2$ of 0.99. We are aware that this is not due to our creation of a perfect model but because of an error in the code. We are working towards creating a model that is reasonably accurate. The model that we are submitting now is less accurate because we removed one of our features but it still not to the level that we want to deliver during our final presentation. Additionally, the MSE and $R^2$ values for our existing model are extremely unusual for a machine learning model. We contribute these problems to the challenges of creating our model, and we will have these fixed by the final deadline."
   ]
  },
  {
   "cell_type": "markdown",
   "id": "c2c0eae5",
   "metadata": {},
   "source": [
    "Checking of assumptions:\n",
    "\n",
    "- Because our model is not perfect our checking of assumptions are not going to reflect the final product.\n",
    "- That being said, the linearity check and exogeneity assumptions fail because the residuals vs. fitted values graph has a clear pattern that shows that as the values increase, the residuals decrease. This suggests that the graph is heavily overestimating values.\n",
    "- The autocorrelation test passes because there are no patterns. This means that our features are not likely to significantly influence each other\n",
    "- The normality assuption passes because it looks like the distribution is a normal distribution with most values at or near 0."
   ]
  },
  {
   "cell_type": "markdown",
   "id": "2dfda888",
   "metadata": {},
   "source": [
    "## Part 3: Polynomial Regression\n",
    "Can we predict worldwide box office sales based on the time that a movie was released?"
   ]
  },
  {
   "cell_type": "code",
   "execution_count": 17,
   "id": "57c75664",
   "metadata": {},
   "outputs": [
    {
     "data": {
      "text/html": [
       "<div>\n",
       "<style scoped>\n",
       "    .dataframe tbody tr th:only-of-type {\n",
       "        vertical-align: middle;\n",
       "    }\n",
       "\n",
       "    .dataframe tbody tr th {\n",
       "        vertical-align: top;\n",
       "    }\n",
       "\n",
       "    .dataframe thead th {\n",
       "        text-align: right;\n",
       "    }\n",
       "</style>\n",
       "<table border=\"1\" class=\"dataframe\">\n",
       "  <thead>\n",
       "    <tr style=\"text-align: right;\">\n",
       "      <th></th>\n",
       "      <th>Title</th>\n",
       "      <th>Year</th>\n",
       "      <th>Rated</th>\n",
       "      <th>Released</th>\n",
       "      <th>Runtime</th>\n",
       "      <th>Genre</th>\n",
       "      <th>Director</th>\n",
       "      <th>Writer</th>\n",
       "      <th>Actors</th>\n",
       "      <th>Plot</th>\n",
       "      <th>...</th>\n",
       "      <th>BoxOffice</th>\n",
       "      <th>Rating</th>\n",
       "      <th>Keywords</th>\n",
       "      <th>Worldwide_millions</th>\n",
       "      <th>Domestic_millions</th>\n",
       "      <th>Foreign_millions</th>\n",
       "      <th>Release Month</th>\n",
       "      <th>Genre Random</th>\n",
       "      <th>Date_parsed</th>\n",
       "      <th>Day_of_Year</th>\n",
       "    </tr>\n",
       "  </thead>\n",
       "  <tbody>\n",
       "    <tr>\n",
       "      <th>0</th>\n",
       "      <td>Toy Story 3</td>\n",
       "      <td>2010</td>\n",
       "      <td>G</td>\n",
       "      <td>18 Jun 2010</td>\n",
       "      <td>103</td>\n",
       "      <td>[Animation, Adventure, Comedy]</td>\n",
       "      <td>Lee Unkrich</td>\n",
       "      <td>John Lasseter, Andrew Stanton, Lee Unkrich</td>\n",
       "      <td>Tom Hanks, Tim Allen, Joan Cusack</td>\n",
       "      <td>The toys are mistakenly delivered to a day-car...</td>\n",
       "      <td>...</td>\n",
       "      <td>$415,004,880</td>\n",
       "      <td>7.799</td>\n",
       "      <td>escape, hostage, college, villain, sequel, bud...</td>\n",
       "      <td>1066.969703</td>\n",
       "      <td>415.004880</td>\n",
       "      <td>651.964823</td>\n",
       "      <td>6</td>\n",
       "      <td>Comedy</td>\n",
       "      <td>2010-06-18</td>\n",
       "      <td>169</td>\n",
       "    </tr>\n",
       "    <tr>\n",
       "      <th>1</th>\n",
       "      <td>Alice in Wonderland</td>\n",
       "      <td>2010</td>\n",
       "      <td>PG</td>\n",
       "      <td>05 Mar 2010</td>\n",
       "      <td>108</td>\n",
       "      <td>[Adventure, Family, Fantasy]</td>\n",
       "      <td>Tim Burton</td>\n",
       "      <td>Linda Woolverton, Lewis Carroll</td>\n",
       "      <td>Mia Wasikowska, Johnny Depp, Helena Bonham Carter</td>\n",
       "      <td>Nineteen-year-old Alice returns to the magical...</td>\n",
       "      <td>...</td>\n",
       "      <td>$334,191,110</td>\n",
       "      <td>6.638</td>\n",
       "      <td>based on novel or book, queen, psychotic, fant...</td>\n",
       "      <td>1025.467110</td>\n",
       "      <td>334.191110</td>\n",
       "      <td>691.276000</td>\n",
       "      <td>3</td>\n",
       "      <td>Fantasy</td>\n",
       "      <td>2010-03-05</td>\n",
       "      <td>64</td>\n",
       "    </tr>\n",
       "    <tr>\n",
       "      <th>2</th>\n",
       "      <td>Harry Potter and the Deathly Hallows: Part 1</td>\n",
       "      <td>2010</td>\n",
       "      <td>PG-13</td>\n",
       "      <td>19 Nov 2010</td>\n",
       "      <td>146</td>\n",
       "      <td>[Adventure, Family, Fantasy]</td>\n",
       "      <td>David Yates</td>\n",
       "      <td>Steve Kloves, J.K. Rowling</td>\n",
       "      <td>Daniel Radcliffe, Emma Watson, Rupert Grint</td>\n",
       "      <td>Harry Potter is tasked with the dangerous and ...</td>\n",
       "      <td>...</td>\n",
       "      <td>$296,374,621</td>\n",
       "      <td>7.700</td>\n",
       "      <td>witch, friendship, london, england, corruption...</td>\n",
       "      <td>960.283305</td>\n",
       "      <td>295.983305</td>\n",
       "      <td>664.300000</td>\n",
       "      <td>11</td>\n",
       "      <td>Family</td>\n",
       "      <td>2010-11-19</td>\n",
       "      <td>323</td>\n",
       "    </tr>\n",
       "    <tr>\n",
       "      <th>3</th>\n",
       "      <td>Inception</td>\n",
       "      <td>2010</td>\n",
       "      <td>PG-13</td>\n",
       "      <td>16 Jul 2010</td>\n",
       "      <td>148</td>\n",
       "      <td>[Action, Adventure, Sci-Fi]</td>\n",
       "      <td>Christopher Nolan</td>\n",
       "      <td>Christopher Nolan</td>\n",
       "      <td>Leonardo DiCaprio, Joseph Gordon-Levitt, Ellio...</td>\n",
       "      <td>A thief who steals corporate secrets through t...</td>\n",
       "      <td>...</td>\n",
       "      <td>$292,587,330</td>\n",
       "      <td>8.369</td>\n",
       "      <td>rescue, mission, dreams, airplane, paris, fran...</td>\n",
       "      <td>828.258695</td>\n",
       "      <td>292.576195</td>\n",
       "      <td>535.682500</td>\n",
       "      <td>7</td>\n",
       "      <td>Adventure</td>\n",
       "      <td>2010-07-16</td>\n",
       "      <td>197</td>\n",
       "    </tr>\n",
       "    <tr>\n",
       "      <th>4</th>\n",
       "      <td>Shrek Forever After</td>\n",
       "      <td>2010</td>\n",
       "      <td>PG</td>\n",
       "      <td>21 May 2010</td>\n",
       "      <td>93</td>\n",
       "      <td>[Animation, Adventure, Comedy]</td>\n",
       "      <td>Mike Mitchell</td>\n",
       "      <td>Josh Klausner, Darren Lemke, William Steig</td>\n",
       "      <td>Mike Myers, Cameron Diaz, Eddie Murphy</td>\n",
       "      <td>Rumpelstiltskin tricks a mid-life crisis burde...</td>\n",
       "      <td>...</td>\n",
       "      <td>$238,736,787</td>\n",
       "      <td>6.380</td>\n",
       "      <td>witch, sequel, ogre</td>\n",
       "      <td>752.600867</td>\n",
       "      <td>238.736787</td>\n",
       "      <td>513.864080</td>\n",
       "      <td>5</td>\n",
       "      <td>Animation</td>\n",
       "      <td>2010-05-21</td>\n",
       "      <td>141</td>\n",
       "    </tr>\n",
       "  </tbody>\n",
       "</table>\n",
       "<p>5 rows × 25 columns</p>\n",
       "</div>"
      ],
      "text/plain": [
       "                                          Title  Year  Rated     Released  \\\n",
       "0                                   Toy Story 3  2010      G  18 Jun 2010   \n",
       "1                           Alice in Wonderland  2010     PG  05 Mar 2010   \n",
       "2  Harry Potter and the Deathly Hallows: Part 1  2010  PG-13  19 Nov 2010   \n",
       "3                                     Inception  2010  PG-13  16 Jul 2010   \n",
       "4                           Shrek Forever After  2010     PG  21 May 2010   \n",
       "\n",
       "   Runtime                           Genre           Director  \\\n",
       "0      103  [Animation, Adventure, Comedy]        Lee Unkrich   \n",
       "1      108    [Adventure, Family, Fantasy]         Tim Burton   \n",
       "2      146    [Adventure, Family, Fantasy]        David Yates   \n",
       "3      148     [Action, Adventure, Sci-Fi]  Christopher Nolan   \n",
       "4       93  [Animation, Adventure, Comedy]      Mike Mitchell   \n",
       "\n",
       "                                       Writer  \\\n",
       "0  John Lasseter, Andrew Stanton, Lee Unkrich   \n",
       "1             Linda Woolverton, Lewis Carroll   \n",
       "2                  Steve Kloves, J.K. Rowling   \n",
       "3                           Christopher Nolan   \n",
       "4  Josh Klausner, Darren Lemke, William Steig   \n",
       "\n",
       "                                              Actors  \\\n",
       "0                  Tom Hanks, Tim Allen, Joan Cusack   \n",
       "1  Mia Wasikowska, Johnny Depp, Helena Bonham Carter   \n",
       "2        Daniel Radcliffe, Emma Watson, Rupert Grint   \n",
       "3  Leonardo DiCaprio, Joseph Gordon-Levitt, Ellio...   \n",
       "4             Mike Myers, Cameron Diaz, Eddie Murphy   \n",
       "\n",
       "                                                Plot  ...     BoxOffice  \\\n",
       "0  The toys are mistakenly delivered to a day-car...  ...  $415,004,880   \n",
       "1  Nineteen-year-old Alice returns to the magical...  ...  $334,191,110   \n",
       "2  Harry Potter is tasked with the dangerous and ...  ...  $296,374,621   \n",
       "3  A thief who steals corporate secrets through t...  ...  $292,587,330   \n",
       "4  Rumpelstiltskin tricks a mid-life crisis burde...  ...  $238,736,787   \n",
       "\n",
       "  Rating                                           Keywords  \\\n",
       "0  7.799  escape, hostage, college, villain, sequel, bud...   \n",
       "1  6.638  based on novel or book, queen, psychotic, fant...   \n",
       "2  7.700  witch, friendship, london, england, corruption...   \n",
       "3  8.369  rescue, mission, dreams, airplane, paris, fran...   \n",
       "4  6.380                                witch, sequel, ogre   \n",
       "\n",
       "   Worldwide_millions Domestic_millions Foreign_millions  Release Month  \\\n",
       "0         1066.969703        415.004880       651.964823              6   \n",
       "1         1025.467110        334.191110       691.276000              3   \n",
       "2          960.283305        295.983305       664.300000             11   \n",
       "3          828.258695        292.576195       535.682500              7   \n",
       "4          752.600867        238.736787       513.864080              5   \n",
       "\n",
       "  Genre Random  Date_parsed  Day_of_Year  \n",
       "0       Comedy   2010-06-18          169  \n",
       "1      Fantasy   2010-03-05           64  \n",
       "2       Family   2010-11-19          323  \n",
       "3    Adventure   2010-07-16          197  \n",
       "4    Animation   2010-05-21          141  \n",
       "\n",
       "[5 rows x 25 columns]"
      ]
     },
     "execution_count": 17,
     "metadata": {},
     "output_type": "execute_result"
    }
   ],
   "source": [
    "# first, we need to prepare the data\n",
    "# every movie has a date of release\n",
    "# we need to create a new column with the date represented as the number day of the year it is\n",
    "# ex: 1/1/2023 == 1, 1/2/2023 = 2\n",
    "df_clean[\"Date_parsed\"] = pd.to_datetime(df_clean[\"Released\"], format = \"%d %b %Y\") \n",
    "df_clean[\"Day_of_Year\"] = df_clean[\"Date_parsed\"].dt.dayofyear\n",
    "df_clean.head() # printing to verify correct handling "
   ]
  },
  {
   "cell_type": "code",
   "execution_count": 18,
   "id": "6fb0d622",
   "metadata": {},
   "outputs": [],
   "source": [
    "# now we have to extract the features that we want to use in the model and create the function\n",
    "from sklearn.linear_model import LinearRegression\n",
    "from sklearn.preprocessing import PolynomialFeatures\n",
    "from sklearn.metrics import mean_squared_error, r2_score\n",
    "\n",
    "def polynomial_regression(degree, dataframe, print_graph, print_values):\n",
    "    \"\"\"\n",
    "    Creates a polynomial regression model using day of the year to determine worldwide millions.\n",
    "\n",
    "    Inputs:\n",
    "        degree (int): number degree of the polynomial fit\n",
    "        dataframe (df): data frame with features\n",
    "        print_graph (boolean): indicates if the function should print a graph\n",
    "        print_value (boolean): indivate if the function should print metric values\n",
    "\n",
    "    Returns:\n",
    "        list: list where the first element is r^2 and the second is MSE\n",
    "        dataframe: the original dataframe\n",
    "    \"\"\"\n",
    "    X = dataframe[[\"Day_of_Year\"]]\n",
    "    y = dataframe[[\"Worldwide_millions\"]]\n",
    "    poly = PolynomialFeatures(degree = degree)\n",
    "    X_poly = poly.fit_transform(X)\n",
    "    model = LinearRegression()\n",
    "    model.fit(X_poly, y)\n",
    "    dataframe[\"Revenue_prediction\"] = model.predict(X_poly)\n",
    "   \n",
    "    mse = mean_squared_error(y, dataframe[\"Revenue_prediction\"])\n",
    "    r2 = r2_score(y, dataframe[\"Revenue_prediction\"])\n",
    "\n",
    "    if print_values == True:\n",
    "        print(f\"Mean Squared Error (MSE): {mse:.2f}\")\n",
    "        print(f\"R-squared (R²): {r2:.4f}\")\n",
    "\n",
    "    if print_graph == True:\n",
    "        # sorting by day of year\n",
    "        df_sorted = dataframe.sort_values(\"Day_of_Year\")\n",
    "\n",
    "        plt.scatter(df_sorted[\"Day_of_Year\"], df_sorted[\"Worldwide_millions\"], label = \"Actual Revenue\", alpha=0.6)\n",
    "        plt.plot(df_sorted[\"Day_of_Year\"], df_sorted[\"Revenue_prediction\"], label =\"Prediction (Polynomial Fit)\", linewidth=2, color = \"red\")\n",
    "        plt.xlabel(\"Day of Year\")\n",
    "        plt.ylabel(\"Worldwide Revenue (in Millions)\")\n",
    "        plt.title(f\"Polynomial Regression Fit, Degree = {degree}\")\n",
    "        plt.legend()\n",
    "        plt.show()\n",
    "\n",
    "    return [r2, mse], dataframe\n"
   ]
  },
  {
   "cell_type": "code",
   "execution_count": 19,
   "id": "3ba800ea",
   "metadata": {},
   "outputs": [
    {
     "data": {
      "image/png": "[encoded data removed]",
      "text/plain": [
       "<Figure size 640x480 with 1 Axes>"
      ]
     },
     "metadata": {},
     "output_type": "display_data"
    }
   ],
   "source": [
    "# One thing to note is that with polynomial models, you can experiment with the degree that you use to find the best fit.\n",
    "# We ran the polynomial_regression function with different degrees and plotted them to find the best degree \n",
    "# to use in our analysis. \n",
    "\n",
    "# We determined the best degree by comparing MSE and r-squared at different degrees. \n",
    "\n",
    "degree = 1\n",
    "r2_values = []\n",
    "mse_values = []\n",
    "degrees = [1, 2, 3, 4, 5, 6, 7, 8, 9, 10]\n",
    "while degree < 11:\n",
    "    results, df = polynomial_regression(degree, df_clean, False, False)\n",
    "    r2 = results[0]\n",
    "    mse = results[1]\n",
    "    r2_values.append(r2)\n",
    "    mse_values.append(mse)\n",
    "    degree += 1\n",
    "\n",
    "plt.scatter(degrees, r2_values, label = \"R2\")\n",
    "plt.plot(degrees, r2_values, label = \"R-Squared Line of Best Fit\", linewidth=2, color = \"red\")\n",
    "plt.title(label = \"Degree vs R-Squared\")\n",
    "plt.xlabel(\"Degree\")\n",
    "plt.ylabel(\"R-Squared\")\n",
    "plt.xticks(degrees)\n",
    "plt.show()"
   ]
  },
  {
   "cell_type": "code",
   "execution_count": 20,
   "id": "6c068702",
   "metadata": {},
   "outputs": [
    {
     "data": {
      "image/png": "[encoded data removed]",
      "text/plain": [
       "<Figure size 640x480 with 1 Axes>"
      ]
     },
     "metadata": {},
     "output_type": "display_data"
    }
   ],
   "source": [
    "plt.scatter(degrees, mse_values, label = \"MSE\", color = \"purple\")\n",
    "plt.plot(degrees, mse_values, label = \"MSE Line of Best Fit\", linewidth=2, color = \"green\")\n",
    "plt.title(label = \"Degree vs MSE\")\n",
    "plt.xlabel(\"Degree\")\n",
    "plt.ylabel(\"Mean Square Error\")\n",
    "plt.xticks(degrees)\n",
    "plt.show()"
   ]
  },
  {
   "cell_type": "markdown",
   "id": "6ae7c44a",
   "metadata": {},
   "source": [
    "To determine the degree that would result in the most accurate predictions, we needed to identify the degree with the $R^2$ closest to 1 and the lowest MSE. Using these criteria, we determined that degree = 6 is the most accurate degree to use with our polynomial model. "
   ]
  },
  {
   "cell_type": "code",
   "execution_count": 21,
   "id": "9b226569",
   "metadata": {},
   "outputs": [
    {
     "data": {
      "image/png": "[encoded data removed]",
      "text/plain": [
       "<Figure size 640x480 with 1 Axes>"
      ]
     },
     "metadata": {},
     "output_type": "display_data"
    },
    {
     "data": {
      "text/plain": [
       "([0.04918319933099302, 62756.737448818254],\n",
       "                                              Title  Year  Rated     Released  \\\n",
       " 0                                      Toy Story 3  2010      G  18 Jun 2010   \n",
       " 1                              Alice in Wonderland  2010     PG  05 Mar 2010   \n",
       " 2     Harry Potter and the Deathly Hallows: Part 1  2010  PG-13  19 Nov 2010   \n",
       " 3                                        Inception  2010  PG-13  16 Jul 2010   \n",
       " 4                              Shrek Forever After  2010     PG  21 May 2010   \n",
       " ...                                            ...   ...    ...          ...   \n",
       " 2684                             The Crime Is Mine  2023    NaN  08 Mar 2023   \n",
       " 2685                           The Taste of Things  2023  PG-13  09 Feb 2024   \n",
       " 2687                                     Freelance  2023      R  27 Oct 2023   \n",
       " 2690                                  The Peasants  2023      R  13 Oct 2023   \n",
       " 2691                                      Kandahar  2023      R  26 May 2023   \n",
       " \n",
       "       Runtime                           Genre                    Director  \\\n",
       " 0         103  [Animation, Adventure, Comedy]                 Lee Unkrich   \n",
       " 1         108    [Adventure, Family, Fantasy]                  Tim Burton   \n",
       " 2         146    [Adventure, Family, Fantasy]                 David Yates   \n",
       " 3         148     [Action, Adventure, Sci-Fi]           Christopher Nolan   \n",
       " 4          93  [Animation, Adventure, Comedy]               Mike Mitchell   \n",
       " ...       ...                             ...                         ...   \n",
       " 2684      102                 [Comedy, Crime]               François Ozon   \n",
       " 2685      135       [Drama, History, Romance]               Anh Hung Tran   \n",
       " 2687      108                [Action, Comedy]                Pierre Morel   \n",
       " 2690      114     [Animation, Drama, History]  DK Welchman, Hugh Welchman   \n",
       " 2691      119       [Action, Drama, Thriller]             Ric Roman Waugh   \n",
       " \n",
       "                                                  Writer  \\\n",
       " 0            John Lasseter, Andrew Stanton, Lee Unkrich   \n",
       " 1                       Linda Woolverton, Lewis Carroll   \n",
       " 2                            Steve Kloves, J.K. Rowling   \n",
       " 3                                     Christopher Nolan   \n",
       " 4            Josh Klausner, Darren Lemke, William Steig   \n",
       " ...                                                 ...   \n",
       " 2684       François Ozon, Philippe Piazzo, Georges Berr   \n",
       " 2685                        Anh Hung Tran, Marcel Rouff   \n",
       " 2687                                        Jacob Lentz   \n",
       " 2690  Wladyslaw Stanislaw Reymont, DK Welchman, Hugh...   \n",
       " 2691                                 Mitchell LaFortune   \n",
       " \n",
       "                                                  Actors  \\\n",
       " 0                     Tom Hanks, Tim Allen, Joan Cusack   \n",
       " 1     Mia Wasikowska, Johnny Depp, Helena Bonham Carter   \n",
       " 2           Daniel Radcliffe, Emma Watson, Rupert Grint   \n",
       " 3     Leonardo DiCaprio, Joseph Gordon-Levitt, Ellio...   \n",
       " 4                Mike Myers, Cameron Diaz, Eddie Murphy   \n",
       " ...                                                 ...   \n",
       " 2684  Nadia Tereszkiewicz, Rebecca Marder, Isabelle ...   \n",
       " 2685  Juliette Binoche, Benoît Magimel, Emmanuel Sal...   \n",
       " 2687            John Cena, Alison Brie, Juan Pablo Raba   \n",
       " 2690  Kamila Urzedowska, Robert Gulaczyk, Miroslaw Baka   \n",
       " 2691    Tom Rhys Harries, Farhad Bagheri, Gerard Butler   \n",
       " \n",
       "                                                    Plot  ... Rating  \\\n",
       " 0     The toys are mistakenly delivered to a day-car...  ...  7.799   \n",
       " 1     Nineteen-year-old Alice returns to the magical...  ...  6.638   \n",
       " 2     Harry Potter is tasked with the dangerous and ...  ...  7.700   \n",
       " 3     A thief who steals corporate secrets through t...  ...  8.369   \n",
       " 4     Rumpelstiltskin tricks a mid-life crisis burde...  ...  6.380   \n",
       " ...                                                 ...  ...    ...   \n",
       " 2684  Paris, France, 1935, and a young actress has j...  ...    NaN   \n",
       " 2685  The story of Eugenie, an esteemed cook, and Do...  ...    NaN   \n",
       " 2687  An ex-special forces operative takes a job to ...  ...  6.450   \n",
       " 2690  Jagna is a young woman determined to forge her...  ...    NaN   \n",
       " 2691  A CIA operative and his translator flee from s...  ...  6.800   \n",
       " \n",
       "                                                Keywords Worldwide_millions  \\\n",
       " 0     escape, hostage, college, villain, sequel, bud...        1066.969703   \n",
       " 1     based on novel or book, queen, psychotic, fant...        1025.467110   \n",
       " 2     witch, friendship, london, england, corruption...         960.283305   \n",
       " 3     rescue, mission, dreams, airplane, paris, fran...         828.258695   \n",
       " 4                                   witch, sequel, ogre         752.600867   \n",
       " ...                                                 ...                ...   \n",
       " 2684                                                NaN          10.473857   \n",
       " 2685                                                NaN          10.461523   \n",
       " 2687  coup d'etat, dictatorship, political assassina...          10.196704   \n",
       " 2690                                                NaN          10.064347   \n",
       " 2691  central intelligence agency (cia), undercover ...           9.387311   \n",
       " \n",
       "       Domestic_millions Foreign_millions Release Month  Genre Random  \\\n",
       " 0            415.004880       651.964823             6        Comedy   \n",
       " 1            334.191110       691.276000             3       Fantasy   \n",
       " 2            295.983305       664.300000            11        Family   \n",
       " 3            292.576195       535.682500             7     Adventure   \n",
       " 4            238.736787       513.864080             5     Animation   \n",
       " ...                 ...              ...           ...           ...   \n",
       " 2684           0.122083        10.351774             3        Comedy   \n",
       " 2685           2.654510         7.807013             2         Drama   \n",
       " 2687           5.314136         4.882568            10        Comedy   \n",
       " 2690           0.155188         9.909159            10     Animation   \n",
       " 2691           4.813132         4.574179             5      Thriller   \n",
       " \n",
       "      Date_parsed  Day_of_Year  Revenue_prediction  \n",
       " 0     2010-06-18          169          269.385072  \n",
       " 1     2010-03-05           64          135.933256  \n",
       " 2     2010-11-19          323          229.438082  \n",
       " 3     2010-07-16          197          228.111962  \n",
       " 4     2010-05-21          141          260.006664  \n",
       " ...          ...          ...                 ...  \n",
       " 2684  2023-03-08           67          137.741770  \n",
       " 2685  2024-02-09           40          133.397518  \n",
       " 2687  2023-10-27          300          149.227621  \n",
       " 2690  2023-10-13          286          111.348794  \n",
       " 2691  2023-05-26          146          265.280210  \n",
       " \n",
       " [1951 rows x 26 columns])"
      ]
     },
     "execution_count": 21,
     "metadata": {},
     "output_type": "execute_result"
    }
   ],
   "source": [
    "# at this point, we can use the polynomial regression model at the 6th degree\n",
    "polynomial_regression(6, df_clean, True, False)"
   ]
  },
  {
   "cell_type": "markdown",
   "id": "f81a3fcf",
   "metadata": {},
   "source": [
    "Looking at this graph, we are concerned that the high volume of movies with low revenue are impacting the accuracy of the model. To see if removing some of the low grossing movies improves accuracy, we filtered our original dataframe."
   ]
  },
  {
   "cell_type": "code",
   "execution_count": 22,
   "id": "697dd3d9",
   "metadata": {},
   "outputs": [
    {
     "data": {
      "image/png": "[encoded data removed]",
      "text/plain": [
       "<Figure size 640x480 with 1 Axes>"
      ]
     },
     "metadata": {},
     "output_type": "display_data"
    },
    {
     "data": {
      "text/plain": [
       "([0.08075428950167407, 103342.58565941062],\n",
       "                                              Title  Year  Rated     Released  \\\n",
       " 0                                      Toy Story 3  2010      G  18 Jun 2010   \n",
       " 1                              Alice in Wonderland  2010     PG  05 Mar 2010   \n",
       " 2     Harry Potter and the Deathly Hallows: Part 1  2010  PG-13  19 Nov 2010   \n",
       " 3                                        Inception  2010  PG-13  16 Jul 2010   \n",
       " 4                              Shrek Forever After  2010     PG  21 May 2010   \n",
       " ...                                            ...   ...    ...          ...   \n",
       " 2540                               The Equalizer 3  2023      R  01 Sep 2023   \n",
       " 2542                       Insidious: The Red Door  2023  PG-13  07 Jul 2023   \n",
       " 2543   Teenage Mutant Ninja Turtles: Mutant Mayhem  2023     PG  02 Aug 2023   \n",
       " 2544                                     Scream VI  2023      R  10 Mar 2023   \n",
       " 2547                    Killers of the Flower Moon  2023      R  20 Oct 2023   \n",
       " \n",
       "       Runtime                           Genre  \\\n",
       " 0         103  [Animation, Adventure, Comedy]   \n",
       " 1         108    [Adventure, Family, Fantasy]   \n",
       " 2         146    [Adventure, Family, Fantasy]   \n",
       " 3         148     [Action, Adventure, Sci-Fi]   \n",
       " 4          93  [Animation, Adventure, Comedy]   \n",
       " ...       ...                             ...   \n",
       " 2540      109       [Action, Crime, Thriller]   \n",
       " 2542      107     [Horror, Mystery, Thriller]   \n",
       " 2543       99  [Animation, Action, Adventure]   \n",
       " 2544      122     [Horror, Mystery, Thriller]   \n",
       " 2547      206         [Crime, Drama, History]   \n",
       " \n",
       "                                   Director  \\\n",
       " 0                              Lee Unkrich   \n",
       " 1                               Tim Burton   \n",
       " 2                              David Yates   \n",
       " 3                        Christopher Nolan   \n",
       " 4                            Mike Mitchell   \n",
       " ...                                    ...   \n",
       " 2540                         Antoine Fuqua   \n",
       " 2542                        Patrick Wilson   \n",
       " 2543               Jeff Rowe, Kyler Spears   \n",
       " 2544  Matt Bettinelli-Olpin, Tyler Gillett   \n",
       " 2547                       Martin Scorsese   \n",
       " \n",
       "                                               Writer  \\\n",
       " 0         John Lasseter, Andrew Stanton, Lee Unkrich   \n",
       " 1                    Linda Woolverton, Lewis Carroll   \n",
       " 2                         Steve Kloves, J.K. Rowling   \n",
       " 3                                  Christopher Nolan   \n",
       " 4         Josh Klausner, Darren Lemke, William Steig   \n",
       " ...                                              ...   \n",
       " 2540   Richard Wenk, Michael Sloan, Richard Lindheim   \n",
       " 2542                     Leigh Whannell, Scott Teems   \n",
       " 2543            Seth Rogen, Evan Goldberg, Jeff Rowe   \n",
       " 2544  James Vanderbilt, Guy Busick, Kevin Williamson   \n",
       " 2547         Eric Roth, Martin Scorsese, David Grann   \n",
       " \n",
       "                                                  Actors  \\\n",
       " 0                     Tom Hanks, Tim Allen, Joan Cusack   \n",
       " 1     Mia Wasikowska, Johnny Depp, Helena Bonham Carter   \n",
       " 2           Daniel Radcliffe, Emma Watson, Rupert Grint   \n",
       " 3     Leonardo DiCaprio, Joseph Gordon-Levitt, Ellio...   \n",
       " 4                Mike Myers, Cameron Diaz, Eddie Murphy   \n",
       " ...                                                 ...   \n",
       " 2540  Denzel Washington, Dakota Fanning, Eugenio Mas...   \n",
       " 2542            Ty Simpkins, Patrick Wilson, Rose Byrne   \n",
       " 2543       Micah Abbey, Shamon Brown Jr., Nicolas Cantu   \n",
       " 2544       Courteney Cox, Melissa Barrera, Jenna Ortega   \n",
       " 2547  Leonardo DiCaprio, Robert De Niro, Lily Gladstone   \n",
       " \n",
       "                                                    Plot  ... Rating  \\\n",
       " 0     The toys are mistakenly delivered to a day-car...  ...  7.799   \n",
       " 1     Nineteen-year-old Alice returns to the magical...  ...  6.638   \n",
       " 2     Harry Potter is tasked with the dangerous and ...  ...  7.700   \n",
       " 3     A thief who steals corporate secrets through t...  ...  8.369   \n",
       " 4     Rumpelstiltskin tricks a mid-life crisis burde...  ...  6.380   \n",
       " ...                                                 ...  ...    ...   \n",
       " 2540  Robert McCall finds himself at home in Souther...  ...  7.319   \n",
       " 2542  The Lamberts must go deeper into The Further t...  ...  6.577   \n",
       " 2543  The Turtle brothers work to earn the love of N...  ...  7.200   \n",
       " 2544  The survivors of the Ghostface killings leave ...  ...  7.000   \n",
       " 2547  When oil is discovered in 1920s Oklahoma under...  ...  7.439   \n",
       " \n",
       "                                                Keywords Worldwide_millions  \\\n",
       " 0     escape, hostage, college, villain, sequel, bud...        1066.969703   \n",
       " 1     based on novel or book, queen, psychotic, fant...        1025.467110   \n",
       " 2     witch, friendship, london, england, corruption...         960.283305   \n",
       " 3     rescue, mission, dreams, airplane, paris, fran...         828.258695   \n",
       " 4                                   witch, sequel, ogre         752.600867   \n",
       " ...                                                 ...                ...   \n",
       " 2540  italy, vigilante justice, dramatic, suspensefu...         191.067560   \n",
       " 2542  sequel, demon, franchise, insidious, malicious...         189.086877   \n",
       " 2543  new york city, sibling relationship, skateboar...         181.935518   \n",
       " 2544  mask, new york city, trauma, halloween, colleg...         166.577232   \n",
       " 2547  husband wife relationship, based on novel or b...         158.772599   \n",
       " \n",
       "       Domestic_millions Foreign_millions Release Month  Genre Random  \\\n",
       " 0            415.004880       651.964823             6        Comedy   \n",
       " 1            334.191110       691.276000             3       Fantasy   \n",
       " 2            295.983305       664.300000            11        Family   \n",
       " 3            292.576195       535.682500             7     Adventure   \n",
       " 4            238.736787       513.864080             5     Animation   \n",
       " ...                 ...              ...           ...           ...   \n",
       " 2540          92.373751        98.693809             9         Crime   \n",
       " 2542          82.156962       106.929915             7      Thriller   \n",
       " 2543         118.700272        63.235246             8     Animation   \n",
       " 2544         108.391107        58.186125             3       Mystery   \n",
       " 2547          68.035488        90.737111            10         Drama   \n",
       " \n",
       "      Date_parsed  Day_of_Year  Revenue_prediction  \n",
       " 0     2010-06-18          169          541.025560  \n",
       " 1     2010-03-05           64          395.347639  \n",
       " 2     2010-11-19          323          504.669817  \n",
       " 3     2010-07-16          197          451.179120  \n",
       " 4     2010-05-21          141          563.780001  \n",
       " ...          ...          ...                 ...  \n",
       " 2540  2023-09-01          244          275.277540  \n",
       " 2542  2023-07-07          188          485.677942  \n",
       " 2543  2023-08-02          214          379.616392  \n",
       " 2544  2023-03-10           69          406.113617  \n",
       " 2547  2023-10-20          293          340.547801  \n",
       " \n",
       " [616 rows x 26 columns])"
      ]
     },
     "execution_count": 22,
     "metadata": {},
     "output_type": "execute_result"
    }
   ],
   "source": [
    "df_filter = df_clean.copy()\n",
    "df_filter = df_filter[df_filter[\"Worldwide_millions\"] > 150]\n",
    "polynomial_regression(6, df_filter, True, False)"
   ]
  },
  {
   "cell_type": "markdown",
   "id": "2465bf1c",
   "metadata": {},
   "source": [
    "The $R^2$ increased by approximately 0.04, which shown an improvement but not a major one. "
   ]
  },
  {
   "cell_type": "code",
   "execution_count": 23,
   "id": "1bfcaf5f",
   "metadata": {},
   "outputs": [
    {
     "name": "stdout",
     "output_type": "stream",
     "text": [
      "Shape of new dataframe: (161, 26).\n",
      "Mean Squared Error (MSE): 95974.16\n",
      "R-squared (R²): 0.1275\n"
     ]
    },
    {
     "name": "stderr",
     "output_type": "stream",
     "text": [
      "/var/folders/l0/pqvhx5n96dlg0cyxnlb1ybsr0000gn/T/ipykernel_14319/2538087820.py:26: SettingWithCopyWarning: \n",
      "A value is trying to be set on a copy of a slice from a DataFrame.\n",
      "Try using .loc[row_indexer,col_indexer] = value instead\n",
      "\n",
      "See the caveats in the documentation: https://pandas.pydata.org/pandas-docs/stable/user_guide/indexing.html#returning-a-view-versus-a-copy\n",
      "  dataframe[\"Revenue_prediction\"] = model.predict(X_poly)\n"
     ]
    },
    {
     "data": {
      "image/png": "[encoded data removed]",
      "text/plain": [
       "<Figure size 640x480 with 1 Axes>"
      ]
     },
     "metadata": {},
     "output_type": "display_data"
    }
   ],
   "source": [
    "# How can we improve our r-squared? Remove outliers\n",
    "\n",
    "# Filter out outliers\n",
    "df_no_outliers = df_filter[(df_filter['Worldwide_millions'] >= 500) & (df_filter['Worldwide_millions'] <= 2500)]\n",
    "\n",
    "\n",
    "print(f\"Shape of new dataframe: {df_no_outliers.shape}.\")\n",
    "results, df_pred = polynomial_regression(6, df_no_outliers, True, True)"
   ]
  },
  {
   "cell_type": "markdown",
   "id": "c7eac7de",
   "metadata": {},
   "source": [
    "This improved accuracy but still not significantly. We then tried to add new features."
   ]
  },
  {
   "cell_type": "code",
   "execution_count": 24,
   "id": "1ee0e04f",
   "metadata": {},
   "outputs": [],
   "source": [
    "import plotly.graph_objects as go\n",
    "def polynomial_regression_genre_and_rated(degree, dataframe, genre_filter, rating_filter, print_graph, print_values, interactive_plot):\n",
    "    '''\n",
    "    Creates a polynomial regression model using features of day, genre, and MPAA rating to predict worldwide revenue.\n",
    "\n",
    "    Inputs:\n",
    "        - degree (int): polynomial degree to use in the model\n",
    "        - dataframe (df): dataframe containing all data\n",
    "        - genre_filter (str): either a string genre name or None, represents genre to filter/predict by\n",
    "        - rating_filter (str): either a string MPAA rating or None, represents rating to filter/predict by\n",
    "        - print_graph (boolean): determine if a graph is printed\n",
    "        - print_values (boolean): determine if metric values are printed\n",
    "        - interactive_plot (boolean): determine if a interactive px.scatter plot is printed\n",
    "    \n",
    "    Returns:\n",
    "        - list: a list of metric values, the first is r2 and the second is mse\n",
    "        - df: the original dataframe\n",
    "        - model: the trained model\n",
    "        - poly: polynomial features\n",
    "        - X.columns: used columns\n",
    "    '''\n",
    "    df = dataframe.copy()\n",
    "\n",
    "    # Apply genre and rating filters\n",
    "    if genre_filter:\n",
    "        df = df[df[\"Genre Random\"] == genre_filter]\n",
    "    if rating_filter:\n",
    "        df = df[df[\"Rated\"] == rating_filter]\n",
    "    if df.empty:\n",
    "        print(\"No data matches the specified Genre and Rating.\")\n",
    "        return [None, None], df\n",
    "\n",
    "    # dummy encoding categorical values\n",
    "    df = pd.get_dummies(df, columns=[\"Genre Random\", \"Rated\"], prefix=[\"Genre\", \"Rated\"])\n",
    "\n",
    "    poly = PolynomialFeatures(degree=degree, include_bias=False)\n",
    "    day_poly = poly.fit_transform(df[[\"Day_of_Year\"]])\n",
    "    day_poly_df = pd.DataFrame(day_poly, columns=[f'day_poly_{i}' for i in range(day_poly.shape[1])])\n",
    "    day_poly_df.index = df.index\n",
    "\n",
    "    # get encoded values\n",
    "    genre_cols = [col for col in df.columns if col.startswith(\"Genre_\")]\n",
    "    rated_cols = [col for col in df.columns if col.startswith(\"Rated_\")]\n",
    "\n",
    "    # aggregating everything\n",
    "    X = pd.concat([day_poly_df, df[genre_cols], df[rated_cols]], axis=1)\n",
    "    y = df[[\"Worldwide_millions\"]]\n",
    "\n",
    "    model = LinearRegression()\n",
    "    model.fit(X, y)\n",
    "    df[\"Revenue_prediction\"] = model.predict(X)\n",
    "\n",
    "    mse = mean_squared_error(y, df[\"Revenue_prediction\"])\n",
    "    r2 = r2_score(y, df[\"Revenue_prediction\"])\n",
    "\n",
    "    if print_values:\n",
    "        print(f\"Genre: {genre_filter}, Rating: {rating_filter}\")\n",
    "        print(f\"Mean Squared Error (MSE): {mse:.2f}\")\n",
    "        print(f\"R-squared (R²): {r2:.4f}\")\n",
    "\n",
    "    if print_graph:\n",
    "        df_sorted = df.sort_values(\"Day_of_Year\")\n",
    "        plt.scatter(df_sorted[\"Day_of_Year\"], df_sorted[\"Worldwide_millions\"], label=\"Actual Revenue\", alpha=0.6)\n",
    "        plt.xlabel(\"Day of Year\")\n",
    "        plt.ylabel(\"Worldwide Revenue (in Millions)\")\n",
    "        plt.title(f\"Polynomial Regression - {genre_filter} | {rating_filter}, Degree = {degree}\")\n",
    "\n",
    "        # making it a smooth line\n",
    "        day_range = pd.DataFrame({'Day_of_Year': np.linspace(1, 365, 500)})\n",
    "        day_poly = poly.fit_transform(day_range[[\"Day_of_Year\"]])\n",
    "        day_poly_df = pd.DataFrame(day_poly, columns=[f'day_poly_{i}' for i in range(day_poly.shape[1])])\n",
    "        day_poly_df.index = day_range.index\n",
    "\n",
    "        genre_means = df[genre_cols].mean().to_frame().T\n",
    "        rated_means = df[rated_cols].mean().to_frame().T\n",
    "        repeated_genre = pd.concat([genre_means] * len(day_range), ignore_index=True)\n",
    "        repeated_rated = pd.concat([rated_means] * len(day_range), ignore_index=True)\n",
    "\n",
    "        X_smooth = pd.concat([day_poly_df, repeated_genre, repeated_rated], axis=1)\n",
    "        smooth_predictions = model.predict(X_smooth)\n",
    "\n",
    "        plt.plot(day_range[\"Day_of_Year\"], smooth_predictions, color=\"red\", linewidth=2, label=\"Smoothed Prediction\")\n",
    "        plt.legend()\n",
    "        plt.show()\n",
    "\n",
    "    if interactive_plot:\n",
    "        df[\"hover_info\"] = (\n",
    "            \"Title: \" + df[\"Title\"].astype(str) +\n",
    "            \"<br>Genre: \" + dataframe.loc[df.index, \"Genre Random\"].astype(str) +\n",
    "            \"<br>Rated: \" + dataframe.loc[df.index, \"Rated\"].astype(str) +\n",
    "            \"<br>Actual: $\" + df[\"Worldwide_millions\"].round(2).astype(str) + \"M\" +\n",
    "            \"<br>Predicted: $\" + df[\"Revenue_prediction\"].round(2).astype(str) + \"M\"\n",
    "        )\n",
    "\n",
    "        # Interactive scatter plot\n",
    "        fig = px.scatter(\n",
    "            df,\n",
    "            x = \"Worldwide_millions\",\n",
    "            y = \"Revenue_prediction\",\n",
    "            hover_data=[\"hover_info\"],\n",
    "            labels={\n",
    "                \"Worldwide_millions\": \"Actual Revenue (Millions)\",\n",
    "                \"Revenue_prediction\": \"Predicted Revenue (Millions)\"\n",
    "            },\n",
    "            title=\"Actual vs Predicted Revenue (Hover for Details)\"\n",
    "        )\n",
    "\n",
    "        min_val = min(df[\"Worldwide_millions\"].min(), df[\"Revenue_prediction\"].min())\n",
    "        max_val = max(df[\"Worldwide_millions\"].max(), df[\"Revenue_prediction\"].max())\n",
    "        fig.add_trace(go.Scatter(\n",
    "            x=[min_val, max_val],\n",
    "            y=[min_val, max_val],\n",
    "            mode='lines',\n",
    "            name='Perfect Prediction',\n",
    "            line=dict(color='red', dash='dash')\n",
    "        ))\n",
    "\n",
    "        fig.update_traces(marker=dict(size=8, opacity=0.7))\n",
    "        fig.show()\n",
    "\n",
    "    return [r2, mse], df, model, poly, X.columns\n"
   ]
  },
  {
   "cell_type": "code",
   "execution_count": 25,
   "id": "0d84e458",
   "metadata": {},
   "outputs": [
    {
     "name": "stdout",
     "output_type": "stream",
     "text": [
      "Genre: Adventure, Rating: R\n",
      "Mean Squared Error (MSE): 18729.35\n",
      "R-squared (R²): 0.2887\n"
     ]
    },
    {
     "data": {
      "image/png": "[encoded data removed]",
      "text/plain": [
       "<Figure size 640x480 with 1 Axes>"
      ]
     },
     "metadata": {},
     "output_type": "display_data"
    },
    {
     "data": {
      "application/vnd.plotly.v1+json": {
       "config": {
        "plotlyServerURL": "https://plot.ly"
       },
       "data": [
        {
         "customdata": [
          [
           "Title: The Expendables<br>Genre: Adventure<br>Rated: R<br>Actual: $274.47M<br>Predicted: $85.93M"
          ],
          [
           "Title: Conan the Barbarian<br>Genre: Adventure<br>Rated: R<br>Actual: $63.52M<br>Predicted: $332.44M"
          ],
          [
           "Title: A Very Harold & Kumar Christmas<br>Genre: Adventure<br>Rated: R<br>Actual: $36.19M<br>Predicted: $64.76M"
          ],
          [
           "Title: Total Recall<br>Genre: Adventure<br>Rated: R<br>Actual: $198.47M<br>Predicted: $311.54M"
          ],
          [
           "Title: Act of Valor<br>Genre: Adventure<br>Rated: R<br>Actual: $82.5M<br>Predicted: $28.73M"
          ],
          [
           "Title: The Grey<br>Genre: Adventure<br>Rated: R<br>Actual: $79.78M<br>Predicted: $88.49M"
          ],
          [
           "Title: Riddick<br>Genre: Adventure<br>Rated: R<br>Actual: $98.34M<br>Predicted: $150.12M"
          ],
          [
           "Title: The Counselor<br>Genre: Adventure<br>Rated: R<br>Actual: $71.01M<br>Predicted: $229.89M"
          ],
          [
           "Title: The November Man<br>Genre: Adventure<br>Rated: R<br>Actual: $39.66M<br>Predicted: $111.27M"
          ],
          [
           "Title: Hitman: Agent 47<br>Genre: Adventure<br>Rated: R<br>Actual: $82.35M<br>Predicted: $95.93M"
          ],
          [
           "Title: A Walk in the Woods<br>Genre: Adventure<br>Rated: R<br>Actual: $37.46M<br>Predicted: $132.8M"
          ],
          [
           "Title: Sausage Party<br>Genre: Adventure<br>Rated: R<br>Actual: $140.71M<br>Predicted: $85.93M"
          ],
          [
           "Title: The Brothers Grimsby<br>Genre: Adventure<br>Rated: R<br>Actual: $27.98M<br>Predicted: $86.41M"
          ],
          [
           "Title: Kingsman: The Golden Circle<br>Genre: Adventure<br>Rated: R<br>Actual: $410.9M<br>Predicted: $232.12M"
          ],
          [
           "Title: Girls Trip<br>Genre: Adventure<br>Rated: R<br>Actual: $140.55M<br>Predicted: $119.83M"
          ],
          [
           "Title: Deadpool 2<br>Genre: Adventure<br>Rated: R<br>Actual: $734.55M<br>Predicted: $332.01M"
          ],
          [
           "Title: The Spy Who Dumped Me<br>Genre: Adventure<br>Rated: R<br>Actual: $75.32M<br>Predicted: $90.14M"
          ],
          [
           "Title: Terminator: Dark Fate<br>Genre: Adventure<br>Rated: R<br>Actual: $261.12M<br>Predicted: $128.0M"
          ],
          [
           "Title: Crawl<br>Genre: Adventure<br>Rated: R<br>Actual: $91.54M<br>Predicted: $152.22M"
          ],
          [
           "Title: Beast<br>Genre: Adventure<br>Rated: R<br>Actual: $59.1M<br>Predicted: $92.29M"
          ],
          [
           "Title: Strays<br>Genre: Adventure<br>Rated: R<br>Actual: $36.07M<br>Predicted: $90.76M"
          ]
         ],
         "hovertemplate": "Actual Revenue (Millions)=%{x}<br>Predicted Revenue (Millions)=%{y}<br>hover_info=%{customdata[0]}<extra></extra>",
         "legendgroup": "",
         "marker": {
          "color": "#636efa",
          "opacity": 0.7,
          "size": 8,
          "symbol": "circle"
         },
         "mode": "markers",
         "name": "",
         "orientation": "v",
         "showlegend": false,
         "type": "scatter",
         "x": [
          274.470394,
          63.523283,
          36.192775,
          198.467168,
          82.497035,
          79.781695,
          98.337295,
          71.009334,
          39.661919,
          82.347656,
          37.461274,
          140.705322,
          27.97904,
          410.902662,
          140.552359,
          734.546611,
          75.32068,
          261.119292,
          91.542097,
          59.095809,
          36.071267
         ],
         "xaxis": "x",
         "y": [
          85.9282448562829,
          332.43730803484357,
          64.75848851758809,
          311.537730447217,
          28.72554637148926,
          88.48748069794203,
          150.1164089393614,
          229.89098924764045,
          111.26856689550812,
          95.93051635222531,
          132.79596683426973,
          85.9282448562829,
          86.40926963248847,
          232.12286234715353,
          119.8282781540824,
          332.0054436746875,
          90.13980610554239,
          128.00162057080843,
          152.21915563478456,
          92.29406131599706,
          90.75897751365159
         ],
         "yaxis": "y"
        },
        {
         "line": {
          "color": "red",
          "dash": "dash"
         },
         "marker": {
          "opacity": 0.7,
          "size": 8
         },
         "mode": "lines",
         "name": "Perfect Prediction",
         "type": "scatter",
         "x": [
          27.97904,
          734.546611
         ],
         "y": [
          27.97904,
          734.546611
         ]
        }
       ],
       "layout": {
        "legend": {
         "tracegroupgap": 0
        },
        "template": {
         "data": {
          "bar": [
           {
            "error_x": {
             "color": "#2a3f5f"
            },
            "error_y": {
             "color": "#2a3f5f"
            },
            "marker": {
             "line": {
              "color": "#E5ECF6",
              "width": 0.5
             },
             "pattern": {
              "fillmode": "overlay",
              "size": 10,
              "solidity": 0.2
             }
            },
            "type": "bar"
           }
          ],
          "barpolar": [
           {
            "marker": {
             "line": {
              "color": "#E5ECF6",
              "width": 0.5
             },
             "pattern": {
              "fillmode": "overlay",
              "size": 10,
              "solidity": 0.2
             }
            },
            "type": "barpolar"
           }
          ],
          "carpet": [
           {
            "aaxis": {
             "endlinecolor": "#2a3f5f",
             "gridcolor": "white",
             "linecolor": "white",
             "minorgridcolor": "white",
             "startlinecolor": "#2a3f5f"
            },
            "baxis": {
             "endlinecolor": "#2a3f5f",
             "gridcolor": "white",
             "linecolor": "white",
             "minorgridcolor": "white",
             "startlinecolor": "#2a3f5f"
            },
            "type": "carpet"
           }
          ],
          "choropleth": [
           {
            "colorbar": {
             "outlinewidth": 0,
             "ticks": ""
            },
            "type": "choropleth"
           }
          ],
          "contour": [
           {
            "colorbar": {
             "outlinewidth": 0,
             "ticks": ""
            },
            "colorscale": [
             [
              0,
              "#0d0887"
             ],
             [
              0.1111111111111111,
              "#46039f"
             ],
             [
              0.2222222222222222,
              "#7201a8"
             ],
             [
              0.3333333333333333,
              "#9c179e"
             ],
             [
              0.4444444444444444,
              "#bd3786"
             ],
             [
              0.5555555555555556,
              "#d8576b"
             ],
             [
              0.6666666666666666,
              "#ed7953"
             ],
             [
              0.7777777777777778,
              "#fb9f3a"
             ],
             [
              0.8888888888888888,
              "#fdca26"
             ],
             [
              1,
              "#f0f921"
             ]
            ],
            "type": "contour"
           }
          ],
          "contourcarpet": [
           {
            "colorbar": {
             "outlinewidth": 0,
             "ticks": ""
            },
            "type": "contourcarpet"
           }
          ],
          "heatmap": [
           {
            "colorbar": {
             "outlinewidth": 0,
             "ticks": ""
            },
            "colorscale": [
             [
              0,
              "#0d0887"
             ],
             [
              0.1111111111111111,
              "#46039f"
             ],
             [
              0.2222222222222222,
              "#7201a8"
             ],
             [
              0.3333333333333333,
              "#9c179e"
             ],
             [
              0.4444444444444444,
              "#bd3786"
             ],
             [
              0.5555555555555556,
              "#d8576b"
             ],
             [
              0.6666666666666666,
              "#ed7953"
             ],
             [
              0.7777777777777778,
              "#fb9f3a"
             ],
             [
              0.8888888888888888,
              "#fdca26"
             ],
             [
              1,
              "#f0f921"
             ]
            ],
            "type": "heatmap"
           }
          ],
          "heatmapgl": [
           {
            "colorbar": {
             "outlinewidth": 0,
             "ticks": ""
            },
            "colorscale": [
             [
              0,
              "#0d0887"
             ],
             [
              0.1111111111111111,
              "#46039f"
             ],
             [
              0.2222222222222222,
              "#7201a8"
             ],
             [
              0.3333333333333333,
              "#9c179e"
             ],
             [
              0.4444444444444444,
              "#bd3786"
             ],
             [
              0.5555555555555556,
              "#d8576b"
             ],
             [
              0.6666666666666666,
              "#ed7953"
             ],
             [
              0.7777777777777778,
              "#fb9f3a"
             ],
             [
              0.8888888888888888,
              "#fdca26"
             ],
             [
              1,
              "#f0f921"
             ]
            ],
            "type": "heatmapgl"
           }
          ],
          "histogram": [
           {
            "marker": {
             "pattern": {
              "fillmode": "overlay",
              "size": 10,
              "solidity": 0.2
             }
            },
            "type": "histogram"
           }
          ],
          "histogram2d": [
           {
            "colorbar": {
             "outlinewidth": 0,
             "ticks": ""
            },
            "colorscale": [
             [
              0,
              "#0d0887"
             ],
             [
              0.1111111111111111,
              "#46039f"
             ],
             [
              0.2222222222222222,
              "#7201a8"
             ],
             [
              0.3333333333333333,
              "#9c179e"
             ],
             [
              0.4444444444444444,
              "#bd3786"
             ],
             [
              0.5555555555555556,
              "#d8576b"
             ],
             [
              0.6666666666666666,
              "#ed7953"
             ],
             [
              0.7777777777777778,
              "#fb9f3a"
             ],
             [
              0.8888888888888888,
              "#fdca26"
             ],
             [
              1,
              "#f0f921"
             ]
            ],
            "type": "histogram2d"
           }
          ],
          "histogram2dcontour": [
           {
            "colorbar": {
             "outlinewidth": 0,
             "ticks": ""
            },
            "colorscale": [
             [
              0,
              "#0d0887"
             ],
             [
              0.1111111111111111,
              "#46039f"
             ],
             [
              0.2222222222222222,
              "#7201a8"
             ],
             [
              0.3333333333333333,
              "#9c179e"
             ],
             [
              0.4444444444444444,
              "#bd3786"
             ],
             [
              0.5555555555555556,
              "#d8576b"
             ],
             [
              0.6666666666666666,
              "#ed7953"
             ],
             [
              0.7777777777777778,
              "#fb9f3a"
             ],
             [
              0.8888888888888888,
              "#fdca26"
             ],
             [
              1,
              "#f0f921"
             ]
            ],
            "type": "histogram2dcontour"
           }
          ],
          "mesh3d": [
           {
            "colorbar": {
             "outlinewidth": 0,
             "ticks": ""
            },
            "type": "mesh3d"
           }
          ],
          "parcoords": [
           {
            "line": {
             "colorbar": {
              "outlinewidth": 0,
              "ticks": ""
             }
            },
            "type": "parcoords"
           }
          ],
          "pie": [
           {
            "automargin": true,
            "type": "pie"
           }
          ],
          "scatter": [
           {
            "fillpattern": {
             "fillmode": "overlay",
             "size": 10,
             "solidity": 0.2
            },
            "type": "scatter"
           }
          ],
          "scatter3d": [
           {
            "line": {
             "colorbar": {
              "outlinewidth": 0,
              "ticks": ""
             }
            },
            "marker": {
             "colorbar": {
              "outlinewidth": 0,
              "ticks": ""
             }
            },
            "type": "scatter3d"
           }
          ],
          "scattercarpet": [
           {
            "marker": {
             "colorbar": {
              "outlinewidth": 0,
              "ticks": ""
             }
            },
            "type": "scattercarpet"
           }
          ],
          "scattergeo": [
           {
            "marker": {
             "colorbar": {
              "outlinewidth": 0,
              "ticks": ""
             }
            },
            "type": "scattergeo"
           }
          ],
          "scattergl": [
           {
            "marker": {
             "colorbar": {
              "outlinewidth": 0,
              "ticks": ""
             }
            },
            "type": "scattergl"
           }
          ],
          "scattermapbox": [
           {
            "marker": {
             "colorbar": {
              "outlinewidth": 0,
              "ticks": ""
             }
            },
            "type": "scattermapbox"
           }
          ],
          "scatterpolar": [
           {
            "marker": {
             "colorbar": {
              "outlinewidth": 0,
              "ticks": ""
             }
            },
            "type": "scatterpolar"
           }
          ],
          "scatterpolargl": [
           {
            "marker": {
             "colorbar": {
              "outlinewidth": 0,
              "ticks": ""
             }
            },
            "type": "scatterpolargl"
           }
          ],
          "scatterternary": [
           {
            "marker": {
             "colorbar": {
              "outlinewidth": 0,
              "ticks": ""
             }
            },
            "type": "scatterternary"
           }
          ],
          "surface": [
           {
            "colorbar": {
             "outlinewidth": 0,
             "ticks": ""
            },
            "colorscale": [
             [
              0,
              "#0d0887"
             ],
             [
              0.1111111111111111,
              "#46039f"
             ],
             [
              0.2222222222222222,
              "#7201a8"
             ],
             [
              0.3333333333333333,
              "#9c179e"
             ],
             [
              0.4444444444444444,
              "#bd3786"
             ],
             [
              0.5555555555555556,
              "#d8576b"
             ],
             [
              0.6666666666666666,
              "#ed7953"
             ],
             [
              0.7777777777777778,
              "#fb9f3a"
             ],
             [
              0.8888888888888888,
              "#fdca26"
             ],
             [
              1,
              "#f0f921"
             ]
            ],
            "type": "surface"
           }
          ],
          "table": [
           {
            "cells": {
             "fill": {
              "color": "#EBF0F8"
             },
             "line": {
              "color": "white"
             }
            },
            "header": {
             "fill": {
              "color": "#C8D4E3"
             },
             "line": {
              "color": "white"
             }
            },
            "type": "table"
           }
          ]
         },
         "layout": {
          "annotationdefaults": {
           "arrowcolor": "#2a3f5f",
           "arrowhead": 0,
           "arrowwidth": 1
          },
          "autotypenumbers": "strict",
          "coloraxis": {
           "colorbar": {
            "outlinewidth": 0,
            "ticks": ""
           }
          },
          "colorscale": {
           "diverging": [
            [
             0,
             "#8e0152"
            ],
            [
             0.1,
             "#c51b7d"
            ],
            [
             0.2,
             "#de77ae"
            ],
            [
             0.3,
             "#f1b6da"
            ],
            [
             0.4,
             "#fde0ef"
            ],
            [
             0.5,
             "#f7f7f7"
            ],
            [
             0.6,
             "#e6f5d0"
            ],
            [
             0.7,
             "#b8e186"
            ],
            [
             0.8,
             "#7fbc41"
            ],
            [
             0.9,
             "#4d9221"
            ],
            [
             1,
             "#276419"
            ]
           ],
           "sequential": [
            [
             0,
             "#0d0887"
            ],
            [
             0.1111111111111111,
             "#46039f"
            ],
            [
             0.2222222222222222,
             "#7201a8"
            ],
            [
             0.3333333333333333,
             "#9c179e"
            ],
            [
             0.4444444444444444,
             "#bd3786"
            ],
            [
             0.5555555555555556,
             "#d8576b"
            ],
            [
             0.6666666666666666,
             "#ed7953"
            ],
            [
             0.7777777777777778,
             "#fb9f3a"
            ],
            [
             0.8888888888888888,
             "#fdca26"
            ],
            [
             1,
             "#f0f921"
            ]
           ],
           "sequentialminus": [
            [
             0,
             "#0d0887"
            ],
            [
             0.1111111111111111,
             "#46039f"
            ],
            [
             0.2222222222222222,
             "#7201a8"
            ],
            [
             0.3333333333333333,
             "#9c179e"
            ],
            [
             0.4444444444444444,
             "#bd3786"
            ],
            [
             0.5555555555555556,
             "#d8576b"
            ],
            [
             0.6666666666666666,
             "#ed7953"
            ],
            [
             0.7777777777777778,
             "#fb9f3a"
            ],
            [
             0.8888888888888888,
             "#fdca26"
            ],
            [
             1,
             "#f0f921"
            ]
           ]
          },
          "colorway": [
           "#636efa",
           "#EF553B",
           "#00cc96",
           "#ab63fa",
           "#FFA15A",
           "#19d3f3",
           "#FF6692",
           "#B6E880",
           "#FF97FF",
           "#FECB52"
          ],
          "font": {
           "color": "#2a3f5f"
          },
          "geo": {
           "bgcolor": "white",
           "lakecolor": "white",
           "landcolor": "#E5ECF6",
           "showlakes": true,
           "showland": true,
           "subunitcolor": "white"
          },
          "hoverlabel": {
           "align": "left"
          },
          "hovermode": "closest",
          "mapbox": {
           "style": "light"
          },
          "paper_bgcolor": "white",
          "plot_bgcolor": "#E5ECF6",
          "polar": {
           "angularaxis": {
            "gridcolor": "white",
            "linecolor": "white",
            "ticks": ""
           },
           "bgcolor": "#E5ECF6",
           "radialaxis": {
            "gridcolor": "white",
            "linecolor": "white",
            "ticks": ""
           }
          },
          "scene": {
           "xaxis": {
            "backgroundcolor": "#E5ECF6",
            "gridcolor": "white",
            "gridwidth": 2,
            "linecolor": "white",
            "showbackground": true,
            "ticks": "",
            "zerolinecolor": "white"
           },
           "yaxis": {
            "backgroundcolor": "#E5ECF6",
            "gridcolor": "white",
            "gridwidth": 2,
            "linecolor": "white",
            "showbackground": true,
            "ticks": "",
            "zerolinecolor": "white"
           },
           "zaxis": {
            "backgroundcolor": "#E5ECF6",
            "gridcolor": "white",
            "gridwidth": 2,
            "linecolor": "white",
            "showbackground": true,
            "ticks": "",
            "zerolinecolor": "white"
           }
          },
          "shapedefaults": {
           "line": {
            "color": "#2a3f5f"
           }
          },
          "ternary": {
           "aaxis": {
            "gridcolor": "white",
            "linecolor": "white",
            "ticks": ""
           },
           "baxis": {
            "gridcolor": "white",
            "linecolor": "white",
            "ticks": ""
           },
           "bgcolor": "#E5ECF6",
           "caxis": {
            "gridcolor": "white",
            "linecolor": "white",
            "ticks": ""
           }
          },
          "title": {
           "x": 0.05
          },
          "xaxis": {
           "automargin": true,
           "gridcolor": "white",
           "linecolor": "white",
           "ticks": "",
           "title": {
            "standoff": 15
           },
           "zerolinecolor": "white",
           "zerolinewidth": 2
          },
          "yaxis": {
           "automargin": true,
           "gridcolor": "white",
           "linecolor": "white",
           "ticks": "",
           "title": {
            "standoff": 15
           },
           "zerolinecolor": "white",
           "zerolinewidth": 2
          }
         }
        },
        "title": {
         "text": "Actual vs Predicted Revenue (Hover for Details)"
        },
        "xaxis": {
         "anchor": "y",
         "domain": [
          0,
          1
         ],
         "title": {
          "text": "Actual Revenue (Millions)"
         }
        },
        "yaxis": {
         "anchor": "x",
         "domain": [
          0,
          1
         ],
         "title": {
          "text": "Predicted Revenue (Millions)"
         }
        }
       }
      }
     },
     "metadata": {},
     "output_type": "display_data"
    },
    {
     "data": {
      "text/plain": [
       "([0.2886809951758009, 18729.351859772716],\n",
       "                                 Title  Year     Released  Runtime  \\\n",
       " 24                    The Expendables  2010  13 Aug 2010      103   \n",
       " 282               Conan the Barbarian  2011  14 May 1982      129   \n",
       " 323   A Very Harold & Kumar Christmas  2011  04 Nov 2011       90   \n",
       " 422                      Total Recall  2012  01 Jun 1990      113   \n",
       " 465                      Act of Valor  2012  24 Feb 2012      110   \n",
       " 467                          The Grey  2012  27 Jan 2012      117   \n",
       " 642                           Riddick  2013  06 Sep 2013      119   \n",
       " 670                     The Counselor  2013  25 Oct 2013      117   \n",
       " 916                  The November Man  2014  27 Aug 2014      108   \n",
       " 1055                 Hitman: Agent 47  2015  21 Aug 2015       96   \n",
       " 1126              A Walk in the Woods  2015  02 Sep 2015      104   \n",
       " 1226                    Sausage Party  2016  12 Aug 2016       89   \n",
       " 1335             The Brothers Grimsby  2016  11 Mar 2016       83   \n",
       " 1382      Kingsman: The Golden Circle  2017  22 Sep 2017      141   \n",
       " 1423                       Girls Trip  2017  21 Jul 2017      122   \n",
       " 1564                       Deadpool 2  2018  18 May 2018      119   \n",
       " 1652            The Spy Who Dumped Me  2018  03 Aug 2018      117   \n",
       " 1771            Terminator: Dark Fate  2019  01 Nov 2019      128   \n",
       " 1822                            Crawl  2019  12 Jul 2019       87   \n",
       " 2364                            Beast  2022  19 Aug 2022       93   \n",
       " 2608                           Strays  2023  18 Aug 2023       93   \n",
       " \n",
       "                                Genre                     Director  \\\n",
       " 24     [Action, Adventure, Thriller]           Sylvester Stallone   \n",
       " 282             [Adventure, Fantasy]                  John Milius   \n",
       " 323              [Adventure, Comedy]        Todd Strauss-Schulson   \n",
       " 422      [Action, Adventure, Sci-Fi]               Paul Verhoeven   \n",
       " 465    [Action, Adventure, Thriller]      Mike McCoy, Scott Waugh   \n",
       " 467       [Action, Adventure, Drama]                 Joe Carnahan   \n",
       " 642      [Action, Adventure, Sci-Fi]                  David Twohy   \n",
       " 670       [Action, Adventure, Crime]                 Ridley Scott   \n",
       " 916       [Action, Adventure, Crime]              Roger Donaldson   \n",
       " 1055      [Action, Adventure, Crime]              Aleksander Bach   \n",
       " 1126  [Adventure, Biography, Comedy]                   Ken Kwapis   \n",
       " 1226  [Animation, Adventure, Comedy]  Conrad Vernon, Greg Tiernan   \n",
       " 1335     [Action, Adventure, Comedy]              Louis Leterrier   \n",
       " 1382     [Action, Adventure, Comedy]               Matthew Vaughn   \n",
       " 1423      [Adventure, Comedy, Drama]               Malcolm D. Lee   \n",
       " 1564     [Action, Adventure, Comedy]                 David Leitch   \n",
       " 1652     [Action, Adventure, Comedy]                Susanna Fogel   \n",
       " 1771     [Action, Adventure, Sci-Fi]                   Tim Miller   \n",
       " 1822     [Action, Adventure, Horror]                Alexandre Aja   \n",
       " 2364      [Action, Adventure, Drama]            Baltasar Kormákur   \n",
       " 2608             [Adventure, Comedy]               Josh Greenbaum   \n",
       " \n",
       "                                                Writer  \\\n",
       " 24                  Dave Callaham, Sylvester Stallone   \n",
       " 282       Robert E. Howard, John Milius, Oliver Stone   \n",
       " 323                   Jon Hurwitz, Hayden Schlossberg   \n",
       " 422      Philip K. Dick, Ronald Shusett, Dan O'Bannon   \n",
       " 465                                     Kurt Johnstad   \n",
       " 467               Joe Carnahan, Ian Mackenzie Jeffers   \n",
       " 642                 David Twohy, Jim Wheat, Ken Wheat   \n",
       " 670                                   Cormac McCarthy   \n",
       " 916        Michael Finch, Karl Gajdusek, Bill Granger   \n",
       " 1055        Skip Woods, Michael Finch, Morten Iversen   \n",
       " 1126       Michael Arndt, Bill Holderman, Bill Bryson   \n",
       " 1226           Kyle Hunter, Ariel Shaffir, Seth Rogen   \n",
       " 1335  Sacha Baron Cohen, Phil Johnston, Peter Baynham   \n",
       " 1382        Jane Goldman, Matthew Vaughn, Mark Millar   \n",
       " 1423       Erica Rivinoja, Kenya Barris, Tracy Oliver   \n",
       " 1564         Rhett Reese, Paul Wernick, Ryan Reynolds   \n",
       " 1652                     Susanna Fogel, David Iserson   \n",
       " 1771         David S. Goyer, Justin Rhodes, Billy Ray   \n",
       " 1822               Michael Rasmussen, Shawn Rasmussen   \n",
       " 2364                Jaime Primak Sullivan, Ryan Engle   \n",
       " 2608                                     Dan Perrault   \n",
       " \n",
       "                                                  Actors  \\\n",
       " 24            Sylvester Stallone, Jason Statham, Jet Li   \n",
       " 282   Arnold Schwarzenegger, James Earl Jones, Max v...   \n",
       " 323             Kal Penn, John Cho, Neil Patrick Harris   \n",
       " 422   Arnold Schwarzenegger, Sharon Stone, Michael I...   \n",
       " 465        Alex Veadov, Roselyn Sanchez, Nestor Serrano   \n",
       " 467          Liam Neeson, Dermot Mulroney, Frank Grillo   \n",
       " 642              Vin Diesel, Karl Urban, Katee Sackhoff   \n",
       " 670     Michael Fassbender, Penélope Cruz, Cameron Diaz   \n",
       " 916         Pierce Brosnan, Luke Bracey, Olga Kurylenko   \n",
       " 1055         Rupert Friend, Hannah Ware, Zachary Quinto   \n",
       " 1126          Robert Redford, Nick Nolte, Emma Thompson   \n",
       " 1226               Seth Rogen, Kristen Wiig, Jonah Hill   \n",
       " 1335       Sacha Baron Cohen, Mark Strong, Rebel Wilson   \n",
       " 1382            Taron Egerton, Colin Firth, Mark Strong   \n",
       " 1423     Regina Hall, Queen Latifah, Jada Pinkett Smith   \n",
       " 1564        Ryan Reynolds, Josh Brolin, Morena Baccarin   \n",
       " 1652  Justin Theroux, Kate McKinnon, Blanka Györfi-Tóth   \n",
       " 1771  Linda Hamilton, Arnold Schwarzenegger, Mackenz...   \n",
       " 1822       Kaya Scodelario, Barry Pepper, Morfydd Clark   \n",
       " 2364        Liyabuya Gongo, Martin Munro, Daniel Hadebe   \n",
       " 2608              Will Ferrell, Jamie Foxx, Isla Fisher   \n",
       " \n",
       "                                                    Plot  \\\n",
       " 24    A CIA operative hires a team of mercenaries to...   \n",
       " 282   A powerful warrior seeks to avenge the genocid...   \n",
       " 323   Six years after their Guantanamo Bay adventure...   \n",
       " 422   When a man goes in to have virtual vacation me...   \n",
       " 465   An elite team of Navy SEALs embark on a covert...   \n",
       " 467   After their plane crashes in Alaska, six oil w...   \n",
       " 642   Left for dead on a sun-scorched planet, Riddic...   \n",
       " 670   A lawyer finds himself in over his head when h...   \n",
       " 916   An ex-C.I.A. operative is brought back in on a...   \n",
       " 1055  An assassin teams up with a woman to help her ...   \n",
       " 1126  After spending two decades in England, Bill Br...   \n",
       " 1226  A sausage leads a group of supermarket product...   \n",
       " 1335  A new assignment forces a top spy to team up w...   \n",
       " 1382  After the Kingsman's headquarters is destroyed...   \n",
       " 1423  When four lifelong friends travel to New Orlea...   \n",
       " 1564  Foul-mouthed mutant mercenary Wade Wilson (a.k...   \n",
       " 1652  Best friends Audrey and Morgan unwittingly bec...   \n",
       " 1771  An augmented human and Sarah Connor must stop ...   \n",
       " 1822  Gigantic alligators swarm around a young woman...   \n",
       " 2364  A father and his two teenage daughters find th...   \n",
       " 2608  An abandoned dog teams up with other strays to...   \n",
       " \n",
       "                                           Language  ... Worldwide_millions  \\\n",
       " 24                                English, Spanish  ...         274.470394   \n",
       " 282                                        English  ...          63.523283   \n",
       " 323                               English, Spanish  ...          36.192775   \n",
       " 422                                        English  ...         198.467168   \n",
       " 465            English, Russian, Filipino, Spanish  ...          82.497035   \n",
       " 467                               English, Spanish  ...          79.781695   \n",
       " 642                                        English  ...          98.337295   \n",
       " 670                        English, Spanish, Dutch  ...          71.009334   \n",
       " 916                               English, Russian  ...          39.661919   \n",
       " 1055                                       English  ...          82.347656   \n",
       " 1126                                       English  ...          37.461274   \n",
       " 1226                                       English  ...         140.705322   \n",
       " 1335                            English, Ukrainian  ...          27.979040   \n",
       " 1382                     English, Italian, Swedish  ...         410.902662   \n",
       " 1423                                       English  ...         140.552359   \n",
       " 1564          English, Cantonese, Spanish, Russian  ...         734.546611   \n",
       " 1652  English, Russian, French, Lithuanian, German  ...          75.320680   \n",
       " 1771                              English, Spanish  ...         261.119292   \n",
       " 1822                                       English  ...          91.542097   \n",
       " 2364                                       English  ...          59.095809   \n",
       " 2608                                       English  ...          36.071267   \n",
       " \n",
       "      Domestic_millions  Foreign_millions Release Month Date_parsed  \\\n",
       " 24          103.068524        171.401870             8  2010-08-13   \n",
       " 282          21.295021         42.228262             5  1982-05-14   \n",
       " 323          35.061031          1.131744            11  2011-11-04   \n",
       " 422          58.877969        139.589199             6  1990-06-01   \n",
       " 465          70.012847         12.484188             2  2012-02-24   \n",
       " 467          51.580236         28.201459             1  2012-01-27   \n",
       " 642          42.025135         56.312160             9  2013-09-06   \n",
       " 670          16.973715         54.035619            10  2013-10-25   \n",
       " 916          25.018119         14.643800             8  2014-08-27   \n",
       " 1055         22.467450         59.880206             8  2015-08-21   \n",
       " 1126         29.504281          7.956993             9  2015-09-02   \n",
       " 1226         97.685686         43.019636             8  2016-08-12   \n",
       " 1335          6.874837         21.104203             3  2016-03-11   \n",
       " 1382        100.234838        310.667824             9  2017-09-22   \n",
       " 1423        115.171585         25.380774             7  2017-07-21   \n",
       " 1564        318.491426        416.055185             5  2018-05-18   \n",
       " 1652         33.562069         41.758611             8  2018-08-03   \n",
       " 1771         62.253077        198.866215            11  2019-11-01   \n",
       " 1822         39.014193         52.527904             7  2019-07-12   \n",
       " 2364         31.846530         27.249279             8  2022-08-19   \n",
       " 2608         23.988885         12.082382             8  2023-08-18   \n",
       " \n",
       "       Day_of_Year Revenue_prediction  Genre_Adventure  Rated_R  \\\n",
       " 24            225          85.928245             True     True   \n",
       " 282           134         332.437308             True     True   \n",
       " 323           308          64.758489             True     True   \n",
       " 422           152         311.537730             True     True   \n",
       " 465            55          28.725546             True     True   \n",
       " 467            27          88.487481             True     True   \n",
       " 642           249         150.116409             True     True   \n",
       " 670           298         229.890989             True     True   \n",
       " 916           239         111.268567             True     True   \n",
       " 1055          233          95.930516             True     True   \n",
       " 1126          245         132.795967             True     True   \n",
       " 1226          225          85.928245             True     True   \n",
       " 1335           71          86.409270             True     True   \n",
       " 1382          265         232.122862             True     True   \n",
       " 1423          202         119.828278             True     True   \n",
       " 1564          138         332.005444             True     True   \n",
       " 1652          215          90.139806             True     True   \n",
       " 1771          305         128.001621             True     True   \n",
       " 1822          193         152.219156             True     True   \n",
       " 2364          231          92.294061             True     True   \n",
       " 2608          230          90.758978             True     True   \n",
       " \n",
       "                                              hover_info  \n",
       " 24    Title: The Expendables<br>Genre: Adventure<br>...  \n",
       " 282   Title: Conan the Barbarian<br>Genre: Adventure...  \n",
       " 323   Title: A Very Harold & Kumar Christmas<br>Genr...  \n",
       " 422   Title: Total Recall<br>Genre: Adventure<br>Rat...  \n",
       " 465   Title: Act of Valor<br>Genre: Adventure<br>Rat...  \n",
       " 467   Title: The Grey<br>Genre: Adventure<br>Rated: ...  \n",
       " 642   Title: Riddick<br>Genre: Adventure<br>Rated: R...  \n",
       " 670   Title: The Counselor<br>Genre: Adventure<br>Ra...  \n",
       " 916   Title: The November Man<br>Genre: Adventure<br...  \n",
       " 1055  Title: Hitman: Agent 47<br>Genre: Adventure<br...  \n",
       " 1126  Title: A Walk in the Woods<br>Genre: Adventure...  \n",
       " 1226  Title: Sausage Party<br>Genre: Adventure<br>Ra...  \n",
       " 1335  Title: The Brothers Grimsby<br>Genre: Adventur...  \n",
       " 1382  Title: Kingsman: The Golden Circle<br>Genre: A...  \n",
       " 1423  Title: Girls Trip<br>Genre: Adventure<br>Rated...  \n",
       " 1564  Title: Deadpool 2<br>Genre: Adventure<br>Rated...  \n",
       " 1652  Title: The Spy Who Dumped Me<br>Genre: Adventu...  \n",
       " 1771  Title: Terminator: Dark Fate<br>Genre: Adventu...  \n",
       " 1822  Title: Crawl<br>Genre: Adventure<br>Rated: R<b...  \n",
       " 2364  Title: Beast<br>Genre: Adventure<br>Rated: R<b...  \n",
       " 2608  Title: Strays<br>Genre: Adventure<br>Rated: R<...  \n",
       " \n",
       " [21 rows x 27 columns],\n",
       " LinearRegression(),\n",
       " PolynomialFeatures(degree=6, include_bias=False),\n",
       " Index(['day_poly_0', 'day_poly_1', 'day_poly_2', 'day_poly_3', 'day_poly_4',\n",
       "        'day_poly_5', 'Genre_Adventure', 'Rated_R'],\n",
       "       dtype='object'))"
      ]
     },
     "execution_count": 25,
     "metadata": {},
     "output_type": "execute_result"
    }
   ],
   "source": [
    "polynomial_regression_genre_and_rated(6, df_clean, \"Adventure\", \"R\", True, True, True)"
   ]
  },
  {
   "cell_type": "code",
   "execution_count": 26,
   "id": "2f4b5f27",
   "metadata": {},
   "outputs": [
    {
     "name": "stdout",
     "output_type": "stream",
     "text": [
      "Genre: Comedy, Rating: G\n",
      "Mean Squared Error (MSE): 0.00\n",
      "R-squared (R²): 1.0000\n"
     ]
    },
    {
     "data": {
      "image/png": "[encoded data removed]",
      "text/plain": [
       "<Figure size 640x480 with 1 Axes>"
      ]
     },
     "metadata": {},
     "output_type": "display_data"
    },
    {
     "data": {
      "application/vnd.plotly.v1+json": {
       "config": {
        "plotlyServerURL": "https://plot.ly"
       },
       "data": [
        {
         "customdata": [
          [
           "Title: Toy Story 3<br>Genre: Comedy<br>Rated: G<br>Actual: $1066.97M<br>Predicted: $1066.97M"
          ],
          [
           "Title: Rio 2<br>Genre: Comedy<br>Rated: G<br>Actual: $498.78M<br>Predicted: $498.78M"
          ],
          [
           "Title: Cars 3<br>Genre: Comedy<br>Rated: G<br>Actual: $383.93M<br>Predicted: $383.93M"
          ],
          [
           "Title: Toy Story 4<br>Genre: Comedy<br>Rated: G<br>Actual: $1073.39M<br>Predicted: $1073.39M"
          ]
         ],
         "hovertemplate": "Actual Revenue (Millions)=%{x}<br>Predicted Revenue (Millions)=%{y}<br>hover_info=%{customdata[0]}<extra></extra>",
         "legendgroup": "",
         "marker": {
          "color": "#636efa",
          "opacity": 0.7,
          "size": 8,
          "symbol": "circle"
         },
         "mode": "markers",
         "name": "",
         "orientation": "v",
         "showlegend": false,
         "type": "scatter",
         "x": [
          1066.969703,
          498.781117,
          383.930656,
          1073.394593
         ],
         "xaxis": "x",
         "y": [
          1066.969702999515,
          498.78111699956935,
          383.9306559995457,
          1073.3945929993788
         ],
         "yaxis": "y"
        },
        {
         "line": {
          "color": "red",
          "dash": "dash"
         },
         "marker": {
          "opacity": 0.7,
          "size": 8
         },
         "mode": "lines",
         "name": "Perfect Prediction",
         "type": "scatter",
         "x": [
          383.9306559995457,
          1073.394593
         ],
         "y": [
          383.9306559995457,
          1073.394593
         ]
        }
       ],
       "layout": {
        "legend": {
         "tracegroupgap": 0
        },
        "template": {
         "data": {
          "bar": [
           {
            "error_x": {
             "color": "#2a3f5f"
            },
            "error_y": {
             "color": "#2a3f5f"
            },
            "marker": {
             "line": {
              "color": "#E5ECF6",
              "width": 0.5
             },
             "pattern": {
              "fillmode": "overlay",
              "size": 10,
              "solidity": 0.2
             }
            },
            "type": "bar"
           }
          ],
          "barpolar": [
           {
            "marker": {
             "line": {
              "color": "#E5ECF6",
              "width": 0.5
             },
             "pattern": {
              "fillmode": "overlay",
              "size": 10,
              "solidity": 0.2
             }
            },
            "type": "barpolar"
           }
          ],
          "carpet": [
           {
            "aaxis": {
             "endlinecolor": "#2a3f5f",
             "gridcolor": "white",
             "linecolor": "white",
             "minorgridcolor": "white",
             "startlinecolor": "#2a3f5f"
            },
            "baxis": {
             "endlinecolor": "#2a3f5f",
             "gridcolor": "white",
             "linecolor": "white",
             "minorgridcolor": "white",
             "startlinecolor": "#2a3f5f"
            },
            "type": "carpet"
           }
          ],
          "choropleth": [
           {
            "colorbar": {
             "outlinewidth": 0,
             "ticks": ""
            },
            "type": "choropleth"
           }
          ],
          "contour": [
           {
            "colorbar": {
             "outlinewidth": 0,
             "ticks": ""
            },
            "colorscale": [
             [
              0,
              "#0d0887"
             ],
             [
              0.1111111111111111,
              "#46039f"
             ],
             [
              0.2222222222222222,
              "#7201a8"
             ],
             [
              0.3333333333333333,
              "#9c179e"
             ],
             [
              0.4444444444444444,
              "#bd3786"
             ],
             [
              0.5555555555555556,
              "#d8576b"
             ],
             [
              0.6666666666666666,
              "#ed7953"
             ],
             [
              0.7777777777777778,
              "#fb9f3a"
             ],
             [
              0.8888888888888888,
              "#fdca26"
             ],
             [
              1,
              "#f0f921"
             ]
            ],
            "type": "contour"
           }
          ],
          "contourcarpet": [
           {
            "colorbar": {
             "outlinewidth": 0,
             "ticks": ""
            },
            "type": "contourcarpet"
           }
          ],
          "heatmap": [
           {
            "colorbar": {
             "outlinewidth": 0,
             "ticks": ""
            },
            "colorscale": [
             [
              0,
              "#0d0887"
             ],
             [
              0.1111111111111111,
              "#46039f"
             ],
             [
              0.2222222222222222,
              "#7201a8"
             ],
             [
              0.3333333333333333,
              "#9c179e"
             ],
             [
              0.4444444444444444,
              "#bd3786"
             ],
             [
              0.5555555555555556,
              "#d8576b"
             ],
             [
              0.6666666666666666,
              "#ed7953"
             ],
             [
              0.7777777777777778,
              "#fb9f3a"
             ],
             [
              0.8888888888888888,
              "#fdca26"
             ],
             [
              1,
              "#f0f921"
             ]
            ],
            "type": "heatmap"
           }
          ],
          "heatmapgl": [
           {
            "colorbar": {
             "outlinewidth": 0,
             "ticks": ""
            },
            "colorscale": [
             [
              0,
              "#0d0887"
             ],
             [
              0.1111111111111111,
              "#46039f"
             ],
             [
              0.2222222222222222,
              "#7201a8"
             ],
             [
              0.3333333333333333,
              "#9c179e"
             ],
             [
              0.4444444444444444,
              "#bd3786"
             ],
             [
              0.5555555555555556,
              "#d8576b"
             ],
             [
              0.6666666666666666,
              "#ed7953"
             ],
             [
              0.7777777777777778,
              "#fb9f3a"
             ],
             [
              0.8888888888888888,
              "#fdca26"
             ],
             [
              1,
              "#f0f921"
             ]
            ],
            "type": "heatmapgl"
           }
          ],
          "histogram": [
           {
            "marker": {
             "pattern": {
              "fillmode": "overlay",
              "size": 10,
              "solidity": 0.2
             }
            },
            "type": "histogram"
           }
          ],
          "histogram2d": [
           {
            "colorbar": {
             "outlinewidth": 0,
             "ticks": ""
            },
            "colorscale": [
             [
              0,
              "#0d0887"
             ],
             [
              0.1111111111111111,
              "#46039f"
             ],
             [
              0.2222222222222222,
              "#7201a8"
             ],
             [
              0.3333333333333333,
              "#9c179e"
             ],
             [
              0.4444444444444444,
              "#bd3786"
             ],
             [
              0.5555555555555556,
              "#d8576b"
             ],
             [
              0.6666666666666666,
              "#ed7953"
             ],
             [
              0.7777777777777778,
              "#fb9f3a"
             ],
             [
              0.8888888888888888,
              "#fdca26"
             ],
             [
              1,
              "#f0f921"
             ]
            ],
            "type": "histogram2d"
           }
          ],
          "histogram2dcontour": [
           {
            "colorbar": {
             "outlinewidth": 0,
             "ticks": ""
            },
            "colorscale": [
             [
              0,
              "#0d0887"
             ],
             [
              0.1111111111111111,
              "#46039f"
             ],
             [
              0.2222222222222222,
              "#7201a8"
             ],
             [
              0.3333333333333333,
              "#9c179e"
             ],
             [
              0.4444444444444444,
              "#bd3786"
             ],
             [
              0.5555555555555556,
              "#d8576b"
             ],
             [
              0.6666666666666666,
              "#ed7953"
             ],
             [
              0.7777777777777778,
              "#fb9f3a"
             ],
             [
              0.8888888888888888,
              "#fdca26"
             ],
             [
              1,
              "#f0f921"
             ]
            ],
            "type": "histogram2dcontour"
           }
          ],
          "mesh3d": [
           {
            "colorbar": {
             "outlinewidth": 0,
             "ticks": ""
            },
            "type": "mesh3d"
           }
          ],
          "parcoords": [
           {
            "line": {
             "colorbar": {
              "outlinewidth": 0,
              "ticks": ""
             }
            },
            "type": "parcoords"
           }
          ],
          "pie": [
           {
            "automargin": true,
            "type": "pie"
           }
          ],
          "scatter": [
           {
            "fillpattern": {
             "fillmode": "overlay",
             "size": 10,
             "solidity": 0.2
            },
            "type": "scatter"
           }
          ],
          "scatter3d": [
           {
            "line": {
             "colorbar": {
              "outlinewidth": 0,
              "ticks": ""
             }
            },
            "marker": {
             "colorbar": {
              "outlinewidth": 0,
              "ticks": ""
             }
            },
            "type": "scatter3d"
           }
          ],
          "scattercarpet": [
           {
            "marker": {
             "colorbar": {
              "outlinewidth": 0,
              "ticks": ""
             }
            },
            "type": "scattercarpet"
           }
          ],
          "scattergeo": [
           {
            "marker": {
             "colorbar": {
              "outlinewidth": 0,
              "ticks": ""
             }
            },
            "type": "scattergeo"
           }
          ],
          "scattergl": [
           {
            "marker": {
             "colorbar": {
              "outlinewidth": 0,
              "ticks": ""
             }
            },
            "type": "scattergl"
           }
          ],
          "scattermapbox": [
           {
            "marker": {
             "colorbar": {
              "outlinewidth": 0,
              "ticks": ""
             }
            },
            "type": "scattermapbox"
           }
          ],
          "scatterpolar": [
           {
            "marker": {
             "colorbar": {
              "outlinewidth": 0,
              "ticks": ""
             }
            },
            "type": "scatterpolar"
           }
          ],
          "scatterpolargl": [
           {
            "marker": {
             "colorbar": {
              "outlinewidth": 0,
              "ticks": ""
             }
            },
            "type": "scatterpolargl"
           }
          ],
          "scatterternary": [
           {
            "marker": {
             "colorbar": {
              "outlinewidth": 0,
              "ticks": ""
             }
            },
            "type": "scatterternary"
           }
          ],
          "surface": [
           {
            "colorbar": {
             "outlinewidth": 0,
             "ticks": ""
            },
            "colorscale": [
             [
              0,
              "#0d0887"
             ],
             [
              0.1111111111111111,
              "#46039f"
             ],
             [
              0.2222222222222222,
              "#7201a8"
             ],
             [
              0.3333333333333333,
              "#9c179e"
             ],
             [
              0.4444444444444444,
              "#bd3786"
             ],
             [
              0.5555555555555556,
              "#d8576b"
             ],
             [
              0.6666666666666666,
              "#ed7953"
             ],
             [
              0.7777777777777778,
              "#fb9f3a"
             ],
             [
              0.8888888888888888,
              "#fdca26"
             ],
             [
              1,
              "#f0f921"
             ]
            ],
            "type": "surface"
           }
          ],
          "table": [
           {
            "cells": {
             "fill": {
              "color": "#EBF0F8"
             },
             "line": {
              "color": "white"
             }
            },
            "header": {
             "fill": {
              "color": "#C8D4E3"
             },
             "line": {
              "color": "white"
             }
            },
            "type": "table"
           }
          ]
         },
         "layout": {
          "annotationdefaults": {
           "arrowcolor": "#2a3f5f",
           "arrowhead": 0,
           "arrowwidth": 1
          },
          "autotypenumbers": "strict",
          "coloraxis": {
           "colorbar": {
            "outlinewidth": 0,
            "ticks": ""
           }
          },
          "colorscale": {
           "diverging": [
            [
             0,
             "#8e0152"
            ],
            [
             0.1,
             "#c51b7d"
            ],
            [
             0.2,
             "#de77ae"
            ],
            [
             0.3,
             "#f1b6da"
            ],
            [
             0.4,
             "#fde0ef"
            ],
            [
             0.5,
             "#f7f7f7"
            ],
            [
             0.6,
             "#e6f5d0"
            ],
            [
             0.7,
             "#b8e186"
            ],
            [
             0.8,
             "#7fbc41"
            ],
            [
             0.9,
             "#4d9221"
            ],
            [
             1,
             "#276419"
            ]
           ],
           "sequential": [
            [
             0,
             "#0d0887"
            ],
            [
             0.1111111111111111,
             "#46039f"
            ],
            [
             0.2222222222222222,
             "#7201a8"
            ],
            [
             0.3333333333333333,
             "#9c179e"
            ],
            [
             0.4444444444444444,
             "#bd3786"
            ],
            [
             0.5555555555555556,
             "#d8576b"
            ],
            [
             0.6666666666666666,
             "#ed7953"
            ],
            [
             0.7777777777777778,
             "#fb9f3a"
            ],
            [
             0.8888888888888888,
             "#fdca26"
            ],
            [
             1,
             "#f0f921"
            ]
           ],
           "sequentialminus": [
            [
             0,
             "#0d0887"
            ],
            [
             0.1111111111111111,
             "#46039f"
            ],
            [
             0.2222222222222222,
             "#7201a8"
            ],
            [
             0.3333333333333333,
             "#9c179e"
            ],
            [
             0.4444444444444444,
             "#bd3786"
            ],
            [
             0.5555555555555556,
             "#d8576b"
            ],
            [
             0.6666666666666666,
             "#ed7953"
            ],
            [
             0.7777777777777778,
             "#fb9f3a"
            ],
            [
             0.8888888888888888,
             "#fdca26"
            ],
            [
             1,
             "#f0f921"
            ]
           ]
          },
          "colorway": [
           "#636efa",
           "#EF553B",
           "#00cc96",
           "#ab63fa",
           "#FFA15A",
           "#19d3f3",
           "#FF6692",
           "#B6E880",
           "#FF97FF",
           "#FECB52"
          ],
          "font": {
           "color": "#2a3f5f"
          },
          "geo": {
           "bgcolor": "white",
           "lakecolor": "white",
           "landcolor": "#E5ECF6",
           "showlakes": true,
           "showland": true,
           "subunitcolor": "white"
          },
          "hoverlabel": {
           "align": "left"
          },
          "hovermode": "closest",
          "mapbox": {
           "style": "light"
          },
          "paper_bgcolor": "white",
          "plot_bgcolor": "#E5ECF6",
          "polar": {
           "angularaxis": {
            "gridcolor": "white",
            "linecolor": "white",
            "ticks": ""
           },
           "bgcolor": "#E5ECF6",
           "radialaxis": {
            "gridcolor": "white",
            "linecolor": "white",
            "ticks": ""
           }
          },
          "scene": {
           "xaxis": {
            "backgroundcolor": "#E5ECF6",
            "gridcolor": "white",
            "gridwidth": 2,
            "linecolor": "white",
            "showbackground": true,
            "ticks": "",
            "zerolinecolor": "white"
           },
           "yaxis": {
            "backgroundcolor": "#E5ECF6",
            "gridcolor": "white",
            "gridwidth": 2,
            "linecolor": "white",
            "showbackground": true,
            "ticks": "",
            "zerolinecolor": "white"
           },
           "zaxis": {
            "backgroundcolor": "#E5ECF6",
            "gridcolor": "white",
            "gridwidth": 2,
            "linecolor": "white",
            "showbackground": true,
            "ticks": "",
            "zerolinecolor": "white"
           }
          },
          "shapedefaults": {
           "line": {
            "color": "#2a3f5f"
           }
          },
          "ternary": {
           "aaxis": {
            "gridcolor": "white",
            "linecolor": "white",
            "ticks": ""
           },
           "baxis": {
            "gridcolor": "white",
            "linecolor": "white",
            "ticks": ""
           },
           "bgcolor": "#E5ECF6",
           "caxis": {
            "gridcolor": "white",
            "linecolor": "white",
            "ticks": ""
           }
          },
          "title": {
           "x": 0.05
          },
          "xaxis": {
           "automargin": true,
           "gridcolor": "white",
           "linecolor": "white",
           "ticks": "",
           "title": {
            "standoff": 15
           },
           "zerolinecolor": "white",
           "zerolinewidth": 2
          },
          "yaxis": {
           "automargin": true,
           "gridcolor": "white",
           "linecolor": "white",
           "ticks": "",
           "title": {
            "standoff": 15
           },
           "zerolinecolor": "white",
           "zerolinewidth": 2
          }
         }
        },
        "title": {
         "text": "Actual vs Predicted Revenue (Hover for Details)"
        },
        "xaxis": {
         "anchor": "y",
         "domain": [
          0,
          1
         ],
         "title": {
          "text": "Actual Revenue (Millions)"
         }
        },
        "yaxis": {
         "anchor": "x",
         "domain": [
          0,
          1
         ],
         "title": {
          "text": "Predicted Revenue (Millions)"
         }
        }
       }
      }
     },
     "metadata": {},
     "output_type": "display_data"
    },
    {
     "data": {
      "text/plain": [
       "([1.0, 2.5323039731469017e-19],\n",
       "             Title  Year     Released  Runtime                           Genre  \\\n",
       " 0     Toy Story 3  2010  18 Jun 2010      103  [Animation, Adventure, Comedy]   \n",
       " 784         Rio 2  2014  11 Apr 2014      101  [Animation, Adventure, Comedy]   \n",
       " 1384       Cars 3  2017  16 Jun 2017      102  [Animation, Adventure, Comedy]   \n",
       " 1750  Toy Story 4  2019  21 Jun 2019      100  [Animation, Adventure, Comedy]   \n",
       " \n",
       "              Director                                      Writer  \\\n",
       " 0         Lee Unkrich  John Lasseter, Andrew Stanton, Lee Unkrich   \n",
       " 784   Carlos Saldanha      Don Rhymer, Carlos Kotkin, Jenny Bicks   \n",
       " 1384        Brian Fee           Brian Fee, Ben Queen, Eyal Podell   \n",
       " 1750      Josh Cooley  John Lasseter, Andrew Stanton, Josh Cooley   \n",
       " \n",
       "                                                Actors  \\\n",
       " 0                   Tom Hanks, Tim Allen, Joan Cusack   \n",
       " 784   Jesse Eisenberg, Anne Hathaway, Jemaine Clement   \n",
       " 1384       Owen Wilson, Cristela Alonzo, Chris Cooper   \n",
       " 1750                Tom Hanks, Tim Allen, Annie Potts   \n",
       " \n",
       "                                                    Plot             Language  \\\n",
       " 0     The toys are mistakenly delivered to a day-car...     English, Spanish   \n",
       " 784   It's a jungle out there for Blu, Jewel, and th...  English, Portuguese   \n",
       " 1384  Lightning McQueen sets out to prove to a new g...              English   \n",
       " 1750  When a new toy called \"Forky\" joins Woody and ...              English   \n",
       " \n",
       "       ... Worldwide_millions Domestic_millions  Foreign_millions  \\\n",
       " 0     ...        1066.969703        415.004880        651.964823   \n",
       " 784   ...         498.781117        131.538435        367.242682   \n",
       " 1384  ...         383.930656        152.901115        231.029541   \n",
       " 1750  ...        1073.394593        434.038008        639.356585   \n",
       " \n",
       "      Release Month Date_parsed  Day_of_Year Revenue_prediction  Genre_Comedy  \\\n",
       " 0                6  2010-06-18          169        1066.969703          True   \n",
       " 784              4  2014-04-11          101         498.781117          True   \n",
       " 1384             6  2017-06-16          167         383.930656          True   \n",
       " 1750             6  2019-06-21          172        1073.394593          True   \n",
       " \n",
       "       Rated_G                                         hover_info  \n",
       " 0        True  Title: Toy Story 3<br>Genre: Comedy<br>Rated: ...  \n",
       " 784      True  Title: Rio 2<br>Genre: Comedy<br>Rated: G<br>A...  \n",
       " 1384     True  Title: Cars 3<br>Genre: Comedy<br>Rated: G<br>...  \n",
       " 1750     True  Title: Toy Story 4<br>Genre: Comedy<br>Rated: ...  \n",
       " \n",
       " [4 rows x 27 columns],\n",
       " LinearRegression(),\n",
       " PolynomialFeatures(degree=6, include_bias=False),\n",
       " Index(['day_poly_0', 'day_poly_1', 'day_poly_2', 'day_poly_3', 'day_poly_4',\n",
       "        'day_poly_5', 'Genre_Comedy', 'Rated_G'],\n",
       "       dtype='object'))"
      ]
     },
     "execution_count": 26,
     "metadata": {},
     "output_type": "execute_result"
    }
   ],
   "source": [
    "polynomial_regression_genre_and_rated(6, df_clean, \"Comedy\", \"G\", True, True, True)\n",
    "# a perfect model, but not really because there are only 6 data points"
   ]
  },
  {
   "cell_type": "code",
   "execution_count": 27,
   "id": "9a3f3e43",
   "metadata": {},
   "outputs": [
    {
     "name": "stdout",
     "output_type": "stream",
     "text": [
      "Genre: Family, Rating: PG\n",
      "Mean Squared Error (MSE): 12953.88\n",
      "R-squared (R²): 0.2645\n"
     ]
    },
    {
     "data": {
      "image/png": "[encoded data removed]",
      "text/plain": [
       "<Figure size 640x480 with 1 Axes>"
      ]
     },
     "metadata": {},
     "output_type": "display_data"
    },
    {
     "data": {
      "application/vnd.plotly.v1+json": {
       "config": {
        "plotlyServerURL": "https://plot.ly"
       },
       "data": [
        {
         "customdata": [
          [
           "Title: The Karate Kid<br>Genre: Family<br>Rated: PG<br>Actual: $359.13M<br>Predicted: $215.15M"
          ],
          [
           "Title: The Last Airbender<br>Genre: Family<br>Rated: PG<br>Actual: $319.71M<br>Predicted: $207.98M"
          ],
          [
           "Title: The Sorcerer's Apprentice<br>Genre: Family<br>Rated: PG<br>Actual: $215.28M<br>Predicted: $188.56M"
          ],
          [
           "Title: Marmaduke<br>Genre: Family<br>Rated: PG<br>Actual: $83.76M<br>Predicted: $215.33M"
          ],
          [
           "Title: Secretariat<br>Genre: Family<br>Rated: PG<br>Actual: $60.32M<br>Predicted: $82.91M"
          ],
          [
           "Title: Furry Vengeance<br>Genre: Family<br>Rated: PG<br>Actual: $36.29M<br>Predicted: $159.45M"
          ],
          [
           "Title: Mr. Popper's Penguins<br>Genre: Family<br>Rated: PG<br>Actual: $187.36M<br>Predicted: $217.82M"
          ],
          [
           "Title: The Muppets<br>Genre: Family<br>Rated: PG<br>Actual: $165.18M<br>Predicted: $253.86M"
          ],
          [
           "Title: Diary of a Wimpy Kid: Rodrick Rules<br>Genre: Family<br>Rated: PG<br>Actual: $72.53M<br>Predicted: $79.41M"
          ],
          [
           "Title: Mars Needs Moms<br>Genre: Family<br>Rated: PG<br>Actual: $39.23M<br>Predicted: $63.29M"
          ],
          [
           "Title: The Odd Life of Timothy Green<br>Genre: Family<br>Rated: PG<br>Actual: $56.01M<br>Predicted: $115.89M"
          ],
          [
           "Title: The Three Stooges<br>Genre: Family<br>Rated: PG<br>Actual: $54.82M<br>Predicted: $121.22M"
          ],
          [
           "Title: Night at the Museum: Secret of the Tomb<br>Genre: Family<br>Rated: PG<br>Actual: $363.2M<br>Predicted: $324.42M"
          ],
          [
           "Title: Paddington<br>Genre: Family<br>Rated: PG<br>Actual: $268.05M<br>Predicted: $185.64M"
          ],
          [
           "Title: Alexander and the Terrible, Horrible, No Good, Very Bad Day<br>Genre: Family<br>Rated: PG<br>Actual: $100.65M<br>Predicted: $86.68M"
          ],
          [
           "Title: Earth to Echo<br>Genre: Family<br>Rated: PG<br>Actual: $45.68M<br>Predicted: $206.81M"
          ],
          [
           "Title: The BFG<br>Genre: Family<br>Rated: PG<br>Actual: $195.24M<br>Predicted: $206.81M"
          ],
          [
           "Title: Paddington 2<br>Genre: Family<br>Rated: PG<br>Actual: $227.29M<br>Predicted: $205.78M"
          ],
          [
           "Title: Monster Family<br>Genre: Family<br>Rated: PG<br>Actual: $27.89M<br>Predicted: $92.23M"
          ],
          [
           "Title: The Grinch<br>Genre: Family<br>Rated: PG<br>Actual: $512.72M<br>Predicted: $189.46M"
          ],
          [
           "Title: A Wrinkle in Time<br>Genre: Family<br>Rated: PG<br>Actual: $132.68M<br>Predicted: $62.29M"
          ],
          [
           "Title: The House with a Clock in Its Walls<br>Genre: Family<br>Rated: PG<br>Actual: $131.46M<br>Predicted: $68.0M"
          ],
          [
           "Title: Pokémon: Detective Pikachu<br>Genre: Family<br>Rated: PG<br>Actual: $433.31M<br>Predicted: $181.13M"
          ],
          [
           "Title: A Dog's Way Home<br>Genre: Family<br>Rated: PG<br>Actual: $80.71M<br>Predicted: $210.93M"
          ],
          [
           "Title: A Beautiful Day in the Neighborhood<br>Genre: Family<br>Rated: PG<br>Actual: $67.93M<br>Predicted: $249.36M"
          ],
          [
           "Title: Dolittle<br>Genre: Family<br>Rated: PG<br>Actual: $251.41M<br>Predicted: $180.75M"
          ],
          [
           "Title: The War with Grandpa<br>Genre: Family<br>Rated: PG<br>Actual: $43.39M<br>Predicted: $86.68M"
          ],
          [
           "Title: School of Magical Animals<br>Genre: Family<br>Rated: PG<br>Actual: $22.14M<br>Predicted: $95.51M"
          ]
         ],
         "hovertemplate": "Actual Revenue (Millions)=%{x}<br>Predicted Revenue (Millions)=%{y}<br>hover_info=%{customdata[0]}<extra></extra>",
         "legendgroup": "",
         "marker": {
          "color": "#636efa",
          "opacity": 0.7,
          "size": 8,
          "symbol": "circle"
         },
         "mode": "markers",
         "name": "",
         "orientation": "v",
         "showlegend": false,
         "type": "scatter",
         "x": [
          359.126022,
          319.713881,
          215.283742,
          83.761844,
          60.321861,
          36.288132,
          187.361754,
          165.184237,
          72.526996,
          39.233678,
          56.012642,
          54.819301,
          363.204635,
          268.047808,
          100.654149,
          45.681062,
          195.243411,
          227.291591,
          27.890108,
          512.715682,
          132.675864,
          131.457147,
          433.305346,
          80.708134,
          67.925733,
          251.410631,
          43.387638,
          22.135934
         ],
         "xaxis": "x",
         "y": [
          215.14932237756054,
          207.98479551565407,
          188.56211116827654,
          215.33062483530784,
          82.91052392767494,
          159.45425204604084,
          217.82280824776626,
          253.85800218828487,
          79.40525605712972,
          63.29118776699036,
          115.8886487116315,
          121.22289617690194,
          324.41844474779134,
          185.63898107529388,
          86.68067204235172,
          206.814912460279,
          206.814912460279,
          205.77550841878212,
          92.22815571723197,
          189.4645117526162,
          62.29457375201619,
          68.003136106207,
          181.13319187432936,
          210.92732010318193,
          249.3590139522926,
          180.74554592944313,
          86.68067204235172,
          95.50898154613529
         ],
         "yaxis": "y"
        },
        {
         "line": {
          "color": "red",
          "dash": "dash"
         },
         "marker": {
          "opacity": 0.7,
          "size": 8
         },
         "mode": "lines",
         "name": "Perfect Prediction",
         "type": "scatter",
         "x": [
          22.135934,
          512.715682
         ],
         "y": [
          22.135934,
          512.715682
         ]
        }
       ],
       "layout": {
        "legend": {
         "tracegroupgap": 0
        },
        "template": {
         "data": {
          "bar": [
           {
            "error_x": {
             "color": "#2a3f5f"
            },
            "error_y": {
             "color": "#2a3f5f"
            },
            "marker": {
             "line": {
              "color": "#E5ECF6",
              "width": 0.5
             },
             "pattern": {
              "fillmode": "overlay",
              "size": 10,
              "solidity": 0.2
             }
            },
            "type": "bar"
           }
          ],
          "barpolar": [
           {
            "marker": {
             "line": {
              "color": "#E5ECF6",
              "width": 0.5
             },
             "pattern": {
              "fillmode": "overlay",
              "size": 10,
              "solidity": 0.2
             }
            },
            "type": "barpolar"
           }
          ],
          "carpet": [
           {
            "aaxis": {
             "endlinecolor": "#2a3f5f",
             "gridcolor": "white",
             "linecolor": "white",
             "minorgridcolor": "white",
             "startlinecolor": "#2a3f5f"
            },
            "baxis": {
             "endlinecolor": "#2a3f5f",
             "gridcolor": "white",
             "linecolor": "white",
             "minorgridcolor": "white",
             "startlinecolor": "#2a3f5f"
            },
            "type": "carpet"
           }
          ],
          "choropleth": [
           {
            "colorbar": {
             "outlinewidth": 0,
             "ticks": ""
            },
            "type": "choropleth"
           }
          ],
          "contour": [
           {
            "colorbar": {
             "outlinewidth": 0,
             "ticks": ""
            },
            "colorscale": [
             [
              0,
              "#0d0887"
             ],
             [
              0.1111111111111111,
              "#46039f"
             ],
             [
              0.2222222222222222,
              "#7201a8"
             ],
             [
              0.3333333333333333,
              "#9c179e"
             ],
             [
              0.4444444444444444,
              "#bd3786"
             ],
             [
              0.5555555555555556,
              "#d8576b"
             ],
             [
              0.6666666666666666,
              "#ed7953"
             ],
             [
              0.7777777777777778,
              "#fb9f3a"
             ],
             [
              0.8888888888888888,
              "#fdca26"
             ],
             [
              1,
              "#f0f921"
             ]
            ],
            "type": "contour"
           }
          ],
          "contourcarpet": [
           {
            "colorbar": {
             "outlinewidth": 0,
             "ticks": ""
            },
            "type": "contourcarpet"
           }
          ],
          "heatmap": [
           {
            "colorbar": {
             "outlinewidth": 0,
             "ticks": ""
            },
            "colorscale": [
             [
              0,
              "#0d0887"
             ],
             [
              0.1111111111111111,
              "#46039f"
             ],
             [
              0.2222222222222222,
              "#7201a8"
             ],
             [
              0.3333333333333333,
              "#9c179e"
             ],
             [
              0.4444444444444444,
              "#bd3786"
             ],
             [
              0.5555555555555556,
              "#d8576b"
             ],
             [
              0.6666666666666666,
              "#ed7953"
             ],
             [
              0.7777777777777778,
              "#fb9f3a"
             ],
             [
              0.8888888888888888,
              "#fdca26"
             ],
             [
              1,
              "#f0f921"
             ]
            ],
            "type": "heatmap"
           }
          ],
          "heatmapgl": [
           {
            "colorbar": {
             "outlinewidth": 0,
             "ticks": ""
            },
            "colorscale": [
             [
              0,
              "#0d0887"
             ],
             [
              0.1111111111111111,
              "#46039f"
             ],
             [
              0.2222222222222222,
              "#7201a8"
             ],
             [
              0.3333333333333333,
              "#9c179e"
             ],
             [
              0.4444444444444444,
              "#bd3786"
             ],
             [
              0.5555555555555556,
              "#d8576b"
             ],
             [
              0.6666666666666666,
              "#ed7953"
             ],
             [
              0.7777777777777778,
              "#fb9f3a"
             ],
             [
              0.8888888888888888,
              "#fdca26"
             ],
             [
              1,
              "#f0f921"
             ]
            ],
            "type": "heatmapgl"
           }
          ],
          "histogram": [
           {
            "marker": {
             "pattern": {
              "fillmode": "overlay",
              "size": 10,
              "solidity": 0.2
             }
            },
            "type": "histogram"
           }
          ],
          "histogram2d": [
           {
            "colorbar": {
             "outlinewidth": 0,
             "ticks": ""
            },
            "colorscale": [
             [
              0,
              "#0d0887"
             ],
             [
              0.1111111111111111,
              "#46039f"
             ],
             [
              0.2222222222222222,
              "#7201a8"
             ],
             [
              0.3333333333333333,
              "#9c179e"
             ],
             [
              0.4444444444444444,
              "#bd3786"
             ],
             [
              0.5555555555555556,
              "#d8576b"
             ],
             [
              0.6666666666666666,
              "#ed7953"
             ],
             [
              0.7777777777777778,
              "#fb9f3a"
             ],
             [
              0.8888888888888888,
              "#fdca26"
             ],
             [
              1,
              "#f0f921"
             ]
            ],
            "type": "histogram2d"
           }
          ],
          "histogram2dcontour": [
           {
            "colorbar": {
             "outlinewidth": 0,
             "ticks": ""
            },
            "colorscale": [
             [
              0,
              "#0d0887"
             ],
             [
              0.1111111111111111,
              "#46039f"
             ],
             [
              0.2222222222222222,
              "#7201a8"
             ],
             [
              0.3333333333333333,
              "#9c179e"
             ],
             [
              0.4444444444444444,
              "#bd3786"
             ],
             [
              0.5555555555555556,
              "#d8576b"
             ],
             [
              0.6666666666666666,
              "#ed7953"
             ],
             [
              0.7777777777777778,
              "#fb9f3a"
             ],
             [
              0.8888888888888888,
              "#fdca26"
             ],
             [
              1,
              "#f0f921"
             ]
            ],
            "type": "histogram2dcontour"
           }
          ],
          "mesh3d": [
           {
            "colorbar": {
             "outlinewidth": 0,
             "ticks": ""
            },
            "type": "mesh3d"
           }
          ],
          "parcoords": [
           {
            "line": {
             "colorbar": {
              "outlinewidth": 0,
              "ticks": ""
             }
            },
            "type": "parcoords"
           }
          ],
          "pie": [
           {
            "automargin": true,
            "type": "pie"
           }
          ],
          "scatter": [
           {
            "fillpattern": {
             "fillmode": "overlay",
             "size": 10,
             "solidity": 0.2
            },
            "type": "scatter"
           }
          ],
          "scatter3d": [
           {
            "line": {
             "colorbar": {
              "outlinewidth": 0,
              "ticks": ""
             }
            },
            "marker": {
             "colorbar": {
              "outlinewidth": 0,
              "ticks": ""
             }
            },
            "type": "scatter3d"
           }
          ],
          "scattercarpet": [
           {
            "marker": {
             "colorbar": {
              "outlinewidth": 0,
              "ticks": ""
             }
            },
            "type": "scattercarpet"
           }
          ],
          "scattergeo": [
           {
            "marker": {
             "colorbar": {
              "outlinewidth": 0,
              "ticks": ""
             }
            },
            "type": "scattergeo"
           }
          ],
          "scattergl": [
           {
            "marker": {
             "colorbar": {
              "outlinewidth": 0,
              "ticks": ""
             }
            },
            "type": "scattergl"
           }
          ],
          "scattermapbox": [
           {
            "marker": {
             "colorbar": {
              "outlinewidth": 0,
              "ticks": ""
             }
            },
            "type": "scattermapbox"
           }
          ],
          "scatterpolar": [
           {
            "marker": {
             "colorbar": {
              "outlinewidth": 0,
              "ticks": ""
             }
            },
            "type": "scatterpolar"
           }
          ],
          "scatterpolargl": [
           {
            "marker": {
             "colorbar": {
              "outlinewidth": 0,
              "ticks": ""
             }
            },
            "type": "scatterpolargl"
           }
          ],
          "scatterternary": [
           {
            "marker": {
             "colorbar": {
              "outlinewidth": 0,
              "ticks": ""
             }
            },
            "type": "scatterternary"
           }
          ],
          "surface": [
           {
            "colorbar": {
             "outlinewidth": 0,
             "ticks": ""
            },
            "colorscale": [
             [
              0,
              "#0d0887"
             ],
             [
              0.1111111111111111,
              "#46039f"
             ],
             [
              0.2222222222222222,
              "#7201a8"
             ],
             [
              0.3333333333333333,
              "#9c179e"
             ],
             [
              0.4444444444444444,
              "#bd3786"
             ],
             [
              0.5555555555555556,
              "#d8576b"
             ],
             [
              0.6666666666666666,
              "#ed7953"
             ],
             [
              0.7777777777777778,
              "#fb9f3a"
             ],
             [
              0.8888888888888888,
              "#fdca26"
             ],
             [
              1,
              "#f0f921"
             ]
            ],
            "type": "surface"
           }
          ],
          "table": [
           {
            "cells": {
             "fill": {
              "color": "#EBF0F8"
             },
             "line": {
              "color": "white"
             }
            },
            "header": {
             "fill": {
              "color": "#C8D4E3"
             },
             "line": {
              "color": "white"
             }
            },
            "type": "table"
           }
          ]
         },
         "layout": {
          "annotationdefaults": {
           "arrowcolor": "#2a3f5f",
           "arrowhead": 0,
           "arrowwidth": 1
          },
          "autotypenumbers": "strict",
          "coloraxis": {
           "colorbar": {
            "outlinewidth": 0,
            "ticks": ""
           }
          },
          "colorscale": {
           "diverging": [
            [
             0,
             "#8e0152"
            ],
            [
             0.1,
             "#c51b7d"
            ],
            [
             0.2,
             "#de77ae"
            ],
            [
             0.3,
             "#f1b6da"
            ],
            [
             0.4,
             "#fde0ef"
            ],
            [
             0.5,
             "#f7f7f7"
            ],
            [
             0.6,
             "#e6f5d0"
            ],
            [
             0.7,
             "#b8e186"
            ],
            [
             0.8,
             "#7fbc41"
            ],
            [
             0.9,
             "#4d9221"
            ],
            [
             1,
             "#276419"
            ]
           ],
           "sequential": [
            [
             0,
             "#0d0887"
            ],
            [
             0.1111111111111111,
             "#46039f"
            ],
            [
             0.2222222222222222,
             "#7201a8"
            ],
            [
             0.3333333333333333,
             "#9c179e"
            ],
            [
             0.4444444444444444,
             "#bd3786"
            ],
            [
             0.5555555555555556,
             "#d8576b"
            ],
            [
             0.6666666666666666,
             "#ed7953"
            ],
            [
             0.7777777777777778,
             "#fb9f3a"
            ],
            [
             0.8888888888888888,
             "#fdca26"
            ],
            [
             1,
             "#f0f921"
            ]
           ],
           "sequentialminus": [
            [
             0,
             "#0d0887"
            ],
            [
             0.1111111111111111,
             "#46039f"
            ],
            [
             0.2222222222222222,
             "#7201a8"
            ],
            [
             0.3333333333333333,
             "#9c179e"
            ],
            [
             0.4444444444444444,
             "#bd3786"
            ],
            [
             0.5555555555555556,
             "#d8576b"
            ],
            [
             0.6666666666666666,
             "#ed7953"
            ],
            [
             0.7777777777777778,
             "#fb9f3a"
            ],
            [
             0.8888888888888888,
             "#fdca26"
            ],
            [
             1,
             "#f0f921"
            ]
           ]
          },
          "colorway": [
           "#636efa",
           "#EF553B",
           "#00cc96",
           "#ab63fa",
           "#FFA15A",
           "#19d3f3",
           "#FF6692",
           "#B6E880",
           "#FF97FF",
           "#FECB52"
          ],
          "font": {
           "color": "#2a3f5f"
          },
          "geo": {
           "bgcolor": "white",
           "lakecolor": "white",
           "landcolor": "#E5ECF6",
           "showlakes": true,
           "showland": true,
           "subunitcolor": "white"
          },
          "hoverlabel": {
           "align": "left"
          },
          "hovermode": "closest",
          "mapbox": {
           "style": "light"
          },
          "paper_bgcolor": "white",
          "plot_bgcolor": "#E5ECF6",
          "polar": {
           "angularaxis": {
            "gridcolor": "white",
            "linecolor": "white",
            "ticks": ""
           },
           "bgcolor": "#E5ECF6",
           "radialaxis": {
            "gridcolor": "white",
            "linecolor": "white",
            "ticks": ""
           }
          },
          "scene": {
           "xaxis": {
            "backgroundcolor": "#E5ECF6",
            "gridcolor": "white",
            "gridwidth": 2,
            "linecolor": "white",
            "showbackground": true,
            "ticks": "",
            "zerolinecolor": "white"
           },
           "yaxis": {
            "backgroundcolor": "#E5ECF6",
            "gridcolor": "white",
            "gridwidth": 2,
            "linecolor": "white",
            "showbackground": true,
            "ticks": "",
            "zerolinecolor": "white"
           },
           "zaxis": {
            "backgroundcolor": "#E5ECF6",
            "gridcolor": "white",
            "gridwidth": 2,
            "linecolor": "white",
            "showbackground": true,
            "ticks": "",
            "zerolinecolor": "white"
           }
          },
          "shapedefaults": {
           "line": {
            "color": "#2a3f5f"
           }
          },
          "ternary": {
           "aaxis": {
            "gridcolor": "white",
            "linecolor": "white",
            "ticks": ""
           },
           "baxis": {
            "gridcolor": "white",
            "linecolor": "white",
            "ticks": ""
           },
           "bgcolor": "#E5ECF6",
           "caxis": {
            "gridcolor": "white",
            "linecolor": "white",
            "ticks": ""
           }
          },
          "title": {
           "x": 0.05
          },
          "xaxis": {
           "automargin": true,
           "gridcolor": "white",
           "linecolor": "white",
           "ticks": "",
           "title": {
            "standoff": 15
           },
           "zerolinecolor": "white",
           "zerolinewidth": 2
          },
          "yaxis": {
           "automargin": true,
           "gridcolor": "white",
           "linecolor": "white",
           "ticks": "",
           "title": {
            "standoff": 15
           },
           "zerolinecolor": "white",
           "zerolinewidth": 2
          }
         }
        },
        "title": {
         "text": "Actual vs Predicted Revenue (Hover for Details)"
        },
        "xaxis": {
         "anchor": "y",
         "domain": [
          0,
          1
         ],
         "title": {
          "text": "Actual Revenue (Millions)"
         }
        },
        "yaxis": {
         "anchor": "x",
         "domain": [
          0,
          1
         ],
         "title": {
          "text": "Predicted Revenue (Millions)"
         }
        }
       }
      }
     },
     "metadata": {},
     "output_type": "display_data"
    },
    {
     "data": {
      "text/plain": [
       "([0.26448572892440125, 12953.875830627017],\n",
       "                                                   Title  Year     Released  \\\n",
       " 13                                       The Karate Kid  2010  22 Jun 1984   \n",
       " 17                                   The Last Airbender  2010  01 Jul 2010   \n",
       " 30                            The Sorcerer's Apprentice  2010  14 Jul 2010   \n",
       " 68                                            Marmaduke  2010  04 Jun 2010   \n",
       " 94                                          Secretariat  2010  08 Oct 2010   \n",
       " 129                                     Furry Vengeance  2010  30 Apr 2010   \n",
       " 222                               Mr. Popper's Penguins  2011  17 Jun 2011   \n",
       " 229                                         The Muppets  2011  23 Nov 2011   \n",
       " 277                 Diary of a Wimpy Kid: Rodrick Rules  2011  25 Mar 2011   \n",
       " 317                                     Mars Needs Moms  2011  11 Mar 2011   \n",
       " 485                       The Odd Life of Timothy Green  2012  15 Aug 2012   \n",
       " 489                                   The Three Stooges  2012  13 Apr 2012   \n",
       " 791             Night at the Museum: Secret of the Tomb  2014  19 Dec 2014   \n",
       " 801                                          Paddington  2014  16 Jan 2015   \n",
       " 844   Alexander and the Terrible, Horrible, No Good,...  2014  10 Oct 2014   \n",
       " 902                                       Earth to Echo  2014  02 Jul 2014   \n",
       " 1209                                            The BFG  2016  01 Jul 2016   \n",
       " 1401                                       Paddington 2  2017  12 Jan 2018   \n",
       " 1533                                     Monster Family  2017  09 Feb 2018   \n",
       " 1573                                         The Grinch  2018  09 Nov 2018   \n",
       " 1611                                  A Wrinkle in Time  2018  09 Mar 2018   \n",
       " 1612                The House with a Clock in Its Walls  2018  21 Sep 2018   \n",
       " 1759                         Pokémon: Detective Pikachu  2019  10 May 2019   \n",
       " 1827                                   A Dog's Way Home  2019  11 Jan 2019   \n",
       " 1838                A Beautiful Day in the Neighborhood  2019  22 Nov 2019   \n",
       " 1945                                           Dolittle  2020  17 Jan 2020   \n",
       " 1975                               The War with Grandpa  2020  09 Oct 2020   \n",
       " 2225                          School of Magical Animals  2021  14 Oct 2021   \n",
       " \n",
       "       Runtime                           Genre                        Director  \\\n",
       " 13        126         [Action, Drama, Family]                John G. Avildsen   \n",
       " 17        103     [Action, Adventure, Family]              M. Night Shyamalan   \n",
       " 30        109     [Action, Adventure, Family]                  Jon Turteltaub   \n",
       " 68         87                [Comedy, Family]                         Tom Dey   \n",
       " 94        123      [Biography, Drama, Family]                 Randall Wallace   \n",
       " 129        92                [Comedy, Family]                    Roger Kumble   \n",
       " 222        94       [Comedy, Family, Fantasy]                     Mark Waters   \n",
       " 229       103     [Adventure, Comedy, Family]                     James Bobin   \n",
       " 277        99                [Comedy, Family]                    David Bowers   \n",
       " 317        88  [Animation, Adventure, Family]                     Simon Wells   \n",
       " 485       105         [Comedy, Drama, Family]                    Peter Hedges   \n",
       " 489        92                [Comedy, Family]  Bobby Farrelly, Peter Farrelly   \n",
       " 791        98     [Adventure, Comedy, Family]                      Shawn Levy   \n",
       " 801        95     [Adventure, Comedy, Family]                       Paul King   \n",
       " 844        81         [Comedy, Drama, Family]                   Miguel Arteta   \n",
       " 902        91     [Adventure, Family, Sci-Fi]                      Dave Green   \n",
       " 1209      117    [Adventure, Family, Fantasy]                Steven Spielberg   \n",
       " 1401      103     [Adventure, Comedy, Family]                       Paul King   \n",
       " 1533       93     [Animation, Comedy, Family]                    Holger Tappe   \n",
       " 1573       85     [Animation, Comedy, Family]     Yarrow Cheney, Scott Mosier   \n",
       " 1611      109      [Adventure, Drama, Family]                    Ava DuVernay   \n",
       " 1612      105       [Comedy, Family, Fantasy]                        Eli Roth   \n",
       " 1759      104     [Adventure, Comedy, Family]                   Rob Letterman   \n",
       " 1827       96      [Adventure, Drama, Family]            Charles Martin Smith   \n",
       " 1838      109      [Biography, Drama, Family]                 Marielle Heller   \n",
       " 1945      101     [Adventure, Comedy, Family]                  Stephen Gaghan   \n",
       " 1975       94         [Comedy, Drama, Family]                        Tim Hill   \n",
       " 2225       93             [Adventure, Family]               Gregor Schnitzler   \n",
       " \n",
       "                                                Writer  \\\n",
       " 13                                  Robert Mark Kamen   \n",
       " 17                                 M. Night Shyamalan   \n",
       " 30        Lawrence Konner, Mark Rosenthal, Matt Lopez   \n",
       " 68      Tim Rasmussen, Vince Di Meglio, Brad Anderson   \n",
       " 94                            Mike Rich, William Nack   \n",
       " 129                      Michael Carnes, Josh Gilbert   \n",
       " 222             Sean Anders, John Morris, Jared Stern   \n",
       " 229         Jason Segel, Nicholas Stoller, Jim Henson   \n",
       " 277               Gabe Sachs, Jeff Judah, Jeff Kinney   \n",
       " 317       Simon Wells, Wendy Wells, Berkeley Breathed   \n",
       " 485                         Peter Hedges, Ahmet Zappa   \n",
       " 489      Mike Cerrone, Bobby Farrelly, Peter Farrelly   \n",
       " 791     David Guion, Michael Handelman, Mark Friedman   \n",
       " 801            Paul King, Hamish McColl, Michael Bond   \n",
       " 844                         Rob Lieber, Judith Viorst   \n",
       " 902                        Henry Gayden, Andrew Panay   \n",
       " 1209                     Melissa Mathison, Roald Dahl   \n",
       " 1401           Paul King, Simon Farnaby, Michael Bond   \n",
       " 1533   David Safier, Catharina Junk, Benedikt Niemann   \n",
       " 1573       Michael LeSieur, Tommy Swerdlow, Dr. Seuss   \n",
       " 1611  Jennifer Lee, Jeff Stockwell, Madeleine L'Engle   \n",
       " 1612                       John Bellairs, Eric Kripke   \n",
       " 1759        Dan Hernandez, Benji Samit, Rob Letterman   \n",
       " 1827                 W. Bruce Cameron, Cathryn Michon   \n",
       " 1838   Micah Fitzerman-Blue, Noah Harpster, Tom Junod   \n",
       " 1945            Stephen Gaghan, Dan Gregor, Doug Mand   \n",
       " 1975    Tom J. Astle, Matt Ember, Robert Kimmel Smith   \n",
       " 2225        Margit Auer, Viola Schmidt, John Chambers   \n",
       " \n",
       "                                                  Actors  \\\n",
       " 13            Ralph Macchio, Pat Morita, Elisabeth Shue   \n",
       " 17    Noah Ringer, Nicola Peltz Beckham, Jackson Rat...   \n",
       " 30            Nicolas Cage, Jay Baruchel, Alfred Molina   \n",
       " 68                    Owen Wilson, Judy Greer, Lee Pace   \n",
       " 94         Diane Lane, John Malkovich, Margo Martindale   \n",
       " 129        Brendan Fraser, Brooke Shields, Ricky Garcia   \n",
       " 222           Jim Carrey, Carla Gugino, Angela Lansbury   \n",
       " 229                Amy Adams, Jason Segel, Chris Cooper   \n",
       " 277        Zachary Gordon, Devon Bostick, Robert Capron   \n",
       " 317                 Seth Green, Joan Cusack, Dan Fogler   \n",
       " 485            Jennifer Garner, Joel Edgerton, CJ Adams   \n",
       " 489        Sean Hayes, Chris Diamantopoulos, Will Sasso   \n",
       " 791            Ben Stiller, Robin Williams, Owen Wilson   \n",
       " 801       Hugh Bonneville, Sally Hawkins, Julie Walters   \n",
       " 844         Steve Carell, Jennifer Garner, Ed Oxenbould   \n",
       " 902                      Teo Halm, Astro, Reese Hartwig   \n",
       " 1209       Mark Rylance, Ruby Barnhill, Penelope Wilton   \n",
       " 1401           Ben Whishaw, Hugh Grant, Hugh Bonneville   \n",
       " 1533         Dirk Stollberg, Emily Watson, Jason Isaacs   \n",
       " 1573  Benedict Cumberbatch, Cameron Seely, Rashida J...   \n",
       " 1611       Storm Reid, Oprah Winfrey, Reese Witherspoon   \n",
       " 1612           Jack Black, Cate Blanchett, Owen Vaccaro   \n",
       " 1759       Ryan Reynolds, Justice Smith, Kathryn Newton   \n",
       " 1827  Ashley Judd, Jonah Hauer-King, Edward James Olmos   \n",
       " 1838              Matthew Rhys, Tom Hanks, Chris Cooper   \n",
       " 1945  Robert Downey Jr., Antonio Banderas, Michael S...   \n",
       " 1975            Robert De Niro, Uma Thurman, Rob Riggle   \n",
       " 2225    Emilia Maier, Leonard Conrads, Loris Sichrovsky   \n",
       " \n",
       "                                                    Plot  \\\n",
       " 13    Recently relocated from NJ to LA, Daniel becom...   \n",
       " 17    Aang, a young successor to a long line of Avat...   \n",
       " 30    A protege of the magician Merlin must train hi...   \n",
       " 68    A suburban family moves to a new neighborhood ...   \n",
       " 94    Penny Chenery Tweedy and colleagues guide her ...   \n",
       " 129   In the Oregon wilderness, a real-estate develo...   \n",
       " 222   The life of a businessman begins to change aft...   \n",
       " 229   A Muppet fanatic with some help from his 2 hum...   \n",
       " 277   Back in middle school after summer vacation, G...   \n",
       " 317   A young boy named Milo gains a deeper apprecia...   \n",
       " 485   A childless couple bury a box in their backyar...   \n",
       " 489   While trying to save their childhood orphanage...   \n",
       " 791   Larry Daley and his heroic friends embark on t...   \n",
       " 801   A young Peruvian bear travels to London in sea...   \n",
       " 844   Alexander's day begins with gum stuck in his h...   \n",
       " 902   After receiving a bizarre series of encrypted ...   \n",
       " 1209  An orphan little girl befriends a benevolent g...   \n",
       " 1401  Paddington, now happily settled with the Brown...   \n",
       " 1533  Despite the title, the Wishbone family are far...   \n",
       " 1573  A grumpy Grinch plots to ruin Christmas for th...   \n",
       " 1611  After the disappearance of her scientist fathe...   \n",
       " 1612  A young orphan named Lewis Barnavelt aids his ...   \n",
       " 1759  In a world where people collect Pokémon to do ...   \n",
       " 1827  A female dog travels four hundred miles in sea...   \n",
       " 1838  Lloyd Vogel, a cynical journalist, gets acquai...   \n",
       " 1945  A physician who can talk to animals embarks on...   \n",
       " 1975  Upset that he has to share the room he loves w...   \n",
       " 2225  Ida must transfer to a new school, where she s...   \n",
       " \n",
       "                         Language  ... Worldwide_millions Domestic_millions  \\\n",
       " 13             English, Japanese  ...         359.126022        176.591618   \n",
       " 17                       English  ...         319.713881        131.772187   \n",
       " 30                       English  ...         215.283742         63.150991   \n",
       " 68                       English  ...          83.761844         33.644788   \n",
       " 94                       English  ...          60.321861         59.713955   \n",
       " 129                      English  ...          36.288132         17.630465   \n",
       " 222                      English  ...         187.361754         68.224452   \n",
       " 229            English, Mandarin  ...         165.184237         88.631237   \n",
       " 277                      English  ...          72.526996         52.698535   \n",
       " 317                      English  ...          39.233678         21.392758   \n",
       " 485                      English  ...          56.012642         51.854875   \n",
       " 489                      English  ...          54.819301         44.338224   \n",
       " 791                      English  ...         363.204635        113.746621   \n",
       " 801   English, Mandarin, Spanish  ...         268.047808         76.271832   \n",
       " 844                      English  ...         100.654149         66.954149   \n",
       " 902                      English  ...          45.681062         38.934842   \n",
       " 1209              English, Hindi  ...         195.243411         55.483770   \n",
       " 1401                     English  ...         227.291591         40.891591   \n",
       " 1533             English, German  ...          27.890108          0.127259   \n",
       " 1573                     English  ...         512.715682        271.740675   \n",
       " 1611                     English  ...         132.675864        100.478608   \n",
       " 1612                     English  ...         131.457147         68.549695   \n",
       " 1759           English, Japanese  ...         433.305346        144.105346   \n",
       " 1827                     English  ...          80.708134         42.004346   \n",
       " 1838                     English  ...          67.925733         61.704055   \n",
       " 1945             English, French  ...         251.410631         77.047065   \n",
       " 1975                     English  ...          43.387638         21.277892   \n",
       " 2225             German, Turkish  ...          22.135934          0.288414   \n",
       " \n",
       "       Foreign_millions Release Month Date_parsed  Day_of_Year  \\\n",
       " 13          182.534404             6  1984-06-22          174   \n",
       " 17          187.941694             7  2010-07-01          182   \n",
       " 30          152.132751             7  2010-07-14          195   \n",
       " 68           50.117056             6  2010-06-04          155   \n",
       " 94            0.607906            10  2010-10-08          281   \n",
       " 129          18.657667             4  2010-04-30          120   \n",
       " 222         119.137302             6  2011-06-17          168   \n",
       " 229          76.553000            11  2011-11-23          327   \n",
       " 277          19.828461             3  2011-03-25           84   \n",
       " 317          17.840920             3  2011-03-11           70   \n",
       " 485           4.157767             8  2012-08-15          228   \n",
       " 489          10.481077             4  2012-04-13          104   \n",
       " 791         249.458014            12  2014-12-19          353   \n",
       " 801         191.775976             1  2015-01-16           16   \n",
       " 844          33.700000            10  2014-10-10          283   \n",
       " 902           6.746220             7  2014-07-02          183   \n",
       " 1209        139.759641             7  2016-07-01          183   \n",
       " 1401        186.400000             1  2018-01-12           12   \n",
       " 1533         27.762849             2  2018-02-09           40   \n",
       " 1573        240.975007            11  2018-11-09          313   \n",
       " 1611         32.197256             3  2018-03-09           68   \n",
       " 1612         62.907452             9  2018-09-21          264   \n",
       " 1759        289.200000             5  2019-05-10          130   \n",
       " 1827         38.703788             1  2019-01-11           11   \n",
       " 1838          6.221678            11  2019-11-22          326   \n",
       " 1945        174.363566             1  2020-01-17           17   \n",
       " 1975         22.109746            10  2020-10-09          283   \n",
       " 2225         21.847520            10  2021-10-14          287   \n",
       " \n",
       "      Revenue_prediction  Genre_Family  Rated_PG  \\\n",
       " 13           215.149322          True      True   \n",
       " 17           207.984796          True      True   \n",
       " 30           188.562111          True      True   \n",
       " 68           215.330625          True      True   \n",
       " 94            82.910524          True      True   \n",
       " 129          159.454252          True      True   \n",
       " 222          217.822808          True      True   \n",
       " 229          253.858002          True      True   \n",
       " 277           79.405256          True      True   \n",
       " 317           63.291188          True      True   \n",
       " 485          115.888649          True      True   \n",
       " 489          121.222896          True      True   \n",
       " 791          324.418445          True      True   \n",
       " 801          185.638981          True      True   \n",
       " 844           86.680672          True      True   \n",
       " 902          206.814912          True      True   \n",
       " 1209         206.814912          True      True   \n",
       " 1401         205.775508          True      True   \n",
       " 1533          92.228156          True      True   \n",
       " 1573         189.464512          True      True   \n",
       " 1611          62.294574          True      True   \n",
       " 1612          68.003136          True      True   \n",
       " 1759         181.133192          True      True   \n",
       " 1827         210.927320          True      True   \n",
       " 1838         249.359014          True      True   \n",
       " 1945         180.745546          True      True   \n",
       " 1975          86.680672          True      True   \n",
       " 2225          95.508982          True      True   \n",
       " \n",
       "                                              hover_info  \n",
       " 13    Title: The Karate Kid<br>Genre: Family<br>Rate...  \n",
       " 17    Title: The Last Airbender<br>Genre: Family<br>...  \n",
       " 30    Title: The Sorcerer's Apprentice<br>Genre: Fam...  \n",
       " 68    Title: Marmaduke<br>Genre: Family<br>Rated: PG...  \n",
       " 94    Title: Secretariat<br>Genre: Family<br>Rated: ...  \n",
       " 129   Title: Furry Vengeance<br>Genre: Family<br>Rat...  \n",
       " 222   Title: Mr. Popper's Penguins<br>Genre: Family<...  \n",
       " 229   Title: The Muppets<br>Genre: Family<br>Rated: ...  \n",
       " 277   Title: Diary of a Wimpy Kid: Rodrick Rules<br>...  \n",
       " 317   Title: Mars Needs Moms<br>Genre: Family<br>Rat...  \n",
       " 485   Title: The Odd Life of Timothy Green<br>Genre:...  \n",
       " 489   Title: The Three Stooges<br>Genre: Family<br>R...  \n",
       " 791   Title: Night at the Museum: Secret of the Tomb...  \n",
       " 801   Title: Paddington<br>Genre: Family<br>Rated: P...  \n",
       " 844   Title: Alexander and the Terrible, Horrible, N...  \n",
       " 902   Title: Earth to Echo<br>Genre: Family<br>Rated...  \n",
       " 1209  Title: The BFG<br>Genre: Family<br>Rated: PG<b...  \n",
       " 1401  Title: Paddington 2<br>Genre: Family<br>Rated:...  \n",
       " 1533  Title: Monster Family<br>Genre: Family<br>Rate...  \n",
       " 1573  Title: The Grinch<br>Genre: Family<br>Rated: P...  \n",
       " 1611  Title: A Wrinkle in Time<br>Genre: Family<br>R...  \n",
       " 1612  Title: The House with a Clock in Its Walls<br>...  \n",
       " 1759  Title: Pokémon: Detective Pikachu<br>Genre: Fa...  \n",
       " 1827  Title: A Dog's Way Home<br>Genre: Family<br>Ra...  \n",
       " 1838  Title: A Beautiful Day in the Neighborhood<br>...  \n",
       " 1945  Title: Dolittle<br>Genre: Family<br>Rated: PG<...  \n",
       " 1975  Title: The War with Grandpa<br>Genre: Family<b...  \n",
       " 2225  Title: School of Magical Animals<br>Genre: Fam...  \n",
       " \n",
       " [28 rows x 27 columns],\n",
       " LinearRegression(),\n",
       " PolynomialFeatures(degree=6, include_bias=False),\n",
       " Index(['day_poly_0', 'day_poly_1', 'day_poly_2', 'day_poly_3', 'day_poly_4',\n",
       "        'day_poly_5', 'Genre_Family', 'Rated_PG'],\n",
       "       dtype='object'))"
      ]
     },
     "execution_count": 27,
     "metadata": {},
     "output_type": "execute_result"
    }
   ],
   "source": [
    "polynomial_regression_genre_and_rated(6, df_clean, \"Family\", \"PG\", True, True, True)"
   ]
  },
  {
   "cell_type": "markdown",
   "id": "6a4da651",
   "metadata": {},
   "source": [
    "Summary:\n",
    "- Because the model using only day of year was not very accurate in predicting revenue, we decided to add the additional features of genre and MPAA rating\n",
    "- We saw that this did greatly increase $R^2$ and decrease MSE.\n",
    "- In the three examples above, there are two visualizations each.   \n",
    "    - The first visualization shows date of release vs worldwide revenue. The smooth curve represents the predictions. This graph is a good way to visualize the polynomial nature of the line. \n",
    "    - The second visualization shows how actual revenue compares to predicted revenue. The red diagonal line represents a perfect prediction. The closer the points are to the line, the more accurate the prediction. The creation of the predictions and the red prediction line are influenced by the day of release. "
   ]
  },
  {
   "cell_type": "markdown",
   "id": "115b7716",
   "metadata": {},
   "source": [
    "How can we interpret the graph of day of year vs worldwide revenue?\n",
    "\n",
    "First, we need to interpret the values on the X-axis. \n",
    "- Day of the year = 0 $\\,\\to\\,$ Date = January 1\n",
    "- Day of the year = 50 $\\,\\to\\,$ Date = February 15\n",
    "- Day of the year = 100 $\\,\\to\\,$ Date = April 10\n",
    "- Day of the year = 150 $\\,\\to\\,$ Date = May 30\n",
    "- Day of the year = 200 $\\,\\to\\,$ Date = July 19\n",
    "- Day of the year = 250 $\\,\\to\\,$ Date = September 6\n",
    "- Day of the year = 300 $\\,\\to\\,$ Date = October 27\n",
    "- Day of the year = 350 $\\,\\to\\,$ Date = December 16\n",
    "\n",
    "The peaks on all the graphs are around day 150 and day 325. These are significant and represent the well-known movie trends of summer blockbusters and holiday season hits. Day 150 is around the beginning of the summer and day 325 is during the holiday season. \n",
    "\n",
    "The main valley on all the graphs is around day 250. This is another date, around the beginning of September, represents the beginning of the school year and decrease in movie attendance. "
   ]
  },
  {
   "cell_type": "markdown",
   "id": "a760f3c3",
   "metadata": {},
   "source": [
    "Now we can evalute how our model performs and attempt to predict the revenue of a film based on the date of release. "
   ]
  },
  {
   "cell_type": "code",
   "execution_count": 28,
   "id": "9e4f5c80",
   "metadata": {},
   "outputs": [
    {
     "ename": "ValueError",
     "evalue": "too many values to unpack (expected 2)",
     "output_type": "error",
     "traceback": [
      "\u001b[0;31m---------------------------------------------------------------------------\u001b[0m",
      "\u001b[0;31mValueError\u001b[0m                                Traceback (most recent call last)",
      "Cell \u001b[0;32mIn[28], line 1\u001b[0m\n\u001b[0;32m----> 1\u001b[0m metrics, df \u001b[38;5;241m=\u001b[39m polynomial_regression_genre_and_rated(\u001b[38;5;241m6\u001b[39m, df_clean, \u001b[38;5;28;01mNone\u001b[39;00m, \u001b[38;5;28;01mNone\u001b[39;00m, \u001b[38;5;28;01mFalse\u001b[39;00m, \u001b[38;5;28;01mFalse\u001b[39;00m, \u001b[38;5;28;01mFalse\u001b[39;00m)\n\u001b[1;32m      2\u001b[0m residuals \u001b[38;5;241m=\u001b[39m df[\u001b[38;5;124m\"\u001b[39m\u001b[38;5;124mWorldwide_millions\u001b[39m\u001b[38;5;124m\"\u001b[39m] \u001b[38;5;241m-\u001b[39m df[\u001b[38;5;124m\"\u001b[39m\u001b[38;5;124mRevenue_prediction\u001b[39m\u001b[38;5;124m\"\u001b[39m]\n\u001b[1;32m      4\u001b[0m plt\u001b[38;5;241m.\u001b[39mscatter(df[\u001b[38;5;124m\"\u001b[39m\u001b[38;5;124mRevenue_prediction\u001b[39m\u001b[38;5;124m\"\u001b[39m], residuals, alpha\u001b[38;5;241m=\u001b[39m\u001b[38;5;241m0.6\u001b[39m)\n",
      "\u001b[0;31mValueError\u001b[0m: too many values to unpack (expected 2)"
     ]
    }
   ],
   "source": [
    "metrics, df = polynomial_regression_genre_and_rated(6, df_clean, None, None, False, False, False)\n",
    "residuals = df[\"Worldwide_millions\"] - df[\"Revenue_prediction\"]\n",
    "\n",
    "plt.scatter(df[\"Revenue_prediction\"], residuals, alpha=0.6)\n",
    "plt.axhline(0, color='red', linestyle='--')\n",
    "plt.xlabel(\"Predicted Revenue\")\n",
    "plt.ylabel(\"Residuals (Actual - Predicted)\")\n",
    "plt.title(\"Residuals vs. Predicted\")\n",
    "plt.grid(True)\n",
    "plt.show()"
   ]
  },
  {
   "cell_type": "code",
   "execution_count": null,
   "id": "ba2f653d",
   "metadata": {},
   "outputs": [
    {
     "name": "stdout",
     "output_type": "stream",
     "text": [
      "Residuals < 0: 1241\n",
      "Residuals > 0: 710\n"
     ]
    },
    {
     "data": {
      "image/png": "[encoded data removed]",
      "text/plain": [
       "<Figure size 640x480 with 1 Axes>"
      ]
     },
     "metadata": {},
     "output_type": "display_data"
    }
   ],
   "source": [
    "less_than_zero = (residuals < 0).sum()\n",
    "greater_than_zero = (residuals > 0).sum()\n",
    "\n",
    "print(f\"Residuals < 0: {less_than_zero}\")\n",
    "print(f\"Residuals > 0: {greater_than_zero}\")\n",
    "\n",
    "plt.hist(residuals, bins=30, edgecolor='black', color = \"dodgerblue\")\n",
    "plt.title(\"Histogram of Residuals\")\n",
    "plt.xlabel(\"Residual\")\n",
    "plt.ylabel(\"Frequency\")\n",
    "plt.grid(True)\n",
    "plt.show()"
   ]
  },
  {
   "cell_type": "code",
   "execution_count": null,
   "id": "48c2f2cc",
   "metadata": {},
   "outputs": [],
   "source": [
    "plt.figure(figsize=(8, 5))\n",
    "plt.plot(range(len(residuals)), residuals, marker='o', linestyle='-', alpha=0.7)\n",
    "plt.axhline(0, color='red', linestyle='--') \n",
    "plt.xlabel(\"Index\")\n",
    "plt.ylabel(\"Residuals\")\n",
    "plt.title(\"Residuals vs. Index (Autocorrelation Check)\")\n",
    "plt.show()"
   ]
  },
  {
   "cell_type": "code",
   "execution_count": null,
   "id": "e17e04e4",
   "metadata": {},
   "outputs": [],
   "source": [
    "# Using the model to make predictions: \n",
    "# Assume we are a movie studio who is working on a family movie that is rated PG and is coming out on day 180.\n",
    "\n",
    "def predict_new_movie(day_of_year, genre, rating, model, poly, feature_columns):\n",
    "    '''\n",
    "    Uses an existing model trained with genre and rating to predict worldwide revenue of a movie.\n",
    "\n",
    "    Inputs:\n",
    "        - day_of_year (int): int representing numeric day of the year\n",
    "        - genre (string): represents genre of movie\n",
    "        - rating (string): represents rating of movie\n",
    "        - model, poly: previously trained function and polynomial features\n",
    "        - feature_columns (list): included columns\n",
    "\n",
    "    Results:\n",
    "        prediction (float): predicted worldwide revenue\n",
    "    '''\n",
    "\n",
    "\n",
    "    # Step 1: Create new input DataFrame\n",
    "    new_movie = pd.DataFrame({\n",
    "        \"Day_of_Year\": [day_of_year],\n",
    "        \"Genre Random\": [genre],\n",
    "        \"Rated\": [rating]\n",
    "    })\n",
    "\n",
    "    # Step 2: One-hot encode Genre and Rated\n",
    "    new_encoded = pd.get_dummies(new_movie, columns=[\"Genre Random\", \"Rated\"], prefix=[\"Genre\", \"Rated\"])\n",
    "\n",
    "    # Step 3: Polynomial transform for Day_of_Year\n",
    "    day_poly = poly.transform(new_movie[[\"Day_of_Year\"]])\n",
    "    day_poly_df = pd.DataFrame(day_poly, columns=[f\"day_poly_{i}\" for i in range(day_poly.shape[1])])\n",
    "\n",
    "    # Step 4: Add any missing one-hot columns\n",
    "    for col in feature_columns:\n",
    "        if col not in day_poly_df.columns and col not in new_encoded.columns:\n",
    "            new_encoded[col] = 0\n",
    "\n",
    "    # Step 5: Combine and reindex to match feature order\n",
    "    full_input = pd.concat([day_poly_df, new_encoded], axis=1)\n",
    "    full_input = full_input.reindex(columns=feature_columns, fill_value=0)\n",
    "\n",
    "    # Step 6: Predict\n",
    "    prediction = model.predict(full_input)[0][0]\n",
    "    return prediction\n"
   ]
  },
  {
   "cell_type": "code",
   "execution_count": null,
   "id": "59a517ba",
   "metadata": {},
   "outputs": [
    {
     "name": "stdout",
     "output_type": "stream",
     "text": [
      "Genre: Family, Rating: PG\n",
      "Mean Squared Error (MSE): 5312.95\n",
      "R-squared (R²): 0.4840\n",
      "Predicted revenue for Family/PG movie on Day 180: $121.66M\n",
      "Predicted revenue for Family/PG movie on Day 250: $7.31M\n",
      "Predicted revenue for Family/PG movie on Day 330: $194.81M\n"
     ]
    }
   ],
   "source": [
    "# Train the model on \"Family\" & \"PG\" data\n",
    "(metrics, df_out, model, poly, feature_columns) = polynomial_regression_genre_and_rated(\n",
    "    degree=6,\n",
    "    dataframe=df_clean,\n",
    "    genre_filter=\"Family\",\n",
    "    rating_filter=\"PG\",\n",
    "    print_graph=False,\n",
    "    print_values=True,\n",
    "    interactive_plot=False\n",
    ")\n",
    "\n",
    "# Predict a new movie released on day 180\n",
    "predicted_revenue = predict_new_movie(\n",
    "    day_of_year=180,\n",
    "    genre=\"Family\",\n",
    "    rating=\"PG\",\n",
    "    model=model,\n",
    "    poly=poly,\n",
    "    feature_columns=feature_columns\n",
    ")\n",
    "\n",
    "print(f\"Predicted revenue for Family/PG movie on Day 180: ${predicted_revenue:.2f}M\")\n",
    "\n",
    "predicted_revenue = predict_new_movie(\n",
    "    day_of_year=250,\n",
    "    genre=\"Family\",\n",
    "    rating=\"PG\",\n",
    "    model=model,\n",
    "    poly=poly,\n",
    "    feature_columns=feature_columns\n",
    ")\n",
    "\n",
    "print(f\"Predicted revenue for Family/PG movie on Day 250: ${predicted_revenue:.2f}M\")\n",
    "\n",
    "predicted_revenue = predict_new_movie(\n",
    "    day_of_year=330,\n",
    "    genre=\"Family\",\n",
    "    rating=\"PG\",\n",
    "    model=model,\n",
    "    poly=poly,\n",
    "    feature_columns=feature_columns\n",
    ")\n",
    "\n",
    "print(f\"Predicted revenue for Family/PG movie on Day 330: ${predicted_revenue:.2f}M\")"
   ]
  },
  {
   "cell_type": "markdown",
   "id": "f76c90a8",
   "metadata": {},
   "source": [
    "How can we interpret these results?\n",
    "\n",
    "These results are very interesting and tell us a lot about how the time of release impacts success. In the code above, we created the model for Family movies rated PG. The movie released on day 330, around the holiday spike, had the greatest revenue. The movie released on the 180th day, around the summer blockbuster time, had the second greatest revenue. The movie released on day 250 is around the beginning of Semptember, when movie sales calm down as kids go back to school. This is represented in the low predicted worldwide revenue. "
   ]
  },
  {
   "cell_type": "markdown",
   "id": "0c450b21",
   "metadata": {},
   "source": [
    "Shortcoming of the model:\n",
    "\n",
    "The main problem with the model is that it does not account for the year. Different years are associated with different economic states in the world. One year, the economy could be booming, leaving consumers with excess money to go to theaters. Another year, the economy could be in a recession, decreasing movie sales. By using many years of data, we tried to find the best fitting line adjusting for economic state, but even then, it is still a shortcoming of the model. \n"
   ]
  },
  {
   "cell_type": "markdown",
   "id": "8ca7407b",
   "metadata": {},
   "source": [
    "### Polynomial Assumptions Check\n",
    "- Linearity assumption is likely violated as the graph of residuals vs. predicted show a pattern indicating that the model is less accurate at higher values. Still, the values are somewhat scattered so the model could still be somewhat accurate.\n",
    "- The heteroscedasticity assumption is also likely violated as the points seem to spread out slightly. This could be due to the fact that we are working with larger values. Thus, naturally leading to more variability because of the scale of the data. Another possibility for the variance are the features we choose.\n",
    "- The normality check shows that our residuals are slightly skewed right, violating the normality assuption. This means that our model could potentially underpredict certain values.\n",
    "- The independence assumption is violated as the Residuals vs. Index graph shows a strong systematic pattern of peaks and valleys. This implies that our model is not that reliable and that we could be missing some variables.\n",
    "- Overall, the violation assumptions suggest that our model is not the best predictor of movies. This tells us that time of year may not actually be a predictor of a success of the movie and that seasonal trends do not impact revenue as much as we thought. "
   ]
  }
 ],
 "metadata": {
  "kernelspec": {
   "display_name": "base",
   "language": "python",
   "name": "python3"
  },
  "language_info": {
   "codemirror_mode": {
    "name": "ipython",
    "version": 3
   },
   "file_extension": ".py",
   "mimetype": "text/x-python",
   "name": "python",
   "nbconvert_exporter": "python",
   "pygments_lexer": "ipython3",
   "version": "3.10.14"
  }
 },
 "nbformat": 4,
 "nbformat_minor": 5
}
